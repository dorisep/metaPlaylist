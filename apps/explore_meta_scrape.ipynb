{
 "cells": [
  {
   "cell_type": "code",
   "execution_count": 1,
   "id": "dc0d37ab",
   "metadata": {},
   "outputs": [],
   "source": [
    "import pandas as pd\n",
    "from pathlib import Path"
   ]
  },
  {
   "cell_type": "code",
   "execution_count": 2,
   "id": "bf2b1f21",
   "metadata": {},
   "outputs": [
    {
     "data": {
      "text/plain": [
       "Index(['artist', 'album', 'date', 'week_num', 'meta_score', 'user_score',\n",
       "       'pickle_name', 'album_img', 'crit_rev_num', 'user_rev_num',\n",
       "       'record_label', 'album_genre'],\n",
       "      dtype='object')"
      ]
     },
     "execution_count": 2,
     "metadata": {},
     "output_type": "execute_result"
    }
   ],
   "source": [
    "# read in csv file\n",
    "file = 'full_scrape_20yr'\n",
    "meta_df = pd.read_csv(file)\n",
    "# display columns for sql tables\n",
    "meta_df.columns\n"
   ]
  },
  {
   "cell_type": "code",
   "execution_count": 3,
   "id": "9af8f7f1",
   "metadata": {},
   "outputs": [
    {
     "data": {
      "text/html": [
       "<div>\n",
       "<style scoped>\n",
       "    .dataframe tbody tr th:only-of-type {\n",
       "        vertical-align: middle;\n",
       "    }\n",
       "\n",
       "    .dataframe tbody tr th {\n",
       "        vertical-align: top;\n",
       "    }\n",
       "\n",
       "    .dataframe thead th {\n",
       "        text-align: right;\n",
       "    }\n",
       "</style>\n",
       "<table border=\"1\" class=\"dataframe\">\n",
       "  <thead>\n",
       "    <tr style=\"text-align: right;\">\n",
       "      <th></th>\n",
       "      <th>artist</th>\n",
       "      <th>album</th>\n",
       "      <th>date</th>\n",
       "      <th>week_num</th>\n",
       "      <th>meta_score</th>\n",
       "      <th>user_score</th>\n",
       "      <th>album_img</th>\n",
       "      <th>crit_rev_num</th>\n",
       "      <th>user_rev_num</th>\n",
       "      <th>record_label</th>\n",
       "      <th>album_genre</th>\n",
       "    </tr>\n",
       "  </thead>\n",
       "  <tbody>\n",
       "    <tr>\n",
       "      <th>0</th>\n",
       "      <td>The Streets</td>\n",
       "      <td>Original Pirate Material</td>\n",
       "      <td>October 22, 2002</td>\n",
       "      <td>43</td>\n",
       "      <td>90</td>\n",
       "      <td>87</td>\n",
       "      <td>https://static.metacritic.com/images/products/...</td>\n",
       "      <td>25.0</td>\n",
       "      <td>87</td>\n",
       "      <td>Locked On / Vice</td>\n",
       "      <td>Electronic</td>\n",
       "    </tr>\n",
       "    <tr>\n",
       "      <th>1</th>\n",
       "      <td>Tom Waits</td>\n",
       "      <td>Alice</td>\n",
       "      <td>May 7, 2002</td>\n",
       "      <td>19</td>\n",
       "      <td>90</td>\n",
       "      <td>85</td>\n",
       "      <td>https://static.metacritic.com/images/products/...</td>\n",
       "      <td>20.0</td>\n",
       "      <td>86</td>\n",
       "      <td>Epitaph / Anti-</td>\n",
       "      <td>Rock</td>\n",
       "    </tr>\n",
       "    <tr>\n",
       "      <th>2</th>\n",
       "      <td>Queens of the Stone Age</td>\n",
       "      <td>Songs For The Deaf</td>\n",
       "      <td>August 27, 2002</td>\n",
       "      <td>35</td>\n",
       "      <td>89</td>\n",
       "      <td>89</td>\n",
       "      <td>https://static.metacritic.com/images/products/...</td>\n",
       "      <td>23.0</td>\n",
       "      <td>89</td>\n",
       "      <td>Interscope</td>\n",
       "      <td>Rock</td>\n",
       "    </tr>\n",
       "    <tr>\n",
       "      <th>3</th>\n",
       "      <td>Spoon</td>\n",
       "      <td>Kill The Moonlight</td>\n",
       "      <td>August 20, 2002</td>\n",
       "      <td>34</td>\n",
       "      <td>88</td>\n",
       "      <td>88</td>\n",
       "      <td>https://static.metacritic.com/images/products/...</td>\n",
       "      <td>21.0</td>\n",
       "      <td>88</td>\n",
       "      <td>Merge</td>\n",
       "      <td>Indie</td>\n",
       "    </tr>\n",
       "    <tr>\n",
       "      <th>4</th>\n",
       "      <td>Wilco</td>\n",
       "      <td>Yankee Hotel Foxtrot</td>\n",
       "      <td>April 23, 2002</td>\n",
       "      <td>17</td>\n",
       "      <td>87</td>\n",
       "      <td>89</td>\n",
       "      <td>https://static.metacritic.com/images/products/...</td>\n",
       "      <td>26.0</td>\n",
       "      <td>89</td>\n",
       "      <td>Nonesuch</td>\n",
       "      <td>Rock</td>\n",
       "    </tr>\n",
       "  </tbody>\n",
       "</table>\n",
       "</div>"
      ],
      "text/plain": [
       "                    artist                     album              date  \\\n",
       "0              The Streets  Original Pirate Material  October 22, 2002   \n",
       "1                Tom Waits                     Alice       May 7, 2002   \n",
       "2  Queens of the Stone Age        Songs For The Deaf   August 27, 2002   \n",
       "3                    Spoon        Kill The Moonlight   August 20, 2002   \n",
       "4                    Wilco      Yankee Hotel Foxtrot    April 23, 2002   \n",
       "\n",
       "   week_num  meta_score  user_score  \\\n",
       "0        43          90          87   \n",
       "1        19          90          85   \n",
       "2        35          89          89   \n",
       "3        34          88          88   \n",
       "4        17          87          89   \n",
       "\n",
       "                                           album_img  crit_rev_num  \\\n",
       "0  https://static.metacritic.com/images/products/...          25.0   \n",
       "1  https://static.metacritic.com/images/products/...          20.0   \n",
       "2  https://static.metacritic.com/images/products/...          23.0   \n",
       "3  https://static.metacritic.com/images/products/...          21.0   \n",
       "4  https://static.metacritic.com/images/products/...          26.0   \n",
       "\n",
       "   user_rev_num      record_label album_genre  \n",
       "0            87  Locked On / Vice  Electronic  \n",
       "1            86   Epitaph / Anti-        Rock  \n",
       "2            89        Interscope        Rock  \n",
       "3            88             Merge       Indie  \n",
       "4            89          Nonesuch        Rock  "
      ]
     },
     "execution_count": 3,
     "metadata": {},
     "output_type": "execute_result"
    }
   ],
   "source": [
    "# create dataframe without pickle name column\n",
    "meta_sql_df = meta_df.drop(columns=['pickle_name'])\n",
    "meta_sql_df.head()"
   ]
  },
  {
   "cell_type": "code",
   "execution_count": 4,
   "id": "77a276a5",
   "metadata": {},
   "outputs": [],
   "source": [
    "# create a column for just the year an album was created.\n",
    "meta_sql_df['album_year']=pd.to_datetime(meta_sql_df['date'])\n",
    "meta_sql_df['album_year'] = meta_sql_df['album_year'].dt.to_period('Y')\n",
    "meta_sql_df['album_year'] = meta_sql_df.astype({'album_year': 'int64'}).dtypes"
   ]
  },
  {
   "cell_type": "code",
   "execution_count": 5,
   "id": "9bea33fc",
   "metadata": {},
   "outputs": [
    {
     "data": {
      "text/plain": [
       "artist           object\n",
       "album            object\n",
       "date             object\n",
       "week_num          int64\n",
       "meta_score        int64\n",
       "user_score        int64\n",
       "album_img        object\n",
       "crit_rev_num    float64\n",
       "user_rev_num      int64\n",
       "record_label     object\n",
       "album_genre      object\n",
       "album_year       object\n",
       "dtype: object"
      ]
     },
     "execution_count": 5,
     "metadata": {},
     "output_type": "execute_result"
    }
   ],
   "source": [
    "meta_sql_df.dtypes\n"
   ]
  },
  {
   "cell_type": "code",
   "execution_count": 8,
   "id": "fce377d4",
   "metadata": {},
   "outputs": [],
   "source": [
    "from meta_db import create_meta_db\n",
    "import sqlite3"
   ]
  },
  {
   "cell_type": "code",
   "execution_count": 7,
   "id": "dccb2c11",
   "metadata": {},
   "outputs": [
    {
     "name": "stdout",
     "output_type": "stream",
     "text": [
      "table 1 created\n",
      "table 2 created\n",
      "table 3 created\n"
     ]
    }
   ],
   "source": [
    "create_meta_db()"
   ]
  },
  {
   "cell_type": "code",
   "execution_count": 11,
   "id": "38180f46",
   "metadata": {},
   "outputs": [],
   "source": [
    "con = sqlite3.connect(\"meta_music.db\")"
   ]
  },
  {
   "cell_type": "code",
   "execution_count": 10,
   "id": "44412e63",
   "metadata": {},
   "outputs": [],
   "source": [
    "meta_sql_df.to_sql(\"albums\", con, if_exists=\"replace\")\n",
    "\n",
    "con.close()\n",
    "\n"
   ]
  },
  {
   "cell_type": "code",
   "execution_count": 18,
   "id": "c44253e3",
   "metadata": {},
   "outputs": [
    {
     "name": "stdout",
     "output_type": "stream",
     "text": [
      "[]\n"
     ]
    }
   ],
   "source": [
    "try:\n",
    "    with con:\n",
    "        cur = con.cursor()\n",
    "        con.execute(\"select * from albums where album_year=:year\", {\"year\": \"2015\"})\n",
    "        print(cur.fetchall())\n",
    "\n",
    "except sqlite3.IntegrityError:\n",
    "    print(\"couldn't add Python twice\")"
   ]
  },
  {
   "cell_type": "code",
   "execution_count": null,
   "id": "55705458",
   "metadata": {},
   "outputs": [],
   "source": [
    "con.execute(\"create table lang (id integer primary key, name varchar unique)\")\n",
    "\n",
    "# Successful, con.commit() is called automatically afterwards\n",
    "with con:\n",
    "    con.execute(\"insert into lang(name) values (?)\", (\"Python\",))\n",
    "\n",
    "# con.rollback() is called after the with block finishes with an exception, the\n",
    "# exception is still raised and must be caught\n",
    "try:\n",
    "    with con:\n",
    "        con.execute(\"insert into lang(name) values (?)\", (\"Python\",))\n",
    "except sqlite3.IntegrityError:\n",
    "    print(\"couldn't add Python twice\")\n",
    "\n",
    "# Connection object used as context manager only commits or rollbacks transactions,\n",
    "# so the connection object should be closed manually\n",
    "con.close()\n",
    "\n",
    "cur = con.cursor()\n",
    "cur.execute(\"create table lang (name, first_appeared)\")\n",
    "\n",
    "# This is the qmark style:\n",
    "cur.execute(\"insert into lang values (?, ?)\", (\"C\", 1972))\n",
    "\n",
    "# The qmark style used with executemany():\n",
    "lang_list = [\n",
    "    (\"Fortran\", 1957),\n",
    "    (\"Python\", 1991),\n",
    "    (\"Go\", 2009),\n",
    "]\n",
    "cur.executemany(\"insert into lang values (?, ?)\", lang_list)\n",
    "\n",
    "# And this is the named style:\n",
    "cur.execute(\"select * from lang where first_appeared=:year\", {\"year\": 1972})\n",
    "print(cur.fetchall())\n",
    "\n",
    "con.close()"
   ]
  }
 ],
 "metadata": {
  "kernelspec": {
   "display_name": "Python 3",
   "language": "python",
   "name": "python3"
  },
  "language_info": {
   "codemirror_mode": {
    "name": "ipython",
    "version": 3
   },
   "file_extension": ".py",
   "mimetype": "text/x-python",
   "name": "python",
   "nbconvert_exporter": "python",
   "pygments_lexer": "ipython3",
   "version": "3.8.8"
  }
 },
 "nbformat": 4,
 "nbformat_minor": 5
}
