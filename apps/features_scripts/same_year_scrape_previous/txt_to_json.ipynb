{
 "cells": [
  {
   "cell_type": "code",
   "execution_count": 1,
   "id": "c1d928a0",
   "metadata": {},
   "outputs": [],
   "source": [
    "import json\n",
    "import os"
   ]
  },
  {
   "cell_type": "code",
   "execution_count": 3,
   "id": "78ba02f8",
   "metadata": {},
   "outputs": [],
   "source": [
    "filename = 'practice_attribute.txt'"
   ]
  },
  {
   "cell_type": "code",
   "execution_count": 4,
   "id": "6a164e46",
   "metadata": {},
   "outputs": [],
   "source": [
    "track_attributes_dict = {}"
   ]
  },
  {
   "cell_type": "code",
   "execution_count": 5,
   "id": "c7e47e4b",
   "metadata": {},
   "outputs": [
    {
     "ename": "SyntaxError",
     "evalue": "invalid syntax (<ipython-input-5-70a39d1cf54c>, line 1)",
     "output_type": "error",
     "traceback": [
      "\u001b[0;36m  File \u001b[0;32m\"<ipython-input-5-70a39d1cf54c>\"\u001b[0;36m, line \u001b[0;32m1\u001b[0m\n\u001b[0;31m    with open(../test/filename) as fh:\u001b[0m\n\u001b[0m              ^\u001b[0m\n\u001b[0;31mSyntaxError\u001b[0m\u001b[0;31m:\u001b[0m invalid syntax\n"
     ]
    }
   ],
   "source": [
    "with open(../test/filename) as fh:\n",
    "    for line in fh:\n",
    "        command, description = line.strip().splilt(none, 1)\n",
    "        dict[command] = description.strip()"
   ]
  },
  {
   "cell_type": "code",
   "execution_count": null,
   "id": "a0f4340b",
   "metadata": {},
   "outputs": [],
   "source": []
  }
 ],
 "metadata": {
  "kernelspec": {
   "display_name": "Python 3",
   "language": "python",
   "name": "python3"
  },
  "language_info": {
   "codemirror_mode": {
    "name": "ipython",
    "version": 3
   },
   "file_extension": ".py",
   "mimetype": "text/x-python",
   "name": "python",
   "nbconvert_exporter": "python",
   "pygments_lexer": "ipython3",
   "version": "3.8.8"
  }
 },
 "nbformat": 4,
 "nbformat_minor": 5
}
