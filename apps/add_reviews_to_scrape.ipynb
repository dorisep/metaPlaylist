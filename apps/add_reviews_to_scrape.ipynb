{
 "cells": [
  {
   "cell_type": "code",
   "execution_count": 1,
   "id": "901841a8",
   "metadata": {},
   "outputs": [],
   "source": [
    "import requests\n",
    "from bs4 import BeautifulSoup\n",
    "import pandas as pd\n",
    "import os\n",
    "import csv\n",
    "from datetime import datetime"
   ]
  },
  {
   "cell_type": "code",
   "execution_count": 2,
   "id": "6a0219dd",
   "metadata": {},
   "outputs": [],
   "source": [
    "file_path = os.path.join('..', 'data', 'clean_meta_scrape.csv')"
   ]
  },
  {
   "cell_type": "code",
   "execution_count": 10,
   "id": "56358513",
   "metadata": {},
   "outputs": [
    {
     "data": {
      "text/plain": [
       "['Pokey LaFarge',\n",
       " 'Hayden Thorpe',\n",
       " 'Coldplay',\n",
       " 'FINNEAS',\n",
       " 'Remi Wolf',\n",
       " 'Frank Carter & the Rattlesnakes',\n",
       " 'Pinkpantheress',\n",
       " 'Joy Crookes',\n",
       " 'The Beatles',\n",
       " 'FINNEAS',\n",
       " 'Remi Wolf',\n",
       " 'Pinkpantheress',\n",
       " 'Joy Crookes',\n",
       " 'The Beatles',\n",
       " 'Tom Morello',\n",
       " 'Lilly Hiatt',\n",
       " 'Jason Isbell and the 400 Unit',\n",
       " 'BadBadNotGood',\n",
       " 'Sam Fender',\n",
       " 'BadBadNotGood',\n",
       " 'Sam Fender',\n",
       " 'Howlin Rain',\n",
       " 'James Blake',\n",
       " 'Lala Lala',\n",
       " 'Matt Maltese',\n",
       " 'Porches',\n",
       " 'The World Is a Beautiful Place & I Am No Longer Afraid to Die',\n",
       " 'Shannon Lay',\n",
       " 'Don Toliver',\n",
       " 'Magdalena Bay',\n",
       " 'Kevin Morby',\n",
       " 'Ray BLK',\n",
       " 'The Body',\n",
       " 'The Specials',\n",
       " 'Illuminati Hotties',\n",
       " 'Tony Bennett',\n",
       " 'Brandi Carlile',\n",
       " 'Roger Taylor',\n",
       " 'Tirzah',\n",
       " 'Neil Young',\n",
       " 'Pond',\n",
       " 'Hovvdy',\n",
       " 'Meek Mill',\n",
       " 'Kedr Livanskiy',\n",
       " 'Strand of Oaks',\n",
       " 'Full of Hell',\n",
       " 'Ducks Ltd',\n",
       " 'Ada Lea',\n",
       " 'Angels & Airwaves',\n",
       " 'Various Artists',\n",
       " 'Sufjan Stevens',\n",
       " 'Jordan Rakei',\n",
       " 'Poppy',\n",
       " 'The Lathums',\n",
       " 'Nao',\n",
       " 'Mac McCaughan',\n",
       " 'Public Service Broadcasting',\n",
       " 'Mickey Guyton',\n",
       " 'Alessia Cara',\n",
       " 'Cold War Kids',\n",
       " 'Moor Mother',\n",
       " 'Lindsey Buckingham',\n",
       " 'Alexis Taylor',\n",
       " 'The Felice Brothers',\n",
       " 'Bob Dylan',\n",
       " 'Lil Nas X',\n",
       " 'José González',\n",
       " 'Employed to Serve',\n",
       " 'Carcass',\n",
       " 'Mild High Club',\n",
       " 'Fucked Up',\n",
       " 'RP Boo',\n",
       " 'Billy Idol',\n",
       " 'Injury Reserve',\n",
       " 'Kacey Musgraves',\n",
       " 'Injury Reserve',\n",
       " 'Kacey Musgraves',\n",
       " 'Low',\n",
       " 'Amyl and the Sniffers',\n",
       " 'Common',\n",
       " 'Various Artists',\n",
       " 'Sleigh Bells',\n",
       " 'Matthew E. White',\n",
       " 'Park Hye Jin',\n",
       " 'Saint Etienne',\n",
       " 'Sleigh Bells',\n",
       " 'Saint Etienne',\n",
       " 'Sleigh Bells',\n",
       " 'Saint Etienne',\n",
       " 'Spencer.',\n",
       " 'Colleen Green',\n",
       " 'Andrew W.K.',\n",
       " 'The Vaccines',\n",
       " 'J Balvin',\n",
       " 'Pat Metheny',\n",
       " 'The Stranglers',\n",
       " 'Sarah Davachi',\n",
       " 'The Bevis Frond',\n",
       " 'Baby Keem',\n",
       " 'We Were Promised Jetpacks',\n",
       " 'Elvis Costello & the Attractions',\n",
       " 'Heartless Bastards',\n",
       " 'Tommy Genesis',\n",
       " 'YEBBA',\n",
       " 'Samantha Fish',\n",
       " 'Little Simz',\n",
       " 'Manic Street Preachers',\n",
       " 'Iron Maiden',\n",
       " 'Drake',\n",
       " 'Lady Gaga',\n",
       " 'Suuns',\n",
       " 'Little Simz',\n",
       " 'Iron Maiden',\n",
       " 'DJ Seinfeld',\n",
       " 'Bad Waitress',\n",
       " 'Motorists',\n",
       " 'Kanye West',\n",
       " 'Chvrches',\n",
       " 'Big Red Machine',\n",
       " 'Indigo De Souza',\n",
       " 'The Bug',\n",
       " 'Halsey',\n",
       " 'Steve Gunn',\n",
       " 'Turnstile',\n",
       " 'Chubby and the Gang',\n",
       " 'Nite Jewel',\n",
       " 'Maisie Peters',\n",
       " 'Marisa Anderson',\n",
       " 'The Beach Boys',\n",
       " 'Goat',\n",
       " 'Breeze',\n",
       " 'Madi Diaz',\n",
       " 'Haiku Salut',\n",
       " 'Yann Tiersen',\n",
       " 'Thalia Zedek Band',\n",
       " 'Midwife',\n",
       " 'Midwife']"
      ]
     },
     "execution_count": 10,
     "metadata": {},
     "output_type": "execute_result"
    }
   ],
   "source": [
    "scrape_df = pd.read_csv('data.csv')  \n",
    "        \n",
    "artists     "
   ]
  },
  {
   "cell_type": "code",
   "execution_count": 11,
   "id": "ad804208",
   "metadata": {},
   "outputs": [
    {
     "name": "stdout",
     "output_type": "stream",
     "text": [
      "<span class=\"count\">\n",
      "<span class=\"separator\"> - </span>\n",
      "<span class=\"based\">based on</span>\n",
      "<a href=\"/music/the-myth-of-the-happily-ever-after/biffy-clyro/critic-reviews\">\n",
      "<span itemprop=\"reviewCount\">\n",
      "                                6\n",
      "                            </span> Critic Reviews                                            </a>\n",
      "</span>\n"
     ]
    }
   ],
   "source": [
    "reviews =[]\n",
    "\n",
    "for artist in artists:\n",
    "    artist = {}\n",
    "    url_for_reviews = f'https://www.metacritic.com/music/the-myth-of-the-happily-ever-after/{artist}'\n",
    "    user_agent = {'User-agent': 'Mozilla/5.0'}\n",
    "    # send response\n",
    "    response_reviews = requests.get(url_for_reviews, headers = user_agent)\n",
    "    # scrape website into variable to parse\n",
    "    soup_reviews = BeautifulSoup(response_reviews.text, 'html.parser')\n",
    "    img_soup = soup_reviews.find('meta', property=\"og:image\")\n",
    "    artist['image'] = img_soup['content']\n",
    "    num_rev=soup_reviews.find('span', itemprop=\"reviewCount\")\n",
    "    artist['crit_rev_num'] = num_rev.text.strip()\n",
    "    user_rev = soup_reviews.find('span', class_='count')\n",
    "    print(user_rev)\n",
    "#     artist['user_rev_num'] = \n",
    "#     artist['critic_rev_num']\n",
    "    break\n",
    "#     for link in soup_reviews.find_all('div', class_='product_image large_image'):\n",
    "#         print(link.meta.descendents)"
   ]
  },
  {
   "cell_type": "code",
   "execution_count": 51,
   "id": "ff892b4d",
   "metadata": {},
   "outputs": [
    {
     "data": {
      "text/plain": [
       "'6'"
      ]
     },
     "execution_count": 51,
     "metadata": {},
     "output_type": "execute_result"
    }
   ],
   "source": []
  },
  {
   "cell_type": "code",
   "execution_count": 7,
   "id": "beaac286",
   "metadata": {},
   "outputs": [],
   "source": [
    "# /html/body/div[1]/div[2]/div[1]/div[1]/div/div/div/div/div/div/div/div/div[1]/div[1]/div[3]/div/div[2]/div[2]/div[2]/ul/li[1]/span[1]"
   ]
  },
  {
   "cell_type": "code",
   "execution_count": 8,
   "id": "a7a4b5c7",
   "metadata": {},
   "outputs": [],
   "source": [
    "# <img alt=\"The Myth of the Happily Ever After Image\" class=\"product_image large_image\" src=\"https://static.metacritic.com/images/products/music/8/3f66ba56e8190a1a9f04fb37bdd986e8-98.jpg\"/>\n",
    "\n",
    "\n"
   ]
  },
  {
   "cell_type": "code",
   "execution_count": 31,
   "id": "7a757fe3",
   "metadata": {},
   "outputs": [
    {
     "name": "stdout",
     "output_type": "stream",
     "text": [
      "https://static.metacritic.com/images/products/music/8/3f66ba56e8190a1a9f04fb37bdd986e8-98.jpg\n"
     ]
    }
   ],
   "source": [
    "# Making a Connection with MongoClient\n",
    "client = MongoClient(\"mongodb://localhost:27018/\")\n",
    "# database\n",
    "db = client[\"stocks_database\"]\n",
    "# collection\n",
    "company= db[\"Company\"]"
   ]
  },
  {
   "cell_type": "code",
   "execution_count": null,
   "id": "d825086e",
   "metadata": {},
   "outputs": [],
   "source": []
  }
 ],
 "metadata": {
  "kernelspec": {
   "display_name": "Python 3",
   "language": "python",
   "name": "python3"
  },
  "language_info": {
   "codemirror_mode": {
    "name": "ipython",
    "version": 3
   },
   "file_extension": ".py",
   "mimetype": "text/x-python",
   "name": "python",
   "nbconvert_exporter": "python",
   "pygments_lexer": "ipython3",
   "version": "3.8.8"
  }
 },
 "nbformat": 4,
 "nbformat_minor": 5
}
