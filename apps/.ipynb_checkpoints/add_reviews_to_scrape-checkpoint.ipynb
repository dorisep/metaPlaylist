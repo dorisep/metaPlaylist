{
 "cells": [
  {
   "cell_type": "code",
   "execution_count": 1,
   "id": "c61c7b56",
   "metadata": {},
   "outputs": [],
   "source": [
    "import requests\n",
    "from bs4 import BeautifulSoup\n",
    "import pandas as pd\n",
    "import os\n",
    "import csv\n",
    "from datetime import datetime"
   ]
  },
  {
   "cell_type": "code",
   "execution_count": 2,
   "id": "aebe73fb",
   "metadata": {},
   "outputs": [],
   "source": [
    "file_path = os.path.join('..', 'data', 'clean_meta_scrape.csv')"
   ]
  },
  {
   "cell_type": "code",
   "execution_count": 3,
   "id": "17a6924d",
   "metadata": {},
   "outputs": [
    {
     "ename": "AttributeError",
     "evalue": "module 'csv' has no attribute 'dict_reader'",
     "output_type": "error",
     "traceback": [
      "\u001b[0;31m---------------------------------------------------------------------------\u001b[0m",
      "\u001b[0;31mAttributeError\u001b[0m                            Traceback (most recent call last)",
      "\u001b[0;32m<ipython-input-3-a4a307cb4bf6>\u001b[0m in \u001b[0;36m<module>\u001b[0;34m\u001b[0m\n\u001b[1;32m      1\u001b[0m \u001b[0;32mwith\u001b[0m \u001b[0mopen\u001b[0m\u001b[0;34m(\u001b[0m\u001b[0mfile_path\u001b[0m\u001b[0;34m)\u001b[0m \u001b[0;32mas\u001b[0m \u001b[0malbum_csv\u001b[0m\u001b[0;34m:\u001b[0m\u001b[0;34m\u001b[0m\u001b[0;34m\u001b[0m\u001b[0m\n\u001b[0;32m----> 2\u001b[0;31m     \u001b[0malbums_dict\u001b[0m \u001b[0;34m=\u001b[0m \u001b[0mcsv\u001b[0m\u001b[0;34m.\u001b[0m\u001b[0mdict_reader\u001b[0m\u001b[0;34m(\u001b[0m\u001b[0malbum_csv\u001b[0m\u001b[0;34m)\u001b[0m\u001b[0;34m\u001b[0m\u001b[0;34m\u001b[0m\u001b[0m\n\u001b[0m\u001b[1;32m      3\u001b[0m     \u001b[0mprint\u001b[0m\u001b[0;34m(\u001b[0m\u001b[0mreader\u001b[0m\u001b[0;34m[\u001b[0m\u001b[0;34m'artist'\u001b[0m\u001b[0;34m]\u001b[0m\u001b[0;34m)\u001b[0m\u001b[0;34m\u001b[0m\u001b[0;34m\u001b[0m\u001b[0m\n",
      "\u001b[0;31mAttributeError\u001b[0m: module 'csv' has no attribute 'dict_reader'"
     ]
    }
   ],
   "source": [
    "with open(file_path) as album_csv:\n",
    "    albums_dict = csv.dictreader(album_csv)\n",
    "    print(reader['artist'])"
   ]
  },
  {
   "cell_type": "code",
   "execution_count": null,
   "id": "2cf8d60c",
   "metadata": {},
   "outputs": [],
   "source": [
    "artists = albums_dict['artist']\n",
    "for artist in artists:\n",
    "    url_for_reviews = f'https://www.metacritic.com/music/the-myth-of-the-happily-ever-after/{artist}'\n",
    "    user_agent = {'User-agent': 'Mozilla/5.0'}\n",
    "    # send response\n",
    "    response_reviews = requests.get(url_for_reviews, headers = user_agent)\n",
    "    # scrape website into variable to parse\n",
    "    soup_reviews = BeautifulSoup(response_reviews.text, 'html.parser')\n",
    "    print(soup_reviews)\n",
    "playlist_app.create_playlist(week_num)\n"
   ]
  },
  {
   "cell_type": "code",
   "execution_count": null,
   "id": "b93dde01",
   "metadata": {},
   "outputs": [],
   "source": []
  },
  {
   "cell_type": "code",
   "execution_count": null,
   "id": "9654b6bb",
   "metadata": {},
   "outputs": [],
   "source": []
  }
 ],
 "metadata": {
  "kernelspec": {
   "display_name": "Python 3",
   "language": "python",
   "name": "python3"
  },
  "language_info": {
   "codemirror_mode": {
    "name": "ipython",
    "version": 3
   },
   "file_extension": ".py",
   "mimetype": "text/x-python",
   "name": "python",
   "nbconvert_exporter": "python",
   "pygments_lexer": "ipython3",
   "version": "3.8.8"
  }
 },
 "nbformat": 4,
 "nbformat_minor": 5
}
