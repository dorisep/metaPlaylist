{
 "cells": [
  {
   "cell_type": "code",
   "execution_count": 1,
   "metadata": {},
   "outputs": [],
   "source": [
    "#Dependencies\n",
    "import requests\n",
    "from bs4 import BeautifulSoup\n",
    "import pandas as pd\n",
    "from time import sleep"
   ]
  },
  {
   "cell_type": "code",
   "execution_count": 62,
   "metadata": {},
   "outputs": [],
   "source": [
    "# def meta_scrape(url):\n",
    "\n",
    "url = 'https://www.metacritic.com/browse/albums/score/metascore/year/filtered?page=3'\n",
    "\n",
    "# set user agent for header\n",
    "user_agent = {'User-agent': 'Mozilla/5.0'}\n",
    "# send response\n",
    "response = requests.get(url, headers = user_agent)\n",
    "# scrape website into variable to parse\n",
    "soup = BeautifulSoup(response.text, 'html.parser')\n",
    "\n",
    "#     create/initialize dictionary \n",
    "albums_dict = {'artist':[], 'album':[], 'date':[], 'meta_score': [], 'user_score_pos':[], 'user_score_mix':[], 'user_score_neg':[]}\n",
    "\n",
    "#     loop through soup and append to dict\n",
    "for artist in soup.find_all('td', class_='clamp-summary-wrap'):\n",
    "#         scrape album name\n",
    "    albums_dict['album'].append(artist.find('a', class_= 'title').text)\n",
    "    #         scrape artist name and strip white space and extra characters\n",
    "    albums_dict['artist'].append(artist.find('div', class_='artist').text.strip().strip(\"by \"))\n",
    "    #         scrape date\n",
    "    albums_dict['date'].append(artist.find('div', class_='clamp-details').find('span').text)\n",
    "    #         scrape meta_score\n",
    "    try:\n",
    "        albums_dict['meta_score'].append(int(artist.find('div', class_='metascore_w large release positive').text))  \n",
    "    except:\n",
    "        pass\n",
    "    try:\n",
    "        albums_dict['meta_score'].append(int(artist.find('div', class_='metascore_w large release mixed').text))  \n",
    "    except:\n",
    "        pass \n",
    "    try:\n",
    "        albums_dict['meta_score'].append(int(artist.find('div', class_='metascore_w large release negative').text))  \n",
    "    except:\n",
    "        pass \n",
    "    #         scrape user score and handle errors for tbd scores\n",
    "    try:\n",
    "        albums_dict['user_score_pos'].append(artist.find('div', class_='metascore_w user large release positive').text)  \n",
    "    except:\n",
    "        albums_dict['user_score_pos'].append(\"tbd\")\n",
    "    try:\n",
    "        albums_dict['user_score_mix'].append(artist.find('div', class_='metascore_w user large release mixed').text)  \n",
    "    except:\n",
    "        albums_dict['user_score_mix'].append(\"tbd\")\n",
    "    try:\n",
    "        albums_dict['user_score_neg'].append(artist.find('div', class_='metascore_w user large release negative').text)  \n",
    "    except:\n",
    "        albums_dict['user_score_neg'].append(\"tbd\")\n",
    "\n",
    "\n",
    "\n"
   ]
  },
  {
   "cell_type": "code",
   "execution_count": 63,
   "metadata": {},
   "outputs": [
    {
     "name": "stdout",
     "output_type": "stream",
     "text": [
      "[71, 71, 71, 71, 71, 71, 70, 70, 70, 70, 70, 70, 70, 70, 70, 70, 70, 69, 69, 69, 69, 68, 68, 68, 68, 68, 67, 66, 65, 64, 64, 64, 63, 63, 63, 62, 62, 62, 62, 60, 59, 59, 58, 57, 46]\n"
     ]
    }
   ],
   "source": [
    "meta = albums_dict.get('meta_score')\n",
    "pos = albums_dict.get('meta_score_pos')\n",
    "mix = albums_dict.get('meta_score_mix')\n",
    "neg = albums_dict.get('meta_score_neg')\n",
    "print(meta)"
   ]
  },
  {
   "cell_type": "code",
   "execution_count": 28,
   "metadata": {},
   "outputs": [
    {
     "name": "stdout",
     "output_type": "stream",
     "text": [
      "No! given variable is not an instance of type int\n"
     ]
    }
   ],
   "source": [
    "\n",
    "for _ in pos:\n",
    "    if isinstance(_, int):\n",
    "        \n",
    "if result :\n",
    "  print(\"Yes! given variable is an instance of type int\")\n",
    "else:\n",
    "  print(\"No! given variable is not an instance of type int\")"
   ]
  },
  {
   "cell_type": "code",
   "execution_count": 30,
   "metadata": {},
   "outputs": [
    {
     "name": "stdout",
     "output_type": "stream",
     "text": [
      "[<generator object <genexpr> at 0x7fa3bc7bfa50>]\n"
     ]
    }
   ],
   "source": [
    "print(meta_score)"
   ]
  },
  {
   "cell_type": "code",
   "execution_count": null,
   "metadata": {},
   "outputs": [],
   "source": [
    "url = 'https://www.metacritic.com/browse/albums/score/metascore/year/filtered?page=0'\n",
    "# set user agent for header\n",
    "user_agent = {'User-agent': 'Mozilla/5.0'}\n",
    "# send response\n",
    "response = requests.get(url, headers = user_agent)\n",
    "# scrape website into variable to parse\n",
    "soup = BeautifulSoup(response.text, 'html.parser')"
   ]
  },
  {
   "cell_type": "code",
   "execution_count": null,
   "metadata": {},
   "outputs": [],
   "source": [
    "page_num = soup.find('li', class_='page last_page').text\n"
   ]
  },
  {
   "cell_type": "code",
   "execution_count": null,
   "metadata": {},
   "outputs": [],
   "source": [
    "from time import sleep \n",
    "page_num = 4\n",
    "url = 'https://www.metacritic.com/browse/albums/score/metascore/year?/filtered?page='+ str(a)\n",
    "for a in range (1):\n",
    "    meta_scrape('https://www.metacritic.com/browse/albums/score/metascore/year?/filtered?page='+ str(a))\n",
    "    albums_dict"
   ]
  },
  {
   "cell_type": "code",
   "execution_count": null,
   "metadata": {},
   "outputs": [],
   "source": [
    "album_scores"
   ]
  },
  {
   "cell_type": "code",
   "execution_count": null,
   "metadata": {},
   "outputs": [],
   "source": [
    "meta_scrape('https://www.metacritic.com/browse/albums/score/metascore/year?/filtered?page=3')\n",
    "\n",
    "        \n"
   ]
  },
  {
   "cell_type": "code",
   "execution_count": null,
   "metadata": {},
   "outputs": [],
   "source": [
    "def get_all_client_id(file):\n",
    "    client_details = {}\n",
    "\n",
    "    with open(file, 'r') as f:\n",
    "        for line in f:\n",
    "            element = line.strip().split(',')\n",
    "            if element:\n",
    "                client_id, lat, long, *more = element\n",
    "                client_details[client_id] = {'lat': lat, 'long': long}\n",
    "\n",
    "    return client_details\n",
    "\n",
    "clients_dict = get_all_client_id(\"C:\\\\Users\\\\clients.txt\")"
   ]
  },
  {
   "cell_type": "code",
   "execution_count": null,
   "metadata": {},
   "outputs": [],
   "source": []
  },
  {
   "cell_type": "code",
   "execution_count": null,
   "metadata": {},
   "outputs": [],
   "source": []
  }
 ],
 "metadata": {
  "kernelspec": {
   "display_name": "Python 3",
   "language": "python",
   "name": "python3"
  },
  "language_info": {
   "codemirror_mode": {
    "name": "ipython",
    "version": 3
   },
   "file_extension": ".py",
   "mimetype": "text/x-python",
   "name": "python",
   "nbconvert_exporter": "python",
   "pygments_lexer": "ipython3",
   "version": "3.7.4"
  }
 },
 "nbformat": 4,
 "nbformat_minor": 2
}
