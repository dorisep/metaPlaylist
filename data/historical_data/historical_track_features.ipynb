{
 "cells": [
  {
   "cell_type": "code",
   "execution_count": 1,
   "metadata": {},
   "outputs": [],
   "source": [
    "import requests\n",
    "import os\n",
    "import base64\n",
    "import csv\n",
    "import json\n",
    "import re\n",
    "import pandas as pd\n",
    "from datetime import datetime\n",
    "from spotify_client import *\n",
    "from credentials.config import *"
   ]
  },
  {
   "cell_type": "code",
   "execution_count": 2,
   "metadata": {},
   "outputs": [],
   "source": [
    "def refresh_accesss_token():\n",
    "    client_creds = f'{client_id}:{client_secret}'\n",
    "    client_creds_b64 = base64.b64encode(client_creds.encode())\n",
    "\n",
    "    refresh_token_header = {\n",
    "        'Authorization' : f'Basic {client_creds_b64.decode()}'\n",
    "    }\n",
    "\n",
    "    # def refresh_playlist_token():\n",
    "    refresh_url =  'https://accounts.spotify.com/api/token'\n",
    "    refresh_params = {\n",
    "        'grant_type': 'refresh_token',\n",
    "        'refresh_token': f'{refresh_token}'    \n",
    "    }\n",
    "    r_token = requests.post(refresh_url, data=refresh_params, headers=refresh_token_header)\n",
    "    refresh_response = r_token.json()\n",
    "\n",
    "    access_token = refresh_response['access_token']\n",
    "\n",
    "    return access_token"
   ]
  },
  {
   "cell_type": "code",
   "execution_count": 4,
   "metadata": {},
   "outputs": [],
   "source": [
    "playlist_token = refresh_accesss_token()\n",
    "\n",
    "###\n",
    "# imported into tkinter as a default entry in for the scrape button\n",
    "# left here in case using the scrape without the gui\n",
    "# replace all cases of week_num with this funciton variable: get_week_num()\n",
    "###"
   ]
  },
  {
   "cell_type": "code",
   "execution_count": 5,
   "metadata": {},
   "outputs": [],
   "source": [
    "def get_track_features(track_uris):\n",
    "    playlist_token = refresh_accesss_token()\n",
    "    track_ids = [track[14:] for track in track_uris]\n",
    "    track_limit = 100 \n",
    "    # using list comprehension \n",
    "    batched_tracks = [track_ids[i * track_limit:(i + 1) * track_limit] for i in range((len(track_ids) + track_limit - 1) // track_limit)]  \n",
    "#     url = f'https://api.spotify.com/v1/audio-features?ids='\n",
    "#     =7ouMYWpwJ422jRcDASZB7P%2C4VqPOruhp5EdPBeR92t6lQ%2C2takcwOaAZWiXQijPHIx7B'\n",
    "    for batch in batched_tracks:\n",
    "        request_data =  \"%2C\".join(batch)\n",
    "        \n",
    "        url = f'https://api.spotify.com/v1/audio-features?ids={request_data}'\n",
    "        response = requests.get(\n",
    "            url,\n",
    "            headers = {\n",
    "            'Accept': 'application/json',\n",
    "            'Content-Type': 'application/json',\n",
    "            'Authorization': f'Bearer {playlist_token}'\n",
    "            })\n",
    "        # print(response.url)\n",
    "        b = response.json()\n",
    "        return print(b)"
   ]
  },
  {
   "cell_type": "code",
   "execution_count": 6,
   "metadata": {},
   "outputs": [],
   "source": [
    "def get_album_tracks(album_ids):\n",
    "    track_uris = []\n",
    "#     request_data = json.dumps(uris)\n",
    "    for album_id in album_ids:\n",
    "        query = f'https://api.spotify.com/v1/albums/{album_id}/tracks'\n",
    "        response = requests.get(\n",
    "            query,\n",
    "            headers = {\n",
    "                'Content-Type': 'application/json',\n",
    "                'Authorization': f'Bearer {playlist_token}'\n",
    "            })\n",
    "        response_json = response.json()\n",
    "        # print(response_json)\n",
    "        tracks = response_json['items']\n",
    "        for track in tracks:\n",
    "            track_uris.append(track['uri'])\n",
    "    get_track_features(track_uris)\n",
    "    return track_uris"
   ]
  },
  {
   "cell_type": "code",
   "execution_count": 12,
   "metadata": {},
   "outputs": [
    {
     "name": "stdout",
     "output_type": "stream",
     "text": [
      "Skeleton Tree\n"
     ]
    },
    {
     "ename": "KeyError",
     "evalue": "'albums'",
     "output_type": "error",
     "traceback": [
      "\u001b[0;31m---------------------------------------------------------------------------\u001b[0m",
      "\u001b[0;31mKeyError\u001b[0m                                  Traceback (most recent call last)",
      "\u001b[0;32m<ipython-input-12-94e4f21508d5>\u001b[0m in \u001b[0;36m<module>\u001b[0;34m\u001b[0m\n\u001b[1;32m     28\u001b[0m     \u001b[0;32mtry\u001b[0m\u001b[0;34m:\u001b[0m\u001b[0;34m\u001b[0m\u001b[0;34m\u001b[0m\u001b[0m\n\u001b[0;32m---> 29\u001b[0;31m         \u001b[0mprint\u001b[0m\u001b[0;34m(\u001b[0m\u001b[0mtemp\u001b[0m\u001b[0;34m[\u001b[0m\u001b[0;34m\"albums\"\u001b[0m\u001b[0;34m]\u001b[0m\u001b[0;34m[\u001b[0m\u001b[0;34m\"items\"\u001b[0m\u001b[0;34m]\u001b[0m\u001b[0;34m[\u001b[0m\u001b[0;36m0\u001b[0m\u001b[0;34m]\u001b[0m\u001b[0;34m[\u001b[0m\u001b[0;34m\"id\"\u001b[0m\u001b[0;34m]\u001b[0m\u001b[0;34m)\u001b[0m\u001b[0;34m\u001b[0m\u001b[0;34m\u001b[0m\u001b[0m\n\u001b[0m\u001b[1;32m     30\u001b[0m     \u001b[0;32mexcept\u001b[0m\u001b[0;34m:\u001b[0m\u001b[0;34m\u001b[0m\u001b[0;34m\u001b[0m\u001b[0m\n",
      "\u001b[0;31mKeyError\u001b[0m: 'albums'",
      "\nDuring handling of the above exception, another exception occurred:\n",
      "\u001b[0;31mKeyError\u001b[0m                                  Traceback (most recent call last)",
      "\u001b[0;32m<ipython-input-12-94e4f21508d5>\u001b[0m in \u001b[0;36m<module>\u001b[0;34m\u001b[0m\n\u001b[1;32m     29\u001b[0m         \u001b[0mprint\u001b[0m\u001b[0;34m(\u001b[0m\u001b[0mtemp\u001b[0m\u001b[0;34m[\u001b[0m\u001b[0;34m\"albums\"\u001b[0m\u001b[0;34m]\u001b[0m\u001b[0;34m[\u001b[0m\u001b[0;34m\"items\"\u001b[0m\u001b[0;34m]\u001b[0m\u001b[0;34m[\u001b[0m\u001b[0;36m0\u001b[0m\u001b[0;34m]\u001b[0m\u001b[0;34m[\u001b[0m\u001b[0;34m\"id\"\u001b[0m\u001b[0;34m]\u001b[0m\u001b[0;34m)\u001b[0m\u001b[0;34m\u001b[0m\u001b[0;34m\u001b[0m\u001b[0m\n\u001b[1;32m     30\u001b[0m     \u001b[0;32mexcept\u001b[0m\u001b[0;34m:\u001b[0m\u001b[0;34m\u001b[0m\u001b[0;34m\u001b[0m\u001b[0m\n\u001b[0;32m---> 31\u001b[0;31m         \u001b[0mprint\u001b[0m\u001b[0;34m(\u001b[0m\u001b[0mtemp\u001b[0m\u001b[0;34m[\u001b[0m\u001b[0;34m\"albums\"\u001b[0m\u001b[0;34m]\u001b[0m\u001b[0;34m[\u001b[0m\u001b[0;34m\"href\"\u001b[0m\u001b[0;34m]\u001b[0m\u001b[0;34m)\u001b[0m\u001b[0;34m\u001b[0m\u001b[0;34m\u001b[0m\u001b[0m\n\u001b[0m\u001b[1;32m     32\u001b[0m \u001b[0;31m#     try:\u001b[0m\u001b[0;34m\u001b[0m\u001b[0;34m\u001b[0m\u001b[0;34m\u001b[0m\u001b[0m\n\u001b[1;32m     33\u001b[0m \u001b[0;31m#         parse_album_ids = (temp[\"albums\"][\"items\"][0][\"id\"])\u001b[0m\u001b[0;34m\u001b[0m\u001b[0;34m\u001b[0m\u001b[0;34m\u001b[0m\u001b[0m\n",
      "\u001b[0;31mKeyError\u001b[0m: 'albums'"
     ]
    }
   ],
   "source": [
    "\n",
    "# def search_for_albums(csv_path):\n",
    "artists=[]\n",
    "albums=[]\n",
    "\n",
    "albums_not_found = {'artist': [], 'album': []}\n",
    "album_ids = set()\n",
    "album_list = []\n",
    "list_ids = []\n",
    "\n",
    "meta_16_df = pd.read_csv('albums_2016.csv')\n",
    "\n",
    "no_nan_df = meta_16_df.dropna()\n",
    "# no_nan_df.info()\n",
    "#   initialize spotify client\n",
    "spotify = SpotifyAPI(client_id, client_secret)\n",
    "# start timer\n",
    "\n",
    "for row in no_nan_df['album']:\n",
    "    al=row\n",
    "    \n",
    "#       trim album names of suffixes (e.g. .vol 1, [ep] etc.)\n",
    "    al_trim = re.split(',|\\[', al)\n",
    "\n",
    "#       search for album ids \n",
    "    temp = spotify.search({\"album\":al_trim[0]}, search_type=\"album\")\n",
    "#     parse_album_ids = (temp[\"albums\"][\"items\"][0][\"id\"])\n",
    "    print(al)\n",
    "    try:\n",
    "        print(temp[\"albums\"][\"items\"][0][\"id\"])\n",
    "    except:\n",
    "        print(temp[\"albums\"][\"href\"])\n",
    "#     try:\n",
    "#         parse_album_ids = (temp[\"albums\"][\"items\"][0][\"id\"])\n",
    "# #   create dicitonary for albums not found\n",
    "#     except:\n",
    "# #         albums_not_found['artist'].append(ar)\n",
    "#         albums_not_found['album'].append(al)\n",
    "#     album_list.append(al)\n",
    "#     list_ids.append(parse_album_ids)\n",
    "#     album_ids.add(parse_album_ids)\n",
    "\n",
    "# # return(get_album_tracks(album_ids))\n",
    "# print(len(album_ids))\n",
    "# print(len(list_ids))\n"
   ]
  },
  {
   "cell_type": "code",
   "execution_count": 14,
   "metadata": {},
   "outputs": [
    {
     "name": "stdout",
     "output_type": "stream",
     "text": [
      "{'artists': {'href': 'https://api.spotify.com/v1/search?query=artist%3AFrank+Ocean&type=artist&offset=0&limit=20', 'items': [{'external_urls': {'spotify': 'https://open.spotify.com/artist/2h93pZq0e7k5yf4dywlkpM'}, 'followers': {'href': None, 'total': 8269073}, 'genres': ['alternative r&b', 'hip hop', 'lgbtq+ hip hop', 'neo soul', 'pop'], 'href': 'https://api.spotify.com/v1/artists/2h93pZq0e7k5yf4dywlkpM', 'id': '2h93pZq0e7k5yf4dywlkpM', 'images': [{'height': 640, 'url': 'https://i.scdn.co/image/ab6761610000e5eb981acc715c9138566885a1e7', 'width': 640}, {'height': 320, 'url': 'https://i.scdn.co/image/ab67616100005174981acc715c9138566885a1e7', 'width': 320}, {'height': 160, 'url': 'https://i.scdn.co/image/ab6761610000f178981acc715c9138566885a1e7', 'width': 160}], 'name': 'Frank Ocean', 'popularity': 83, 'type': 'artist', 'uri': 'spotify:artist:2h93pZq0e7k5yf4dywlkpM'}, {'external_urls': {'spotify': 'https://open.spotify.com/artist/4RpWzrMf3lmcGxpyhOeBOc'}, 'followers': {'href': None, 'total': 219}, 'genres': [], 'href': 'https://api.spotify.com/v1/artists/4RpWzrMf3lmcGxpyhOeBOc', 'id': '4RpWzrMf3lmcGxpyhOeBOc', 'images': [{'height': 640, 'url': 'https://i.scdn.co/image/ab67616d0000b27391329b8581ade6e729a7b3cb', 'width': 640}, {'height': 300, 'url': 'https://i.scdn.co/image/ab67616d00001e0291329b8581ade6e729a7b3cb', 'width': 300}, {'height': 64, 'url': 'https://i.scdn.co/image/ab67616d0000485191329b8581ade6e729a7b3cb', 'width': 64}], 'name': 'Frank Ocean (IT)', 'popularity': 20, 'type': 'artist', 'uri': 'spotify:artist:4RpWzrMf3lmcGxpyhOeBOc'}, {'external_urls': {'spotify': 'https://open.spotify.com/artist/2cmVmgPbFXeASqyWGz5XZB'}, 'followers': {'href': None, 'total': 5}, 'genres': [], 'href': 'https://api.spotify.com/v1/artists/2cmVmgPbFXeASqyWGz5XZB', 'id': '2cmVmgPbFXeASqyWGz5XZB', 'images': [], 'name': 'Frank \"Francis\" Ocean', 'popularity': 0, 'type': 'artist', 'uri': 'spotify:artist:2cmVmgPbFXeASqyWGz5XZB'}, {'external_urls': {'spotify': 'https://open.spotify.com/artist/05Ig7FeWzQlnpt7BKbBjEf'}, 'followers': {'href': None, 'total': 35}, 'genres': [], 'href': 'https://api.spotify.com/v1/artists/05Ig7FeWzQlnpt7BKbBjEf', 'id': '05Ig7FeWzQlnpt7BKbBjEf', 'images': [{'height': 640, 'url': 'https://i.scdn.co/image/ab6761610000e5ebfe1a011bd16928934e74928b', 'width': 640}, {'height': 320, 'url': 'https://i.scdn.co/image/ab67616100005174fe1a011bd16928934e74928b', 'width': 320}, {'height': 160, 'url': 'https://i.scdn.co/image/ab6761610000f178fe1a011bd16928934e74928b', 'width': 160}], 'name': 'Frank Fish in the Ocean of the Machines', 'popularity': 0, 'type': 'artist', 'uri': 'spotify:artist:05Ig7FeWzQlnpt7BKbBjEf'}], 'limit': 20, 'next': None, 'offset': 0, 'previous': None, 'total': 4}}\n"
     ]
    }
   ],
   "source": [
    "# def search_for_albums(csv_path):\n",
    "artists=[]\n",
    "albums=[]\n",
    "\n",
    "albums_not_found = {'artist': [], 'album': []}\n",
    "album_ids = set()\n",
    "album_list = []\n",
    "list_ids = []\n",
    "\n",
    "meta_16_df = pd.read_csv('albums_2016.csv')\n",
    "\n",
    "no_nan_df = meta_16_df.dropna()\n",
    "# no_nan_df.info()\n",
    "#   initialize spotify client\n",
    "spotify = SpotifyAPI(client_id, client_secret)\n",
    "# start timer\n",
    "\n",
    "# for row in no_nan_df['album']:\n",
    "#     al=row\n",
    "    \n",
    "# #       trim album names of suffixes (e.g. .vol 1, [ep] etc.)\n",
    "#     al_trim = re.split(',|\\[', al)\n",
    "\n",
    "# #       search for album ids \n",
    "print(spotify.search({\"artist\":\"Frank Ocean\"}, search_type=\"artist\"))\n"
   ]
  },
  {
   "cell_type": "code",
   "execution_count": 57,
   "metadata": {},
   "outputs": [
    {
     "name": "stderr",
     "output_type": "stream",
     "text": [
      "<ipython-input-57-cdaaed30383e>:1: SettingWithCopyWarning: \n",
      "A value is trying to be set on a copy of a slice from a DataFrame.\n",
      "Try using .loc[row_indexer,col_indexer] = value instead\n",
      "\n",
      "See the caveats in the documentation: https://pandas.pydata.org/pandas-docs/stable/user_guide/indexing.html#returning-a-view-versus-a-copy\n",
      "  no_nan_df['album_ids'] = list_ids\n"
     ]
    }
   ],
   "source": [
    "no_nan_df['album_ids'] = list_ids"
   ]
  },
  {
   "cell_type": "code",
   "execution_count": 63,
   "metadata": {},
   "outputs": [
    {
     "data": {
      "text/html": [
       "<div>\n",
       "<style scoped>\n",
       "    .dataframe tbody tr th:only-of-type {\n",
       "        vertical-align: middle;\n",
       "    }\n",
       "\n",
       "    .dataframe tbody tr th {\n",
       "        vertical-align: top;\n",
       "    }\n",
       "\n",
       "    .dataframe thead th {\n",
       "        text-align: right;\n",
       "    }\n",
       "</style>\n",
       "<table border=\"1\" class=\"dataframe\">\n",
       "  <thead>\n",
       "    <tr style=\"text-align: right;\">\n",
       "      <th></th>\n",
       "      <th>artist</th>\n",
       "      <th>album</th>\n",
       "      <th>date</th>\n",
       "      <th>week_num</th>\n",
       "      <th>meta_score</th>\n",
       "      <th>user_score</th>\n",
       "      <th>album_ids</th>\n",
       "    </tr>\n",
       "  </thead>\n",
       "  <tbody>\n",
       "    <tr>\n",
       "      <th>19</th>\n",
       "      <td>Michael Kiwanuka</td>\n",
       "      <td>Love &amp; Hate</td>\n",
       "      <td>July 15, 2016</td>\n",
       "      <td>28</td>\n",
       "      <td>86</td>\n",
       "      <td>85</td>\n",
       "      <td>2Z9tU5T5Xad6u4rTGjZIy7</td>\n",
       "    </tr>\n",
       "    <tr>\n",
       "      <th>20</th>\n",
       "      <td>Maxwell</td>\n",
       "      <td>blackSUMMERS'night (2016)</td>\n",
       "      <td>July 1, 2016</td>\n",
       "      <td>26</td>\n",
       "      <td>86</td>\n",
       "      <td>84</td>\n",
       "      <td>2Z9tU5T5Xad6u4rTGjZIy7</td>\n",
       "    </tr>\n",
       "    <tr>\n",
       "      <th>50</th>\n",
       "      <td>Moodymann</td>\n",
       "      <td>DJ-Kicks</td>\n",
       "      <td>February 19, 2016</td>\n",
       "      <td>7</td>\n",
       "      <td>83</td>\n",
       "      <td>78</td>\n",
       "      <td>4eMhrXXUCKHXIaG2xZGjjO</td>\n",
       "    </tr>\n",
       "    <tr>\n",
       "      <th>137</th>\n",
       "      <td>Cory Hanson</td>\n",
       "      <td>The Unborn Capitalist From Limbo</td>\n",
       "      <td>November 11, 2016</td>\n",
       "      <td>45</td>\n",
       "      <td>81</td>\n",
       "      <td>0</td>\n",
       "      <td>21UK10eBA1kdKwRDON3q7H</td>\n",
       "    </tr>\n",
       "    <tr>\n",
       "      <th>138</th>\n",
       "      <td>Julia Jacklin</td>\n",
       "      <td>Don't Let the Kids Win</td>\n",
       "      <td>October 7, 2016</td>\n",
       "      <td>40</td>\n",
       "      <td>81</td>\n",
       "      <td>79</td>\n",
       "      <td>21UK10eBA1kdKwRDON3q7H</td>\n",
       "    </tr>\n",
       "    <tr>\n",
       "      <th>141</th>\n",
       "      <td>Thalia Zedek</td>\n",
       "      <td>Eve</td>\n",
       "      <td>August 19, 2016</td>\n",
       "      <td>33</td>\n",
       "      <td>81</td>\n",
       "      <td>0</td>\n",
       "      <td>0JGOiO34nwfUdDrD612dOp</td>\n",
       "    </tr>\n",
       "    <tr>\n",
       "      <th>206</th>\n",
       "      <td>Teenage Fanclub</td>\n",
       "      <td>Here</td>\n",
       "      <td>September 9, 2016</td>\n",
       "      <td>36</td>\n",
       "      <td>79</td>\n",
       "      <td>78</td>\n",
       "      <td>0wEnZguPw6l4Rcdgzcm5qv</td>\n",
       "    </tr>\n",
       "    <tr>\n",
       "      <th>267</th>\n",
       "      <td>Jackmaster</td>\n",
       "      <td>DJ-Kicks</td>\n",
       "      <td>July 8, 2016</td>\n",
       "      <td>27</td>\n",
       "      <td>78</td>\n",
       "      <td>0</td>\n",
       "      <td>4eMhrXXUCKHXIaG2xZGjjO</td>\n",
       "    </tr>\n",
       "    <tr>\n",
       "      <th>283</th>\n",
       "      <td>Bob Dylan</td>\n",
       "      <td>Fallen Angels</td>\n",
       "      <td>May 20, 2016</td>\n",
       "      <td>20</td>\n",
       "      <td>77</td>\n",
       "      <td>72</td>\n",
       "      <td>3gl2RguatWgKSoCuN1tSw9</td>\n",
       "    </tr>\n",
       "    <tr>\n",
       "      <th>284</th>\n",
       "      <td>Childish Gambino</td>\n",
       "      <td>\"Awaken, My Love!\"</td>\n",
       "      <td>December 2, 2016</td>\n",
       "      <td>48</td>\n",
       "      <td>77</td>\n",
       "      <td>85</td>\n",
       "      <td>3gl2RguatWgKSoCuN1tSw9</td>\n",
       "    </tr>\n",
       "    <tr>\n",
       "      <th>316</th>\n",
       "      <td>BadBadNotGood</td>\n",
       "      <td>IV</td>\n",
       "      <td>July 8, 2016</td>\n",
       "      <td>27</td>\n",
       "      <td>77</td>\n",
       "      <td>84</td>\n",
       "      <td>1MGEMBqM3v8OUM2glv7MSx</td>\n",
       "    </tr>\n",
       "    <tr>\n",
       "      <th>338</th>\n",
       "      <td>Mourn</td>\n",
       "      <td>Ha, Ha, He.</td>\n",
       "      <td>June 3, 2016</td>\n",
       "      <td>22</td>\n",
       "      <td>76</td>\n",
       "      <td>83</td>\n",
       "      <td>0JGOiO34nwfUdDrD612dOp</td>\n",
       "    </tr>\n",
       "    <tr>\n",
       "      <th>343</th>\n",
       "      <td>Alicia Keys</td>\n",
       "      <td>Here</td>\n",
       "      <td>November 4, 2016</td>\n",
       "      <td>44</td>\n",
       "      <td>76</td>\n",
       "      <td>85</td>\n",
       "      <td>0wEnZguPw6l4Rcdgzcm5qv</td>\n",
       "    </tr>\n",
       "    <tr>\n",
       "      <th>363</th>\n",
       "      <td>Black Mountain</td>\n",
       "      <td>IV</td>\n",
       "      <td>April 1, 2016</td>\n",
       "      <td>13</td>\n",
       "      <td>75</td>\n",
       "      <td>81</td>\n",
       "      <td>1MGEMBqM3v8OUM2glv7MSx</td>\n",
       "    </tr>\n",
       "    <tr>\n",
       "      <th>465</th>\n",
       "      <td>Supersilent</td>\n",
       "      <td>13</td>\n",
       "      <td>September 30, 2016</td>\n",
       "      <td>39</td>\n",
       "      <td>73</td>\n",
       "      <td>0</td>\n",
       "      <td>1zbH0DnpYxaoqTojXNLQb6</td>\n",
       "    </tr>\n",
       "    <tr>\n",
       "      <th>466</th>\n",
       "      <td>Slow Club</td>\n",
       "      <td>One Day All of This Won't Matter Any More</td>\n",
       "      <td>August 19, 2016</td>\n",
       "      <td>33</td>\n",
       "      <td>73</td>\n",
       "      <td>78</td>\n",
       "      <td>1zbH0DnpYxaoqTojXNLQb6</td>\n",
       "    </tr>\n",
       "    <tr>\n",
       "      <th>494</th>\n",
       "      <td>Jamie Lidell</td>\n",
       "      <td>Building a Beginning</td>\n",
       "      <td>October 14, 2016</td>\n",
       "      <td>41</td>\n",
       "      <td>72</td>\n",
       "      <td>0</td>\n",
       "      <td>3V4sro47Gv8FLSjQJO2PrR</td>\n",
       "    </tr>\n",
       "    <tr>\n",
       "      <th>495</th>\n",
       "      <td>Dawes</td>\n",
       "      <td>We're All Gonna Die</td>\n",
       "      <td>September 16, 2016</td>\n",
       "      <td>37</td>\n",
       "      <td>72</td>\n",
       "      <td>50</td>\n",
       "      <td>3V4sro47Gv8FLSjQJO2PrR</td>\n",
       "    </tr>\n",
       "  </tbody>\n",
       "</table>\n",
       "</div>"
      ],
      "text/plain": [
       "               artist                                      album  \\\n",
       "19   Michael Kiwanuka                                Love & Hate   \n",
       "20            Maxwell                  blackSUMMERS'night (2016)   \n",
       "50          Moodymann                                   DJ-Kicks   \n",
       "137       Cory Hanson           The Unborn Capitalist From Limbo   \n",
       "138     Julia Jacklin                     Don't Let the Kids Win   \n",
       "141      Thalia Zedek                                        Eve   \n",
       "206   Teenage Fanclub                                       Here   \n",
       "267        Jackmaster                                   DJ-Kicks   \n",
       "283         Bob Dylan                              Fallen Angels   \n",
       "284  Childish Gambino                         \"Awaken, My Love!\"   \n",
       "316     BadBadNotGood                                         IV   \n",
       "338             Mourn                                Ha, Ha, He.   \n",
       "343       Alicia Keys                                       Here   \n",
       "363    Black Mountain                                         IV   \n",
       "465       Supersilent                                         13   \n",
       "466         Slow Club  One Day All of This Won't Matter Any More   \n",
       "494      Jamie Lidell                       Building a Beginning   \n",
       "495             Dawes                        We're All Gonna Die   \n",
       "\n",
       "                   date  week_num  meta_score  user_score  \\\n",
       "19        July 15, 2016        28          86          85   \n",
       "20         July 1, 2016        26          86          84   \n",
       "50    February 19, 2016         7          83          78   \n",
       "137   November 11, 2016        45          81           0   \n",
       "138     October 7, 2016        40          81          79   \n",
       "141     August 19, 2016        33          81           0   \n",
       "206   September 9, 2016        36          79          78   \n",
       "267        July 8, 2016        27          78           0   \n",
       "283        May 20, 2016        20          77          72   \n",
       "284    December 2, 2016        48          77          85   \n",
       "316        July 8, 2016        27          77          84   \n",
       "338        June 3, 2016        22          76          83   \n",
       "343    November 4, 2016        44          76          85   \n",
       "363       April 1, 2016        13          75          81   \n",
       "465  September 30, 2016        39          73           0   \n",
       "466     August 19, 2016        33          73          78   \n",
       "494    October 14, 2016        41          72           0   \n",
       "495  September 16, 2016        37          72          50   \n",
       "\n",
       "                  album_ids  \n",
       "19   2Z9tU5T5Xad6u4rTGjZIy7  \n",
       "20   2Z9tU5T5Xad6u4rTGjZIy7  \n",
       "50   4eMhrXXUCKHXIaG2xZGjjO  \n",
       "137  21UK10eBA1kdKwRDON3q7H  \n",
       "138  21UK10eBA1kdKwRDON3q7H  \n",
       "141  0JGOiO34nwfUdDrD612dOp  \n",
       "206  0wEnZguPw6l4Rcdgzcm5qv  \n",
       "267  4eMhrXXUCKHXIaG2xZGjjO  \n",
       "283  3gl2RguatWgKSoCuN1tSw9  \n",
       "284  3gl2RguatWgKSoCuN1tSw9  \n",
       "316  1MGEMBqM3v8OUM2glv7MSx  \n",
       "338  0JGOiO34nwfUdDrD612dOp  \n",
       "343  0wEnZguPw6l4Rcdgzcm5qv  \n",
       "363  1MGEMBqM3v8OUM2glv7MSx  \n",
       "465  1zbH0DnpYxaoqTojXNLQb6  \n",
       "466  1zbH0DnpYxaoqTojXNLQb6  \n",
       "494  3V4sro47Gv8FLSjQJO2PrR  \n",
       "495  3V4sro47Gv8FLSjQJO2PrR  "
      ]
     },
     "execution_count": 63,
     "metadata": {},
     "output_type": "execute_result"
    }
   ],
   "source": [
    "duplicateRowsDF = no_nan_df[no_nan_df.duplicated(subset=[ 'album_ids'], keep=False)]\n",
    "duplicateRowsDF"
   ]
  },
  {
   "cell_type": "code",
   "execution_count": 55,
   "metadata": {},
   "outputs": [
    {
     "name": "stdout",
     "output_type": "stream",
     "text": [
      "['DJ-Kicks', 'Here', 'IV']\n"
     ]
    }
   ],
   "source": [
    "stars = []\n",
    "\n",
    "for row in no_nan_df['artist']:\n",
    "    stars.append(row)\n",
    "\n",
    "slim_shadies = [x for n, x in enumerate(album_list) if x in album_list[:n]]\n",
    "print(slim_shadies)"
   ]
  },
  {
   "cell_type": "code",
   "execution_count": 56,
   "metadata": {},
   "outputs": [
    {
     "name": "stdout",
     "output_type": "stream",
     "text": [
      "['DJ-Kicks', 'Here', 'IV']\n"
     ]
    }
   ],
   "source": [
    "albumed = []\n",
    "for row in no_nan_df['album']:\n",
    "    albumed.append(row)\n",
    "    \n",
    "duped = [x for n, x in enumerate(albumed) if x in albumed[:n]]\n",
    "print(duped)"
   ]
  },
  {
   "cell_type": "code",
   "execution_count": 54,
   "metadata": {},
   "outputs": [
    {
     "name": "stdout",
     "output_type": "stream",
     "text": [
      "['DJ-Kicks', 'Here', 'IV']\n"
     ]
    }
   ],
   "source": []
  },
  {
   "cell_type": "code",
   "execution_count": 48,
   "metadata": {},
   "outputs": [
    {
     "name": "stdout",
     "output_type": "stream",
     "text": [
      "['2Z9tU5T5Xad6u4rTGjZIy7', '21UK10eBA1kdKwRDON3q7H', '4eMhrXXUCKHXIaG2xZGjjO', '3gl2RguatWgKSoCuN1tSw9', '0JGOiO34nwfUdDrD612dOp', '0wEnZguPw6l4Rcdgzcm5qv', '1MGEMBqM3v8OUM2glv7MSx', '1zbH0DnpYxaoqTojXNLQb6', '3V4sro47Gv8FLSjQJO2PrR']\n"
     ]
    }
   ],
   "source": [
    "\n",
    "dupes = [x for n, x in enumerate(list_ids) if x in list_ids[:n]]\n",
    "print(dupes)"
   ]
  },
  {
   "cell_type": "code",
   "execution_count": null,
   "metadata": {},
   "outputs": [],
   "source": []
  },
  {
   "cell_type": "code",
   "execution_count": 50,
   "metadata": {},
   "outputs": [
    {
     "name": "stdout",
     "output_type": "stream",
     "text": [
      "[1, 9]\n"
     ]
    }
   ],
   "source": [
    "myList = [1,9,1,9,8,3,7,4]\n",
    "samesies = [x for n, x in enumerate(myList) if x in myList[:n]]\n",
    "print(samesies)"
   ]
  },
  {
   "cell_type": "code",
   "execution_count": 24,
   "metadata": {},
   "outputs": [
    {
     "name": "stdout",
     "output_type": "stream",
     "text": [
      "489\n"
     ]
    }
   ],
   "source": [
    "print(len(set(list_ids)))"
   ]
  },
  {
   "cell_type": "code",
   "execution_count": 21,
   "metadata": {},
   "outputs": [
    {
     "name": "stdout",
     "output_type": "stream",
     "text": [
      "blackSUMMERS'night (2016)\n"
     ]
    }
   ],
   "source": [
    "for albums in albums_not_found['album']:\n",
    "    print(albums)"
   ]
  },
  {
   "cell_type": "code",
   "execution_count": 43,
   "metadata": {},
   "outputs": [],
   "source": [
    "if meta_16_df.duplicated(subset=['album'])is True:\n",
    "    print(meta_16_df.duplicated['artist'])"
   ]
  },
  {
   "cell_type": "code",
   "execution_count": 30,
   "metadata": {},
   "outputs": [
    {
     "name": "stdout",
     "output_type": "stream",
     "text": [
      "<class 'pandas.core.frame.DataFrame'>\n",
      "Int64Index: 498 entries, 0 to 498\n",
      "Data columns (total 6 columns):\n",
      " #   Column      Non-Null Count  Dtype \n",
      "---  ------      --------------  ----- \n",
      " 0   artist      498 non-null    object\n",
      " 1   album       498 non-null    object\n",
      " 2   date        498 non-null    object\n",
      " 3   week_num    498 non-null    int64 \n",
      " 4   meta_score  498 non-null    int64 \n",
      " 5   user_score  498 non-null    int64 \n",
      "dtypes: int64(3), object(3)\n",
      "memory usage: 27.2+ KB\n"
     ]
    }
   ],
   "source": [
    "no_nan_df.info()"
   ]
  },
  {
   "cell_type": "code",
   "execution_count": null,
   "metadata": {},
   "outputs": [],
   "source": [
    "def add_tracks_to_playlist(week_num, playlist_id):\n",
    "    track_uris = [track for track in search_for_albums(week_num, csv_path)]\n",
    "    track_limit = 100 \n",
    "    # using list comprehension \n",
    "    batched_tracks = [track_uris[i * track_limit:(i + 1) * track_limit] for i in range((len(track_uris) + track_limit - 1) // track_limit)]  \n",
    "    url = f'https://api.spotify.com/v1/playlists/{playlist_id}/tracks'\n",
    "\n",
    "    for batch in batched_tracks:\n",
    "\n",
    "        request_data = json.dumps(batch)\n",
    "\n",
    "        requests.post(\n",
    "            url,\n",
    "            data=request_data,\n",
    "            headers = {\n",
    "            'Content-Type': 'application/json',\n",
    "            'Authorization': f'Bearer {playlist_token}'\n",
    "            })\n",
    "    return"
   ]
  },
  {
   "cell_type": "code",
   "execution_count": null,
   "metadata": {},
   "outputs": [],
   "source": []
  },
  {
   "cell_type": "code",
   "execution_count": null,
   "metadata": {},
   "outputs": [],
   "source": [
    "def create_playlist(week_num):\n",
    "    print(week_num)\n",
    "    # week_num = get_week_num()\n",
    "    request_body = json.dumps({\n",
    "        'name': f'2021-week {week_num} scrape',\n",
    "        'description': f'metacritic rated albums for the {week_num}th of the year',\n",
    "        'public': True\n",
    "    })\n",
    "    url = f'https://api.spotify.com/v1/users/{spotify_user_id}/playlists'\n",
    "\n",
    "\n",
    "    response = requests.post(\n",
    "        url,\n",
    "        data = request_body,\n",
    "        headers = {\n",
    "            'Content-Type': 'application/json',\n",
    "            'Authorization': f'Bearer {playlist_token}'\n",
    "\n",
    "    })\n",
    "    response_json = response.json()\n",
    "#     print(response_json)\n",
    "    playlist_id = (response_json['id'])\n",
    "\n",
    "    return add_tracks_to_playlist(week_num, playlist_id)"
   ]
  }
 ],
 "metadata": {
  "kernelspec": {
   "display_name": "Python 3",
   "language": "python",
   "name": "python3"
  },
  "language_info": {
   "codemirror_mode": {
    "name": "ipython",
    "version": 3
   },
   "file_extension": ".py",
   "mimetype": "text/x-python",
   "name": "python",
   "nbconvert_exporter": "python",
   "pygments_lexer": "ipython3",
   "version": "3.8.5"
  }
 },
 "nbformat": 4,
 "nbformat_minor": 5
}
