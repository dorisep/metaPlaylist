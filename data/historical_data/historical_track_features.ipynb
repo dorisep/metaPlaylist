{
 "cells": [
  {
   "cell_type": "code",
   "execution_count": 1,
   "id": "94d462b6",
   "metadata": {},
   "outputs": [],
   "source": [
    "import requests\n",
    "import os\n",
    "import base64\n",
    "import csv\n",
    "import json\n",
    "import re\n",
    "import pandas as pd\n",
    "from datetime import datetime\n",
    "from spotify_client import *\n",
    "from credentials.config import *"
   ]
  },
  {
   "cell_type": "code",
   "execution_count": 3,
   "id": "b01df643",
   "metadata": {},
   "outputs": [],
   "source": [
    "def refresh_accesss_token():\n",
    "    client_creds = f'{client_id}:{client_secret}'\n",
    "    client_creds_b64 = base64.b64encode(client_creds.encode())\n",
    "\n",
    "    refresh_token_header = {\n",
    "        'Authorization' : f'Basic {client_creds_b64.decode()}'\n",
    "    }\n",
    "\n",
    "    # def refresh_playlist_token():\n",
    "    refresh_url =  'https://accounts.spotify.com/api/token'\n",
    "    refresh_params = {\n",
    "        'grant_type': 'refresh_token',\n",
    "        'refresh_token': f'{refresh_token}'    \n",
    "    }\n",
    "    r_token = requests.post(refresh_url, data=refresh_params, headers=refresh_token_header)\n",
    "    refresh_response = r_token.json()\n",
    "\n",
    "    access_token = refresh_response['access_token']\n",
    "\n",
    "    return access_token"
   ]
  },
  {
   "cell_type": "code",
   "execution_count": 4,
   "id": "5ff52039",
   "metadata": {},
   "outputs": [],
   "source": [
    "playlist_token = refresh_accesss_token()\n",
    "\n",
    "###\n",
    "# imported into tkinter as a default entry in for the scrape button\n",
    "# left here in case using the scrape without the gui\n",
    "# replace all cases of week_num with this funciton variable: get_week_num()\n",
    "###"
   ]
  },
  {
   "cell_type": "code",
   "execution_count": 5,
   "id": "98d4351c",
   "metadata": {},
   "outputs": [],
   "source": [
    "def get_track_features(track_uris):\n",
    "    playlist_token = refresh_accesss_token()\n",
    "    track_ids = [track[14:] for track in track_uris]\n",
    "    track_limit = 100 \n",
    "    # using list comprehension \n",
    "    batched_tracks = [track_ids[i * track_limit:(i + 1) * track_limit] for i in range((len(track_ids) + track_limit - 1) // track_limit)]  \n",
    "#     url = f'https://api.spotify.com/v1/audio-features?ids='\n",
    "#     =7ouMYWpwJ422jRcDASZB7P%2C4VqPOruhp5EdPBeR92t6lQ%2C2takcwOaAZWiXQijPHIx7B'\n",
    "    for batch in batched_tracks:\n",
    "        request_data =  \"%2C\".join(batch)\n",
    "        \n",
    "        url = f'https://api.spotify.com/v1/audio-features?ids={request_data}'\n",
    "        response = requests.get(\n",
    "            url,\n",
    "            headers = {\n",
    "            'Accept': 'application/json',\n",
    "            'Content-Type': 'application/json',\n",
    "            'Authorization': f'Bearer {playlist_token}'\n",
    "            })\n",
    "        # print(response.url)\n",
    "        b = response.json()\n",
    "        return print(b)"
   ]
  },
  {
   "cell_type": "code",
   "execution_count": 6,
   "id": "c4cac90d",
   "metadata": {},
   "outputs": [],
   "source": [
    "def get_album_tracks(album_ids):\n",
    "    track_uris = []\n",
    "#     request_data = json.dumps(uris)\n",
    "    for album_id in album_ids:\n",
    "        query = f'https://api.spotify.com/v1/albums/{album_id}/tracks'\n",
    "        response = requests.get(\n",
    "            query,\n",
    "            headers = {\n",
    "                'Content-Type': 'application/json',\n",
    "                'Authorization': f'Bearer {playlist_token}'\n",
    "            })\n",
    "        response_json = response.json()\n",
    "        # print(response_json)\n",
    "        tracks = response_json['items']\n",
    "        for track in tracks:\n",
    "            track_uris.append(track['uri'])\n",
    "    get_track_features(track_uris)\n",
    "    return track_uris"
   ]
  },
  {
   "cell_type": "code",
   "execution_count": 15,
   "id": "1c9709af",
   "metadata": {},
   "outputs": [
    {
     "name": "stdout",
     "output_type": "stream",
     "text": [
      "489\n"
     ]
    }
   ],
   "source": [
    "# def search_for_albums(csv_path):\n",
    "artists=[]\n",
    "albums=[]\n",
    "\n",
    "albums_not_found = {'artist': [], 'album': []}\n",
    "album_ids = set()\n",
    "\n",
    "\n",
    "meta_16_df = pd.read_csv('albums_2016.csv')\n",
    "no_nan_df = meta_16_df.dropna()\n",
    "#   initialize spotify client\n",
    "spotify = SpotifyAPI(client_id, client_secret)\n",
    "\n",
    "for row in no_nan_df['album']:\n",
    "    al=row\n",
    "#       trim album names of suffixes (e.g. .vol 1, [ep] etc.)\n",
    "    al_trim = re.split(',|\\[', al)\n",
    "\n",
    "#       search for album ids \n",
    "    temp = spotify.search({\"album\":al_trim[0]}, search_type=\"album\")\n",
    "    try:\n",
    "        parse_album_ids = (temp[\"albums\"][\"items\"][0][\"id\"])\n",
    "#   create dicitonary for albums not found\n",
    "    except:\n",
    "#         albums_not_found['artist'].append(ar)\n",
    "    albums_not_found['album'].append(al)\n",
    "    album_ids.add(parse_album_ids)\n",
    "# return(get_album_tracks(album_ids))\n",
    "print(len(album_ids))"
   ]
  },
  {
   "cell_type": "code",
   "execution_count": 22,
   "id": "c56a8965",
   "metadata": {},
   "outputs": [
    {
     "name": "stdout",
     "output_type": "stream",
     "text": [
      "blackSUMMERS'night (2016)\n",
      "Don't Let the Kids Win\n",
      "\"Awaken, My Love!\"\n",
      "One Day All of This Won't Matter Any More\n",
      "We're All Gonna Die\n"
     ]
    }
   ],
   "source": [
    "for albums in albums_not_found['album']:\n",
    "    print(albums)"
   ]
  },
  {
   "cell_type": "code",
   "execution_count": 16,
   "id": "a137c495",
   "metadata": {},
   "outputs": [
    {
     "name": "stdout",
     "output_type": "stream",
     "text": [
      "<class 'pandas.core.frame.DataFrame'>\n",
      "Int64Index: 498 entries, 0 to 498\n",
      "Data columns (total 6 columns):\n",
      " #   Column      Non-Null Count  Dtype \n",
      "---  ------      --------------  ----- \n",
      " 0   artist      498 non-null    object\n",
      " 1   album       498 non-null    object\n",
      " 2   date        498 non-null    object\n",
      " 3   week_num    498 non-null    int64 \n",
      " 4   meta_score  498 non-null    int64 \n",
      " 5   user_score  498 non-null    int64 \n",
      "dtypes: int64(3), object(3)\n",
      "memory usage: 27.2+ KB\n"
     ]
    }
   ],
   "source": [
    "no_nan_df.info()"
   ]
  },
  {
   "cell_type": "code",
   "execution_count": null,
   "id": "7122f36b",
   "metadata": {},
   "outputs": [],
   "source": [
    "def add_tracks_to_playlist(week_num, playlist_id):\n",
    "    track_uris = [track for track in search_for_albums(week_num, csv_path)]\n",
    "    track_limit = 100 \n",
    "    # using list comprehension \n",
    "    batched_tracks = [track_uris[i * track_limit:(i + 1) * track_limit] for i in range((len(track_uris) + track_limit - 1) // track_limit)]  \n",
    "    url = f'https://api.spotify.com/v1/playlists/{playlist_id}/tracks'\n",
    "\n",
    "    for batch in batched_tracks:\n",
    "\n",
    "        request_data = json.dumps(batch)\n",
    "\n",
    "        requests.post(\n",
    "            url,\n",
    "            data=request_data,\n",
    "            headers = {\n",
    "            'Content-Type': 'application/json',\n",
    "            'Authorization': f'Bearer {playlist_token}'\n",
    "            })\n",
    "    return"
   ]
  },
  {
   "cell_type": "code",
   "execution_count": null,
   "id": "753c044a",
   "metadata": {},
   "outputs": [],
   "source": []
  },
  {
   "cell_type": "code",
   "execution_count": null,
   "id": "8540669a",
   "metadata": {},
   "outputs": [],
   "source": [
    "def create_playlist(week_num):\n",
    "    print(week_num)\n",
    "    # week_num = get_week_num()\n",
    "    request_body = json.dumps({\n",
    "        'name': f'2021-week {week_num} scrape',\n",
    "        'description': f'metacritic rated albums for the {week_num}th of the year',\n",
    "        'public': True\n",
    "    })\n",
    "    url = f'https://api.spotify.com/v1/users/{spotify_user_id}/playlists'\n",
    "\n",
    "\n",
    "    response = requests.post(\n",
    "        url,\n",
    "        data = request_body,\n",
    "        headers = {\n",
    "            'Content-Type': 'application/json',\n",
    "            'Authorization': f'Bearer {playlist_token}'\n",
    "\n",
    "    })\n",
    "    response_json = response.json()\n",
    "#     print(response_json)\n",
    "    playlist_id = (response_json['id'])\n",
    "\n",
    "    return add_tracks_to_playlist(week_num, playlist_id)"
   ]
  }
 ],
 "metadata": {
  "kernelspec": {
   "display_name": "Python 3",
   "language": "python",
   "name": "python3"
  },
  "language_info": {
   "codemirror_mode": {
    "name": "ipython",
    "version": 3
   },
   "file_extension": ".py",
   "mimetype": "text/x-python",
   "name": "python",
   "nbconvert_exporter": "python",
   "pygments_lexer": "ipython3",
   "version": "3.8.8"
  }
 },
 "nbformat": 4,
 "nbformat_minor": 5
}
