{
 "cells": [
  {
   "cell_type": "code",
   "execution_count": 75,
   "metadata": {},
   "outputs": [
    {
     "name": "stdout",
     "output_type": "stream",
     "text": [
      "[('features',), ('artists',), ('albums',)]\n"
     ]
    }
   ],
   "source": [
    "import sqlite3\n",
    "import pandas as pd\n",
    "\n",
    "# create connection to db\n",
    "connection = sqlite3.connect('meta_music.db')\n",
    "\n",
    "# create cursor\n",
    "cursor = connection.cursor()\n",
    "\n",
    "# drop tables if they exists\n",
    "cursor.execute('DROP TABLE IF EXISTS artists')\n",
    "cursor.execute('DROP TABLE IF EXISTS albums')\n",
    "cursor.execute('DROP TABLE IF EXISTS features')\n",
    "\n",
    "# create sql tables for artists, albums, and track features\n",
    "artist_table_schema ='''CREATE TABLE artists (\n",
    "                        artist_id INTERGER PRIMARY KEY, \n",
    "                        artist TEXT NOT NULL);'''\n",
    "\n",
    "album_table_schema = '''CREATE TABLE albums (\n",
    "                            album_id INTERGER PRIMARY KEY, \n",
    "                            album TEXT NOT NULL, \n",
    "                            date TEXT NOT NULL, \n",
    "                            week_num INTEGER, \n",
    "                            meta_score INTEGER, \n",
    "                            user_score INTEGER,\n",
    "                            artist_id INTEGER,\n",
    "                            FOREIGN KEY(artist_id) REFERENCES artist (artist_id)\n",
    "                        );'''\n",
    "\n",
    "features_table_schema = '''CREATE TABLE features(\n",
    "                            feature_id INTEGER, \n",
    "                            danceability REAL, \n",
    "                            energy REAL,\n",
    "                            key INTEGER, \n",
    "                            loudness REAL, \n",
    "                            mode INTEGER, \n",
    "                            speechiness REAL, \n",
    "                            acousticness REAL, \n",
    "                            instrumentalness REAL,\n",
    "                            liveness REAL,\n",
    "                            valence REAL, \n",
    "                            tempo REAL, \n",
    "                            duration_ms INTEGER,\n",
    "                            time_signature INTEGER,\n",
    "                            artist_id INTEGER,\n",
    "                            album_id INTEGER,\n",
    "                            FOREIGN KEY (artist_id) REFERENCES artists (artist_id),\n",
    "                            FOREIGN KEY (album_id) REFERENCES albums (album_id)\n",
    "                            );'''\n",
    "\n",
    "# create all tables\n",
    "cursor.execute(features_table_schema)\n",
    "\n",
    "cursor.execute(artist_table_schema)\n",
    "\n",
    "cursor.execute(album_table_schema)\n",
    "\n",
    "\n",
    "#check for tables \n",
    "cursor.execute(\"SELECT name FROM sqlite_master WHERE type='table';\")\n",
    "tables = cursor.fetchall()\n",
    "print(tables)"
   ]
  },
  {
   "cell_type": "code",
   "execution_count": 76,
   "metadata": {},
   "outputs": [],
   "source": [
    "# read csv into DF\n",
    "combined_meta_scrapes_df = pd.read_csv('combined_csv.csv')  \n",
    "# drop duplicate rows for artists and reset index\n",
    "cleaned_artists_df = combined_meta_scrapes_df.drop_duplicates(subset=['artist'], ignore_index=True)\n",
    "# create series for artist table in meta_db\n",
    "artists_seriese = cleaned_artists_df['artist']"
   ]
  },
  {
   "cell_type": "code",
   "execution_count": 77,
   "metadata": {},
   "outputs": [],
   "source": [
    "artists_seriese.to_sql(name='artists', con=connection, schema=artist_table_schema, index=False, if_exists='append')"
   ]
  },
  {
   "cell_type": "raw",
   "metadata": {},
   "source": []
  }
 ],
 "metadata": {
  "kernelspec": {
   "display_name": "Python 3",
   "language": "python",
   "name": "python3"
  },
  "language_info": {
   "codemirror_mode": {
    "name": "ipython",
    "version": 3
   },
   "file_extension": ".py",
   "mimetype": "text/x-python",
   "name": "python",
   "nbconvert_exporter": "python",
   "pygments_lexer": "ipython3",
   "version": "3.8.5"
  }
 },
 "nbformat": 4,
 "nbformat_minor": 4
}
