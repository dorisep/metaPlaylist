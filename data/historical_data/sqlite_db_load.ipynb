{
 "cells": [
  {
   "cell_type": "code",
   "execution_count": 7,
   "metadata": {},
   "outputs": [],
   "source": [
    "import pandas as pd\n",
    "import numpy as np\n",
    "\n",
    "import sqlalchemy\n",
    "from sqlalchemy import create_engine, MetaData, PrimaryKeyConstraint\n",
    "from sqlalchemy.ext.declarative import declarative_base\n",
    "from sqlalchemy import Column, Integer, String, Numeric, Text, Float"
   ]
  },
  {
   "cell_type": "code",
   "execution_count": 8,
   "metadata": {},
   "outputs": [],
   "source": [
    "combo_df = pd.read_csv('combined_csv.csv')  "
   ]
  },
  {
   "cell_type": "code",
   "execution_count": 9,
   "metadata": {},
   "outputs": [
    {
     "data": {
      "text/html": [
       "<div>\n",
       "<style scoped>\n",
       "    .dataframe tbody tr th:only-of-type {\n",
       "        vertical-align: middle;\n",
       "    }\n",
       "\n",
       "    .dataframe tbody tr th {\n",
       "        vertical-align: top;\n",
       "    }\n",
       "\n",
       "    .dataframe thead th {\n",
       "        text-align: right;\n",
       "    }\n",
       "</style>\n",
       "<table border=\"1\" class=\"dataframe\">\n",
       "  <thead>\n",
       "    <tr style=\"text-align: right;\">\n",
       "      <th></th>\n",
       "      <th>artist</th>\n",
       "      <th>album</th>\n",
       "      <th>date</th>\n",
       "      <th>week_num</th>\n",
       "      <th>meta_score</th>\n",
       "      <th>user_score</th>\n",
       "    </tr>\n",
       "  </thead>\n",
       "  <tbody>\n",
       "    <tr>\n",
       "      <th>0</th>\n",
       "      <td>The Streets</td>\n",
       "      <td>Original Pirate Material</td>\n",
       "      <td>October 22, 2002</td>\n",
       "      <td>43</td>\n",
       "      <td>90</td>\n",
       "      <td>87</td>\n",
       "    </tr>\n",
       "    <tr>\n",
       "      <th>1</th>\n",
       "      <td>Tom Waits</td>\n",
       "      <td>Alice</td>\n",
       "      <td>May 7, 2002</td>\n",
       "      <td>19</td>\n",
       "      <td>90</td>\n",
       "      <td>85</td>\n",
       "    </tr>\n",
       "    <tr>\n",
       "      <th>2</th>\n",
       "      <td>Queens of the Stone Age</td>\n",
       "      <td>Songs For The Deaf</td>\n",
       "      <td>August 27, 2002</td>\n",
       "      <td>35</td>\n",
       "      <td>89</td>\n",
       "      <td>89</td>\n",
       "    </tr>\n",
       "    <tr>\n",
       "      <th>3</th>\n",
       "      <td>Spoon</td>\n",
       "      <td>Kill The Moonlight</td>\n",
       "      <td>August 20, 2002</td>\n",
       "      <td>34</td>\n",
       "      <td>88</td>\n",
       "      <td>88</td>\n",
       "    </tr>\n",
       "    <tr>\n",
       "      <th>4</th>\n",
       "      <td>Wilco</td>\n",
       "      <td>Yankee Hotel Foxtrot</td>\n",
       "      <td>April 23, 2002</td>\n",
       "      <td>17</td>\n",
       "      <td>87</td>\n",
       "      <td>89</td>\n",
       "    </tr>\n",
       "    <tr>\n",
       "      <th>...</th>\n",
       "      <td>...</td>\n",
       "      <td>...</td>\n",
       "      <td>...</td>\n",
       "      <td>...</td>\n",
       "      <td>...</td>\n",
       "      <td>...</td>\n",
       "    </tr>\n",
       "    <tr>\n",
       "      <th>9314</th>\n",
       "      <td>Bonny Doon</td>\n",
       "      <td>Longwave</td>\n",
       "      <td>March 23, 2018</td>\n",
       "      <td>12</td>\n",
       "      <td>68</td>\n",
       "      <td>0</td>\n",
       "    </tr>\n",
       "    <tr>\n",
       "      <th>9315</th>\n",
       "      <td>A Perfect Circle</td>\n",
       "      <td>Eat the Elephant</td>\n",
       "      <td>April 20, 2018</td>\n",
       "      <td>16</td>\n",
       "      <td>68</td>\n",
       "      <td>73</td>\n",
       "    </tr>\n",
       "    <tr>\n",
       "      <th>9316</th>\n",
       "      <td>Arthur Buck</td>\n",
       "      <td>Arthur Buck</td>\n",
       "      <td>June 15, 2018</td>\n",
       "      <td>24</td>\n",
       "      <td>68</td>\n",
       "      <td>0</td>\n",
       "    </tr>\n",
       "    <tr>\n",
       "      <th>9317</th>\n",
       "      <td>Josh Rouse</td>\n",
       "      <td>Love in the Modern Age</td>\n",
       "      <td>April 13, 2018</td>\n",
       "      <td>15</td>\n",
       "      <td>68</td>\n",
       "      <td>0</td>\n",
       "    </tr>\n",
       "    <tr>\n",
       "      <th>9318</th>\n",
       "      <td>Dean Wareham</td>\n",
       "      <td>Dean Wareham vs. Cheval Sombre</td>\n",
       "      <td>October 26, 2018</td>\n",
       "      <td>43</td>\n",
       "      <td>68</td>\n",
       "      <td>0</td>\n",
       "    </tr>\n",
       "  </tbody>\n",
       "</table>\n",
       "<p>9319 rows × 6 columns</p>\n",
       "</div>"
      ],
      "text/plain": [
       "                       artist                           album  \\\n",
       "0                 The Streets        Original Pirate Material   \n",
       "1                   Tom Waits                           Alice   \n",
       "2     Queens of the Stone Age              Songs For The Deaf   \n",
       "3                       Spoon              Kill The Moonlight   \n",
       "4                       Wilco            Yankee Hotel Foxtrot   \n",
       "...                       ...                             ...   \n",
       "9314               Bonny Doon                        Longwave   \n",
       "9315         A Perfect Circle                Eat the Elephant   \n",
       "9316              Arthur Buck                     Arthur Buck   \n",
       "9317               Josh Rouse          Love in the Modern Age   \n",
       "9318             Dean Wareham  Dean Wareham vs. Cheval Sombre   \n",
       "\n",
       "                  date  week_num  meta_score  user_score  \n",
       "0     October 22, 2002        43          90          87  \n",
       "1          May 7, 2002        19          90          85  \n",
       "2      August 27, 2002        35          89          89  \n",
       "3      August 20, 2002        34          88          88  \n",
       "4       April 23, 2002        17          87          89  \n",
       "...                ...       ...         ...         ...  \n",
       "9314    March 23, 2018        12          68           0  \n",
       "9315    April 20, 2018        16          68          73  \n",
       "9316     June 15, 2018        24          68           0  \n",
       "9317    April 13, 2018        15          68           0  \n",
       "9318  October 26, 2018        43          68           0  \n",
       "\n",
       "[9319 rows x 6 columns]"
      ]
     },
     "execution_count": 9,
     "metadata": {},
     "output_type": "execute_result"
    }
   ],
   "source": [
    "combo_df"
   ]
  },
  {
   "cell_type": "code",
   "execution_count": 10,
   "metadata": {},
   "outputs": [],
   "source": [
    "artists = pd.Series((combo_df['artist']).drop_duplicates()).reset_index(drop=True)"
   ]
  },
  {
   "cell_type": "code",
   "execution_count": 11,
   "metadata": {},
   "outputs": [
    {
     "data": {
      "text/plain": [
       "0                The Streets\n",
       "1                  Tom Waits\n",
       "2    Queens of the Stone Age\n",
       "3                      Spoon\n",
       "4                      Wilco\n",
       "Name: artist, dtype: object"
      ]
     },
     "execution_count": 11,
     "metadata": {},
     "output_type": "execute_result"
    }
   ],
   "source": [
    "artists.head()"
   ]
  },
  {
   "cell_type": "code",
   "execution_count": 6,
   "metadata": {},
   "outputs": [
    {
     "data": {
      "text/plain": [
       "4666      The Xcerts\n",
       "4667     Middle Kids\n",
       "4668    Cullen Omori\n",
       "4669      Bonny Doon\n",
       "4670     Arthur Buck\n",
       "Name: artist, dtype: object"
      ]
     },
     "execution_count": 6,
     "metadata": {},
     "output_type": "execute_result"
    }
   ],
   "source": [
    "artists.tail()"
   ]
  },
  {
   "cell_type": "code",
   "execution_count": 23,
   "metadata": {},
   "outputs": [
    {
     "data": {
      "text/plain": [
       "<bound method Series.duplicated of 0                   The Streets\n",
       "1                     Tom Waits\n",
       "2       Queens of the Stone Age\n",
       "3                         Spoon\n",
       "4                         Wilco\n",
       "                 ...           \n",
       "9291                 The Xcerts\n",
       "9292                Middle Kids\n",
       "9298               Cullen Omori\n",
       "9314                 Bonny Doon\n",
       "9316                Arthur Buck\n",
       "Name: artist, Length: 4671, dtype: object>"
      ]
     },
     "execution_count": 23,
     "metadata": {},
     "output_type": "execute_result"
    }
   ],
   "source": [
    "class artists:\n",
    "    def __init__(self, name, ):\n",
    "        self.name = name\n",
    "        "
   ]
  },
  {
   "cell_type": "code",
   "execution_count": null,
   "metadata": {},
   "outputs": [],
   "source": []
  }
 ],
 "metadata": {
  "kernelspec": {
   "display_name": "Python 3",
   "language": "python",
   "name": "python3"
  },
  "language_info": {
   "codemirror_mode": {
    "name": "ipython",
    "version": 3
   },
   "file_extension": ".py",
   "mimetype": "text/x-python",
   "name": "python",
   "nbconvert_exporter": "python",
   "pygments_lexer": "ipython3",
   "version": "3.8.5"
  }
 },
 "nbformat": 4,
 "nbformat_minor": 4
}
