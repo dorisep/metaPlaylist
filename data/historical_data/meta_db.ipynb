{
 "cells": [
  {
   "cell_type": "code",
   "execution_count": 1,
   "metadata": {},
   "outputs": [],
   "source": [
    "import sqlite3\n",
    "import pandas as pd"
   ]
  },
  {
   "cell_type": "code",
   "execution_count": null,
   "metadata": {},
   "outputs": [],
   "source": [
    "Class MetaScrapeDb()"
   ]
  },
  {
   "cell_type": "code",
   "execution_count": 2,
   "metadata": {},
   "outputs": [],
   "source": [
    "def create_meta_db():\n",
    "    # create connection to db\n",
    "    connection = sqlite3.connect('meta_music.db')\n",
    "\n",
    "    # create cursor\n",
    "    cursor = connection.cursor()\n",
    "\n",
    "    # drop tables if they exists\n",
    "    cursor.execute('DROP TABLE IF EXISTS artists')\n",
    "    cursor.execute('DROP TABLE IF EXISTS albums')\n",
    "    cursor.execute('DROP TABLE IF EXISTS features')\n",
    "\n",
    "    # create sql tables for artists, albums, and track features\n",
    "    artist_table_schema ='''CREATE TABLE artists (\n",
    "                            artist_id INTERGER PRIMARY KEY, \n",
    "                            artist TEXT NOT NULL);'''\n",
    "\n",
    "    album_table_schema = '''CREATE TABLE albums (\n",
    "                                album_id INTERGER PRIMARY KEY,\n",
    "                                artist TEXT NOT NULL,\n",
    "                                album TEXT NOT NULL, \n",
    "                                date TEXT NOT NULL, \n",
    "                                week_num INTEGER, \n",
    "                                meta_score INTEGER, \n",
    "                                user_score INTEGER,\n",
    "                                artist_id INTEGER,\n",
    "                                FOREIGN KEY(artist_id) REFERENCES artist (artist_id)\n",
    "                            );'''\n",
    "\n",
    "    features_table_schema = '''CREATE TABLE features(\n",
    "                                feature_id INTEGER, \n",
    "                                danceability REAL, \n",
    "                                energy REAL,\n",
    "                                key INTEGER, \n",
    "                                loudness REAL, \n",
    "                                mode INTEGER, \n",
    "                                speechiness REAL, \n",
    "                                acousticness REAL, \n",
    "                                instrumentalness REAL,\n",
    "                                liveness REAL,\n",
    "                                valence REAL, \n",
    "                                tempo REAL, \n",
    "                                duration_ms INTEGER,\n",
    "                                time_signature INTEGER,\n",
    "                                artist_id INTEGER,\n",
    "                                album_id INTEGER,\n",
    "                                FOREIGN KEY (artist_id) REFERENCES artists (artist_id),\n",
    "                                FOREIGN KEY (album_id) REFERENCES albums (album_id)\n",
    "                                );'''\n",
    "\n",
    "    # create all tables\n",
    "    cursor.execute(features_table_schema)\n",
    "\n",
    "    cursor.execute(artist_table_schema)\n",
    "\n",
    "    cursor.execute(album_table_schema)\n",
    "    \n",
    "    cursor.close()"
   ]
  },
  {
   "cell_type": "code",
   "execution_count": 3,
   "metadata": {},
   "outputs": [],
   "source": [
    "create_meta_db()"
   ]
  },
  {
   "cell_type": "code",
   "execution_count": 4,
   "metadata": {},
   "outputs": [
    {
     "ename": "NameError",
     "evalue": "name 'cursor' is not defined",
     "output_type": "error",
     "traceback": [
      "\u001b[1;31m---------------------------------------------------------------------------\u001b[0m",
      "\u001b[1;31mNameError\u001b[0m                                 Traceback (most recent call last)",
      "\u001b[1;32m<ipython-input-4-f79006aeccea>\u001b[0m in \u001b[0;36m<module>\u001b[1;34m\u001b[0m\n\u001b[0;32m      1\u001b[0m \u001b[1;31m#check for tables\u001b[0m\u001b[1;33m\u001b[0m\u001b[1;33m\u001b[0m\u001b[1;33m\u001b[0m\u001b[0m\n\u001b[1;32m----> 2\u001b[1;33m \u001b[0mcursor\u001b[0m\u001b[1;33m.\u001b[0m\u001b[0mexecute\u001b[0m\u001b[1;33m(\u001b[0m\u001b[1;34m\"SELECT name FROM sqlite_master WHERE type='table';\"\u001b[0m\u001b[1;33m)\u001b[0m\u001b[1;33m\u001b[0m\u001b[1;33m\u001b[0m\u001b[0m\n\u001b[0m\u001b[0;32m      3\u001b[0m \u001b[0mtables\u001b[0m \u001b[1;33m=\u001b[0m \u001b[0mcursor\u001b[0m\u001b[1;33m.\u001b[0m\u001b[0mfetchall\u001b[0m\u001b[1;33m(\u001b[0m\u001b[1;33m)\u001b[0m\u001b[1;33m\u001b[0m\u001b[1;33m\u001b[0m\u001b[0m\n\u001b[0;32m      4\u001b[0m \u001b[0mprint\u001b[0m\u001b[1;33m(\u001b[0m\u001b[0mtables\u001b[0m\u001b[1;33m)\u001b[0m\u001b[1;33m\u001b[0m\u001b[1;33m\u001b[0m\u001b[0m\n",
      "\u001b[1;31mNameError\u001b[0m: name 'cursor' is not defined"
     ]
    }
   ],
   "source": [
    "#check for tables \n",
    "cursor.execute(\"SELECT name FROM sqlite_master WHERE type='table';\")\n",
    "tables = cursor.fetchall()\n",
    "print(tables)"
   ]
  },
  {
   "cell_type": "code",
   "execution_count": null,
   "metadata": {},
   "outputs": [],
   "source": [
    "# read csv into DF\n",
    "combined_meta_scrapes_df = pd.read_csv('combined_csv.csv') \n",
    "# drop nan rows\n",
    "no_nan_scrape_df = combined_meta_scrapes_df.dropna(axis=0)\n",
    "# drop duplicate rows for artists and reset index\n",
    "cleaned_artists_df = no_nan_scrape_df.drop_duplicates(subset=['artist'], ignore_index=True)\n",
    "# create series for artist table in meta_db\n",
    "artists_seriese = cleaned_artists_df['artist']"
   ]
  },
  {
   "cell_type": "code",
   "execution_count": null,
   "metadata": {},
   "outputs": [],
   "source": [
    "no_nan_scrape_df[combined_meta_scrapes_df['album'].isnull()]"
   ]
  },
  {
   "cell_type": "code",
   "execution_count": null,
   "metadata": {},
   "outputs": [],
   "source": [
    "no_nan_scrape_df.info()"
   ]
  },
  {
   "cell_type": "code",
   "execution_count": null,
   "metadata": {},
   "outputs": [],
   "source": [
    "artists_seriese.to_sql(name='artists', con=connection, schema=artist_table_schema, index=True, index_label='artist_id', if_exists='append')"
   ]
  },
  {
   "cell_type": "code",
   "execution_count": null,
   "metadata": {},
   "outputs": [],
   "source": [
    "no_nan_scrape_df.to_sql(name='albums', con=connection, schema=album_table_schema, index=True, index_label='album_id', if_exists='append')"
   ]
  },
  {
   "cell_type": "code",
   "execution_count": null,
   "metadata": {},
   "outputs": [],
   "source": [
    "select_query = \"\"\"SELECT * FROM albums\"\"\"\n"
   ]
  },
  {
   "cell_type": "code",
   "execution_count": null,
   "metadata": {},
   "outputs": [],
   "source": [
    "cursor.execute(select_query)\n",
    "for row in (cursor.fetchall()):\n",
    "    print(row)"
   ]
  },
  {
   "cell_type": "code",
   "execution_count": null,
   "metadata": {},
   "outputs": [],
   "source": [
    "so_many = []\n",
    "for row in records:\n",
    "    if row[4] == 37:\n",
    "        so_many.append(row[4]) \n",
    "        \n",
    "print(len(so_many))"
   ]
  },
  {
   "cell_type": "raw",
   "metadata": {},
   "source": [
    "cursor.close()"
   ]
  },
  {
   "cell_type": "code",
   "execution_count": null,
   "metadata": {},
   "outputs": [],
   "source": [
    "import csv\n"
   ]
  },
  {
   "cell_type": "code",
   "execution_count": null,
   "metadata": {},
   "outputs": [],
   "source": [
    "with open('combined_csv.csv') as csvfile:\n",
    "\n",
    "    # CSV reader specifies delimiter and variable that holds contents\n",
    "    csvreader = csv.reader(csvfile, delimiter=',')\n",
    "\n",
    "    # Read the header row first (skip this step if there is now header)\n",
    "    csv_header = next(csvreader)\n",
    "    # Read each row of data after the header\n",
    "    for row in csvreader:\n",
    "        if row[0] == 'Nisennenmondai':\n",
    "            print(row)"
   ]
  },
  {
   "cell_type": "code",
   "execution_count": null,
   "metadata": {},
   "outputs": [],
   "source": []
  }
 ],
 "metadata": {
  "kernelspec": {
   "display_name": "Python 3",
   "language": "python",
   "name": "python3"
  },
  "language_info": {
   "codemirror_mode": {
    "name": "ipython",
    "version": 3
   },
   "file_extension": ".py",
   "mimetype": "text/x-python",
   "name": "python",
   "nbconvert_exporter": "python",
   "pygments_lexer": "ipython3",
   "version": "3.8.5"
  }
 },
 "nbformat": 4,
 "nbformat_minor": 4
}
