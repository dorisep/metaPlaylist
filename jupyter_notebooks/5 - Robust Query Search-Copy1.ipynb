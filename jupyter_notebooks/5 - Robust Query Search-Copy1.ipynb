{
 "cells": [
  {
   "cell_type": "code",
   "execution_count": 2,
   "metadata": {},
   "outputs": [],
   "source": [
    "import requests\n",
    "import base64\n",
    "import datetime\n",
    "from urllib.parse import urlencode\n",
    "# from secrets import spotify_user_id"
   ]
  },
  {
   "cell_type": "code",
   "execution_count": 3,
   "metadata": {},
   "outputs": [],
   "source": [
    "spotify_user_id = \"ed.doris\"\n",
    "client_id = \"6f2a7816998d4d7e992f1dba605ccd33\"\n",
    "client_secret = \"f1029bcc83634b4c9497ec0bcd701498\"\n",
    "a={}"
   ]
  },
  {
   "cell_type": "code",
   "execution_count": 39,
   "metadata": {},
   "outputs": [],
   "source": [
    "class SpotifyAPI(object):\n",
    "    access_token = None\n",
    "    access_token_expires = datetime.datetime.now()\n",
    "    access_token_did_expire = True\n",
    "    client_id = None\n",
    "    client_secret = None\n",
    "    playlist_name = \"meta_playlist\"\n",
    "    \n",
    "    token_url =\"https://accounts.spotify.com/api/token\"\n",
    "    \n",
    "    def __init__(self, client_id, client_secret, *args, **kwargs):\n",
    "        super().__init__(*args, **kwargs)\n",
    "        self.client_id = client_id\n",
    "        self.client_secret = client_secret\n",
    "        \n",
    "    def get_client_credentials(self):\n",
    "        \"\"\"\n",
    "        Returns a base64 encoded string\n",
    "        \"\"\"\n",
    "        client_id = self.client_id\n",
    "        client_secret = self.client_secret\n",
    "        if client_secret == None or client_id == None:\n",
    "            raise Exception(\"You must set client_id and client_secret\")\n",
    "        client_creds = f\"{client_id}:{client_secret}\"\n",
    "        client_creds_b64 = base64.b64encode(client_creds.encode())\n",
    "        return client_creds_b64.decode()\n",
    "        \n",
    "    def get_token_headers(self):\n",
    "        client_creds_b64 = self.get_client_credentials()\n",
    "        return {\n",
    "        \"Authorization\": f\"Basic {client_creds_b64}\"\n",
    "        }\n",
    "    \n",
    "    def get_token_data(self):\n",
    "                return {\n",
    "            \"grant_type\": \"client_credentials\"\n",
    "        }\n",
    "    \n",
    "    def perform_auth(self):\n",
    "        token_url = self.token_url\n",
    "        token_data = self.get_token_data()\n",
    "        token_headers = self.get_token_headers()\n",
    "        r = requests.post(token_url, data=token_data, headers=token_headers)\n",
    "        if r.status_code not in range(200, 299):\n",
    "            raise Exception(\"Could not authenticate client.\")   \n",
    "#             return False\n",
    "        data = r.json()\n",
    "        now = datetime.datetime.now()\n",
    "        access_token = data['access_token']\n",
    "        expires_in = data['expires_in'] # seconds\n",
    "        expires = now + datetime.timedelta(seconds=expires_in)\n",
    "        self.access_token = access_token\n",
    "        self.access_token_expires = expires\n",
    "        self.access_token_did_expire = expires < now\n",
    "        return True\n",
    "    \n",
    "    def get_access_token(self):\n",
    "        token = self.access_token\n",
    "        expires = self.access_token_expires\n",
    "        now = datetime.datetime.now()\n",
    "        if expires < now:\n",
    "            self.perform_auth()\n",
    "            return self.get_access_token()\n",
    "        elif token == None:\n",
    "            self.perform_auth()\n",
    "            return self.get_access_token()\n",
    "        return token\n",
    "    \n",
    "    def get_resource_header(self):\n",
    "        access_token = self.get_access_token()\n",
    "        headers = {\n",
    "        \"Authorization\": f\"Bearer {access_token}\"\n",
    "        }\n",
    "        return headers\n",
    "    \n",
    "    def get_resource(self, lookup_id, resource_type=\"albums\", version=\"v1\"):\n",
    "        endpoint = f\"https://api.spotify.com/{version}/{resource_type}/{lookup_id}\"\n",
    "        headers = self.get_resource_header()\n",
    "        r = requests.get(endpoint, headers=headers)\n",
    "        if r.status_code not in range(200, 299):\n",
    "            return {}\n",
    "        return r.json()\n",
    "    \n",
    "    def get_album(self, _id):\n",
    "        return self.get_resource(_id, resource_type = \"albums\")\n",
    "    \n",
    "    def get_artist(self, _id):\n",
    "        return self.get_resource(_id, resource_type = \"artists\")\n",
    "\n",
    "    \n",
    "    def base_search(self, query_params):\n",
    "        headers = self.get_resource_header()\n",
    "        endpoint = \"https://api.spotify.com/v1/search\"\n",
    "\n",
    "        lookup_url = f\"{endpoint}?{query_params}\"\n",
    "        print(lookup_url)\n",
    "        r = requests.get(lookup_url, headers=headers)\n",
    "        print(r.status_code)\n",
    "        if r.status_code not in range(200, 299):\n",
    "            return {}\n",
    "        return r.json()\n",
    "    \n",
    "    def search(self, query=None, search_type=\"albums\"):\n",
    "        if query == None:\n",
    "            raise Exception(\"Need query_params for search\")\n",
    "        if isinstance(query, dict):\n",
    "            query = \" \".join([f\"{k}:{v}\" for k,v in query.items()])\n",
    "        query_params = urlencode({\"q\":query, \"type\":search_type.lower()})\n",
    "        print(query_params)\n",
    "        return self.base_search(query_params)\n"
   ]
  },
  {
   "cell_type": "code",
   "execution_count": null,
   "metadata": {},
   "outputs": [],
   "source": []
  },
  {
   "cell_type": "code",
   "execution_count": 34,
   "metadata": {},
   "outputs": [],
   "source": [
    "def create_playlist(self, name):\n",
    "    endpoint = \"https://api.spotify.com/v1/users/\"\n",
    "    headers = self.get_resource_header()\n",
    "    create_playlist_params = urlencode({\"Name\": name})\n",
    "    create_playist_url = f\"{endpoint}?{create_playlist_params}\"\n",
    "    r = requests.post(create_playist_url, headers=headers)\n",
    "    print(r)"
   ]
  },
  {
   "cell_type": "code",
   "execution_count": 40,
   "metadata": {},
   "outputs": [
    {
     "ename": "NameError",
     "evalue": "name 'playlist_name' is not defined",
     "output_type": "error",
     "traceback": [
      "\u001b[0;31m---------------------------------------------------------------------------\u001b[0m",
      "\u001b[0;31mNameError\u001b[0m                                 Traceback (most recent call last)",
      "\u001b[0;32m<ipython-input-40-07412ebfa80e>\u001b[0m in \u001b[0;36m<module>\u001b[0;34m\u001b[0m\n\u001b[0;32m----> 1\u001b[0;31m \u001b[0mplaylist_name\u001b[0m\u001b[0;34m.\u001b[0m\u001b[0mcreate_playlist\u001b[0m\u001b[0;34m(\u001b[0m\u001b[0;34m)\u001b[0m\u001b[0;34m\u001b[0m\u001b[0;34m\u001b[0m\u001b[0m\n\u001b[0m",
      "\u001b[0;31mNameError\u001b[0m: name 'playlist_name' is not defined"
     ]
    }
   ],
   "source": [
    "playlist_name.create_playlist()"
   ]
  },
  {
   "cell_type": "code",
   "execution_count": 4,
   "metadata": {},
   "outputs": [],
   "source": [
    "spotify = SpotifyAPI(client_id, client_secret)"
   ]
  },
  {
   "cell_type": "code",
   "execution_count": 5,
   "metadata": {},
   "outputs": [
    {
     "name": "stdout",
     "output_type": "stream",
     "text": [
      "q=album%3AFetch+the+Bolt+Cutters+artist%3AFiona+Apple&type=album\n",
      "https://api.spotify.com/v1/search?q=album%3AFetch+the+Bolt+Cutters+artist%3AFiona+Apple&type=album\n",
      "200\n"
     ]
    }
   ],
   "source": [
    "a = spotify.search({\"album\":\"Fetch the Bolt Cutters\", \"artist\":\"Fiona Apple\"}, search_type=\"album\")"
   ]
  },
  {
   "cell_type": "code",
   "execution_count": 6,
   "metadata": {},
   "outputs": [
    {
     "name": "stdout",
     "output_type": "stream",
     "text": [
      "{'albums': {'href': 'https://api.spotify.com/v1/search?query=album%3AFetch+the+Bolt+Cutters+artist%3AFiona+Apple&type=album&offset=0&limit=20', 'items': [{'album_type': 'album', 'artists': [{'external_urls': {'spotify': 'https://open.spotify.com/artist/3g2kUQ6tHLLbmkV7T4GPtL'}, 'href': 'https://api.spotify.com/v1/artists/3g2kUQ6tHLLbmkV7T4GPtL', 'id': '3g2kUQ6tHLLbmkV7T4GPtL', 'name': 'Fiona Apple', 'type': 'artist', 'uri': 'spotify:artist:3g2kUQ6tHLLbmkV7T4GPtL'}], 'available_markets': ['AD', 'AE', 'AL', 'AR', 'AT', 'AU', 'BA', 'BE', 'BG', 'BH', 'BO', 'BR', 'BY', 'CA', 'CH', 'CL', 'CO', 'CR', 'CY', 'CZ', 'DE', 'DK', 'DO', 'DZ', 'EC', 'EE', 'EG', 'ES', 'FI', 'FR', 'GB', 'GR', 'GT', 'HK', 'HN', 'HR', 'HU', 'ID', 'IE', 'IL', 'IN', 'IS', 'IT', 'JO', 'JP', 'KW', 'KZ', 'LB', 'LI', 'LT', 'LU', 'LV', 'MA', 'MC', 'MD', 'ME', 'MK', 'MT', 'MX', 'MY', 'NI', 'NL', 'NO', 'NZ', 'OM', 'PA', 'PE', 'PH', 'PL', 'PS', 'PT', 'PY', 'QA', 'RO', 'RS', 'RU', 'SA', 'SE', 'SG', 'SI', 'SK', 'SV', 'TH', 'TN', 'TR', 'TW', 'UA', 'US', 'UY', 'VN', 'XK', 'ZA'], 'external_urls': {'spotify': 'https://open.spotify.com/album/0fO1KemWL2uCCQmM22iKlj'}, 'href': 'https://api.spotify.com/v1/albums/0fO1KemWL2uCCQmM22iKlj', 'id': '0fO1KemWL2uCCQmM22iKlj', 'images': [{'height': 640, 'url': 'https://i.scdn.co/image/ab67616d0000b273841292c1316c4bf85447bcd9', 'width': 640}, {'height': 300, 'url': 'https://i.scdn.co/image/ab67616d00001e02841292c1316c4bf85447bcd9', 'width': 300}, {'height': 64, 'url': 'https://i.scdn.co/image/ab67616d00004851841292c1316c4bf85447bcd9', 'width': 64}], 'name': 'Fetch The Bolt Cutters', 'release_date': '2020-04-17', 'release_date_precision': 'day', 'total_tracks': 13, 'type': 'album', 'uri': 'spotify:album:0fO1KemWL2uCCQmM22iKlj'}], 'limit': 20, 'next': None, 'offset': 0, 'previous': None, 'total': 1}}\n"
     ]
    }
   ],
   "source": [
    "print(a)"
   ]
  },
  {
   "cell_type": "code",
   "execution_count": null,
   "metadata": {},
   "outputs": [],
   "source": []
  }
 ],
 "metadata": {
  "kernelspec": {
   "display_name": "Python 3.7.6 64-bit",
   "language": "python",
   "name": "python37664bit75a238289f404aa890f2087d3e2dec49"
  },
  "language_info": {
   "codemirror_mode": {
    "name": "ipython",
    "version": 3
   },
   "file_extension": ".py",
   "mimetype": "text/x-python",
   "name": "python",
   "nbconvert_exporter": "python",
   "pygments_lexer": "ipython3",
   "version": "3.7.6"
  }
 },
 "nbformat": 4,
 "nbformat_minor": 2
}
