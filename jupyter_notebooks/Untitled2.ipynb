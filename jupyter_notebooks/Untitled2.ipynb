{
 "cells": [
  {
   "cell_type": "code",
   "execution_count": 2,
   "metadata": {},
   "outputs": [],
   "source": [
    "import pandas as pd\n",
    "import os"
   ]
  },
  {
   "cell_type": "code",
   "execution_count": 3,
   "metadata": {},
   "outputs": [
    {
     "data": {
      "text/html": [
       "<div>\n",
       "<style scoped>\n",
       "    .dataframe tbody tr th:only-of-type {\n",
       "        vertical-align: middle;\n",
       "    }\n",
       "\n",
       "    .dataframe tbody tr th {\n",
       "        vertical-align: top;\n",
       "    }\n",
       "\n",
       "    .dataframe thead th {\n",
       "        text-align: right;\n",
       "    }\n",
       "</style>\n",
       "<table border=\"1\" class=\"dataframe\">\n",
       "  <thead>\n",
       "    <tr style=\"text-align: right;\">\n",
       "      <th></th>\n",
       "      <th>artist</th>\n",
       "      <th>album</th>\n",
       "      <th>date</th>\n",
       "      <th>meta_score</th>\n",
       "      <th>user_score</th>\n",
       "    </tr>\n",
       "  </thead>\n",
       "  <tbody>\n",
       "    <tr>\n",
       "      <td>0</td>\n",
       "      <td>The Streets</td>\n",
       "      <td>Original Pirate Material</td>\n",
       "      <td>October 22, 2002</td>\n",
       "      <td>90</td>\n",
       "      <td>87</td>\n",
       "    </tr>\n",
       "    <tr>\n",
       "      <td>1</td>\n",
       "      <td>Tom Waits</td>\n",
       "      <td>Alice</td>\n",
       "      <td>May 7, 2002</td>\n",
       "      <td>90</td>\n",
       "      <td>85</td>\n",
       "    </tr>\n",
       "    <tr>\n",
       "      <td>2</td>\n",
       "      <td>Queens of the Stone Age</td>\n",
       "      <td>Songs For The Deaf</td>\n",
       "      <td>August 27, 2002</td>\n",
       "      <td>89</td>\n",
       "      <td>89</td>\n",
       "    </tr>\n",
       "    <tr>\n",
       "      <td>3</td>\n",
       "      <td>Spoon</td>\n",
       "      <td>Kill The Moonlight</td>\n",
       "      <td>August 20, 2002</td>\n",
       "      <td>88</td>\n",
       "      <td>88</td>\n",
       "    </tr>\n",
       "    <tr>\n",
       "      <td>4</td>\n",
       "      <td>Wilco</td>\n",
       "      <td>Yankee Hotel Foxtrot</td>\n",
       "      <td>April 23, 2002</td>\n",
       "      <td>87</td>\n",
       "      <td>89</td>\n",
       "    </tr>\n",
       "  </tbody>\n",
       "</table>\n",
       "</div>"
      ],
      "text/plain": [
       "                    artist                     album              date  \\\n",
       "0              The Streets  Original Pirate Material  October 22, 2002   \n",
       "1                Tom Waits                     Alice       May 7, 2002   \n",
       "2  Queens of the Stone Age        Songs For The Deaf   August 27, 2002   \n",
       "3                    Spoon        Kill The Moonlight   August 20, 2002   \n",
       "4                    Wilco      Yankee Hotel Foxtrot    April 23, 2002   \n",
       "\n",
       "   meta_score  user_score  \n",
       "0          90          87  \n",
       "1          90          85  \n",
       "2          89          89  \n",
       "3          88          88  \n",
       "4          87          89  "
      ]
     },
     "execution_count": 3,
     "metadata": {},
     "output_type": "execute_result"
    }
   ],
   "source": [
    "csv_path = os.path.join('..', 'data', 'meta_albums_20yr.csv')\n",
    "# Read data from file 'filename.csv' \n",
    "# (in the same directory that your python process is based)\n",
    "# Control delimiters, rows, column names with read_csv (see later) \n",
    "data = pd.read_csv(csv_path) \n",
    "# Preview the first 5 lines of the loaded data \n",
    "data.head()"
   ]
  },
  {
   "cell_type": "code",
   "execution_count": 4,
   "metadata": {},
   "outputs": [
    {
     "data": {
      "text/plain": [
       "6701"
      ]
     },
     "execution_count": 4,
     "metadata": {},
     "output_type": "execute_result"
    }
   ],
   "source": [
    "data['artist'].count()"
   ]
  },
  {
   "cell_type": "code",
   "execution_count": null,
   "metadata": {},
   "outputs": [],
   "source": [
    "index=pd.date_range(start='2014-01-01', end='2014-1-31',freq='D')\n",
    "df = pd.DataFrame({\"vals\":np.random.randint(-5,5,len(index))}, index=index)\n",
    "df[\"csum\"] = df.vals.cumsum()\n",
    "# Add a column for weeks to enable grouping\n",
    "df[\"weeks\"] = df.index.week\n",
    "\n",
    "# Group the data\n",
    "grps = df.groupby(\"weeks\")\n",
    "\n",
    "# split the group into separate dataframes\n",
    "df_dict = {}\n",
    "for gi in grps.groups:\n",
    "    df_dict[gi] = grps.get_group(gi)"
   ]
  }
 ],
 "metadata": {
  "kernelspec": {
   "display_name": "Python 3",
   "language": "python",
   "name": "python3"
  },
  "language_info": {
   "codemirror_mode": {
    "name": "ipython",
    "version": 3
   },
   "file_extension": ".py",
   "mimetype": "text/x-python",
   "name": "python",
   "nbconvert_exporter": "python",
   "pygments_lexer": "ipython3",
   "version": "3.7.4"
  }
 },
 "nbformat": 4,
 "nbformat_minor": 2
}
