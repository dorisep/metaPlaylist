{
 "cells": [
  {
   "cell_type": "code",
   "execution_count": 1,
   "metadata": {},
   "outputs": [],
   "source": [
    "import json\n",
    "\n",
    "from spotify_client import *"
   ]
  },
  {
   "cell_type": "code",
   "execution_count": 2,
   "metadata": {},
   "outputs": [],
   "source": [
    "client_id = \"6f2a7816998d4d7e992f1dba605ccd33\"\n",
    "client_secret = \"f1029bcc83634b4c9497ec0bcd701498\""
   ]
  },
  {
   "cell_type": "code",
   "execution_count": 3,
   "metadata": {},
   "outputs": [],
   "source": [
    "spotify = SpotifyAPI(client_id, client_secret)"
   ]
  },
  {
   "cell_type": "code",
   "execution_count": 49,
   "metadata": {},
   "outputs": [
    {
     "name": "stdout",
     "output_type": "stream",
     "text": [
      "q=album%3AWe%27re+New+Again+-+A+Reimagining+by+Makaya+McCraven+artist%3AGil+Scott-Heron%2C+Makaya+McCraven&type=album\n",
      "https://api.spotify.com/v1/search?q=album%3AWe%27re+New+Again+-+A+Reimagining+by+Makaya+McCraven+artist%3AGil+Scott-Heron%2C+Makaya+McCraven&type=album\n",
      "200\n"
     ]
    }
   ],
   "source": [
    "a = spotify.search({\"album\":\"We're New Again - A Reimagining by Makaya McCraven\", \"artist\":\"Gil Scott-Heron, Makaya McCraven\"}, search_type=\"album\")"
   ]
  },
  {
   "cell_type": "code",
   "execution_count": 50,
   "metadata": {},
   "outputs": [
    {
     "name": "stdout",
     "output_type": "stream",
     "text": [
      "{'albums': {'href': 'https://api.spotify.com/v1/search?query=album%3AWe%27re+New+Again+-+A+Reimagining+by+Makaya+McCraven+artist%3AGil+Scott-Heron%2C+Makaya+McCraven&type=album&offset=0&limit=20', 'items': [], 'limit': 20, 'next': None, 'offset': 0, 'previous': None, 'total': 0}}\n"
     ]
    }
   ],
   "source": [
    "print(a)"
   ]
  },
  {
   "cell_type": "code",
   "execution_count": 48,
   "metadata": {},
   "outputs": [
    {
     "ename": "IndexError",
     "evalue": "list index out of range",
     "output_type": "error",
     "traceback": [
      "\u001b[0;31m---------------------------------------------------------------------------\u001b[0m",
      "\u001b[0;31mIndexError\u001b[0m                                Traceback (most recent call last)",
      "\u001b[0;32m<ipython-input-48-02b90b293538>\u001b[0m in \u001b[0;36m<module>\u001b[0;34m\u001b[0m\n\u001b[0;32m----> 1\u001b[0;31m \u001b[0mprint\u001b[0m\u001b[0;34m(\u001b[0m\u001b[0ma\u001b[0m\u001b[0;34m[\u001b[0m\u001b[0;34m\"albums\"\u001b[0m\u001b[0;34m]\u001b[0m\u001b[0;34m[\u001b[0m\u001b[0;34m\"items\"\u001b[0m\u001b[0;34m]\u001b[0m\u001b[0;34m[\u001b[0m\u001b[0;36m0\u001b[0m\u001b[0;34m]\u001b[0m\u001b[0;34m[\u001b[0m\u001b[0;34m\"id\"\u001b[0m\u001b[0;34m]\u001b[0m\u001b[0;34m)\u001b[0m\u001b[0;34m\u001b[0m\u001b[0;34m\u001b[0m\u001b[0m\n\u001b[0m",
      "\u001b[0;31mIndexError\u001b[0m: list index out of range"
     ]
    }
   ],
   "source": [
    "print(a[\"albums\"][\"items\"][0][\"id\"])\n",
    "spotify:album:6KyrXenbN00HrJscGWCsf0"
   ]
  },
  {
   "cell_type": "code",
   "execution_count": 39,
   "metadata": {},
   "outputs": [
    {
     "name": "stdout",
     "output_type": "stream",
     "text": [
      "q=id%3A5B4PYA7wNN4WdEXdIJu58a&type=album\n",
      "https://api.spotify.com/v1/search?q=id%3A5B4PYA7wNN4WdEXdIJu58a&type=album\n",
      "200\n"
     ]
    }
   ],
   "source": [
    "v = spotify.search({\"id\":\"5B4PYA7wNN4WdEXdIJu58a\"}, search_type=\"album\")"
   ]
  },
  {
   "cell_type": "code",
   "execution_count": 40,
   "metadata": {},
   "outputs": [
    {
     "name": "stdout",
     "output_type": "stream",
     "text": [
      "{'albums': {'href': 'https://api.spotify.com/v1/search?query=id%3A5B4PYA7wNN4WdEXdIJu58a&type=album&offset=0&limit=20', 'items': [], 'limit': 20, 'next': None, 'offset': 0, 'previous': None, 'total': 0}}\n"
     ]
    }
   ],
   "source": [
    "print(v)"
   ]
  },
  {
   "cell_type": "code",
   "execution_count": 14,
   "metadata": {},
   "outputs": [
    {
     "name": "stdout",
     "output_type": "stream",
     "text": [
      "{'albums': {'href': 'https://api.spotify.com/v1/search?query=album%3Aten+artist%3APearl+Jam&type=album&offset=0&limit=20', 'items': [{'album_type': 'album', 'artists': [{'external_urls': {'spotify': 'https://open.spotify.com/artist/1w5Kfo2jwwIPruYS2UWh56'}, 'href': 'https://api.spotify.com/v1/artists/1w5Kfo2jwwIPruYS2UWh56', 'id': '1w5Kfo2jwwIPruYS2UWh56', 'name': 'Pearl Jam', 'type': 'artist', 'uri': 'spotify:artist:1w5Kfo2jwwIPruYS2UWh56'}], 'available_markets': ['AD', 'AE', 'AL', 'AR', 'AT', 'AU', 'BA', 'BE', 'BG', 'BH', 'BO', 'BR', 'BY', 'CA', 'CH', 'CL', 'CO', 'CR', 'CY', 'CZ', 'DE', 'DK', 'DO', 'DZ', 'EC', 'EE', 'EG', 'ES', 'FI', 'FR', 'GB', 'GR', 'GT', 'HK', 'HN', 'HR', 'HU', 'ID', 'IE', 'IL', 'IN', 'IS', 'IT', 'JO', 'JP', 'KW', 'KZ', 'LB', 'LI', 'LT', 'LU', 'LV', 'MA', 'MC', 'MD', 'ME', 'MK', 'MT', 'MX', 'MY', 'NI', 'NL', 'NO', 'NZ', 'OM', 'PA', 'PE', 'PH', 'PL', 'PS', 'PT', 'PY', 'QA', 'RO', 'RS', 'RU', 'SA', 'SE', 'SG', 'SI', 'SK', 'SV', 'TH', 'TN', 'TR', 'TW', 'UA', 'US', 'UY', 'VN', 'XK', 'ZA'], 'external_urls': {'spotify': 'https://open.spotify.com/album/5B4PYA7wNN4WdEXdIJu58a'}, 'href': 'https://api.spotify.com/v1/albums/5B4PYA7wNN4WdEXdIJu58a', 'id': '5B4PYA7wNN4WdEXdIJu58a', 'images': [{'height': 640, 'url': 'https://i.scdn.co/image/ab67616d0000b273d400d27cba05bb0545533864', 'width': 640}, {'height': 300, 'url': 'https://i.scdn.co/image/ab67616d00001e02d400d27cba05bb0545533864', 'width': 300}, {'height': 64, 'url': 'https://i.scdn.co/image/ab67616d00004851d400d27cba05bb0545533864', 'width': 64}], 'name': 'Ten', 'release_date': '1991-08-27', 'release_date_precision': 'day', 'total_tracks': 11, 'type': 'album', 'uri': 'spotify:album:5B4PYA7wNN4WdEXdIJu58a'}, {'album_type': 'album', 'artists': [{'external_urls': {'spotify': 'https://open.spotify.com/artist/1w5Kfo2jwwIPruYS2UWh56'}, 'href': 'https://api.spotify.com/v1/artists/1w5Kfo2jwwIPruYS2UWh56', 'id': '1w5Kfo2jwwIPruYS2UWh56', 'name': 'Pearl Jam', 'type': 'artist', 'uri': 'spotify:artist:1w5Kfo2jwwIPruYS2UWh56'}], 'available_markets': ['AD', 'AE', 'AL', 'AR', 'AT', 'AU', 'BA', 'BE', 'BG', 'BH', 'BO', 'BR', 'BY', 'CA', 'CH', 'CL', 'CO', 'CR', 'CY', 'CZ', 'DE', 'DK', 'DO', 'DZ', 'EC', 'EE', 'EG', 'ES', 'FI', 'FR', 'GB', 'GR', 'GT', 'HK', 'HN', 'HR', 'HU', 'ID', 'IE', 'IL', 'IN', 'IS', 'IT', 'JO', 'JP', 'KW', 'KZ', 'LB', 'LI', 'LT', 'LU', 'LV', 'MA', 'MC', 'MD', 'ME', 'MK', 'MT', 'MX', 'MY', 'NI', 'NL', 'NO', 'NZ', 'OM', 'PA', 'PE', 'PH', 'PL', 'PS', 'PT', 'PY', 'QA', 'RO', 'RS', 'RU', 'SA', 'SE', 'SG', 'SI', 'SK', 'SV', 'TH', 'TN', 'TR', 'TW', 'UA', 'US', 'UY', 'VN', 'XK', 'ZA'], 'external_urls': {'spotify': 'https://open.spotify.com/album/6a5n1Frj3nxGcyTqT1xfrg'}, 'href': 'https://api.spotify.com/v1/albums/6a5n1Frj3nxGcyTqT1xfrg', 'id': '6a5n1Frj3nxGcyTqT1xfrg', 'images': [{'height': 640, 'url': 'https://i.scdn.co/image/ab67616d0000b273c75a7b98a59e8988e6b1b052', 'width': 640}, {'height': 300, 'url': 'https://i.scdn.co/image/ab67616d00001e02c75a7b98a59e8988e6b1b052', 'width': 300}, {'height': 64, 'url': 'https://i.scdn.co/image/ab67616d00004851c75a7b98a59e8988e6b1b052', 'width': 64}], 'name': 'Ten Redux', 'release_date': '1991-08-27', 'release_date_precision': 'day', 'total_tracks': 17, 'type': 'album', 'uri': 'spotify:album:6a5n1Frj3nxGcyTqT1xfrg'}, {'album_type': 'compilation', 'artists': [{'external_urls': {'spotify': 'https://open.spotify.com/artist/1w5Kfo2jwwIPruYS2UWh56'}, 'href': 'https://api.spotify.com/v1/artists/1w5Kfo2jwwIPruYS2UWh56', 'id': '1w5Kfo2jwwIPruYS2UWh56', 'name': 'Pearl Jam', 'type': 'artist', 'uri': 'spotify:artist:1w5Kfo2jwwIPruYS2UWh56'}], 'available_markets': ['AD', 'AE', 'AL', 'AR', 'AT', 'AU', 'BA', 'BE', 'BG', 'BH', 'BO', 'BR', 'CA', 'CH', 'CL', 'CO', 'CR', 'CY', 'CZ', 'DE', 'DK', 'DO', 'DZ', 'EC', 'EE', 'EG', 'ES', 'FI', 'FR', 'GB', 'GR', 'GT', 'HK', 'HN', 'HR', 'HU', 'ID', 'IE', 'IL', 'IN', 'IS', 'IT', 'JO', 'JP', 'KW', 'KZ', 'LB', 'LI', 'LT', 'LU', 'LV', 'MA', 'MC', 'MD', 'ME', 'MK', 'MT', 'MX', 'MY', 'NI', 'NL', 'NO', 'NZ', 'OM', 'PA', 'PE', 'PH', 'PL', 'PS', 'PT', 'PY', 'QA', 'RO', 'RU', 'SA', 'SE', 'SG', 'SI', 'SK', 'SV', 'TH', 'TN', 'TR', 'TW', 'UA', 'US', 'UY', 'VN', 'ZA'], 'external_urls': {'spotify': 'https://open.spotify.com/album/6wKolrCfrRb5GtS2WHoATt'}, 'href': 'https://api.spotify.com/v1/albums/6wKolrCfrRb5GtS2WHoATt', 'id': '6wKolrCfrRb5GtS2WHoATt', 'images': [{'height': 640, 'url': 'https://i.scdn.co/image/ab67616d0000b27305e9aab5330a2485ea5d6d68', 'width': 640}, {'height': 300, 'url': 'https://i.scdn.co/image/ab67616d00001e0205e9aab5330a2485ea5d6d68', 'width': 300}, {'height': 64, 'url': 'https://i.scdn.co/image/ab67616d0000485105e9aab5330a2485ea5d6d68', 'width': 64}], 'name': 'Live on Ten Legs', 'release_date': '2011-01-18', 'release_date_precision': 'day', 'total_tracks': 18, 'type': 'album', 'uri': 'spotify:album:6wKolrCfrRb5GtS2WHoATt'}], 'limit': 20, 'next': None, 'offset': 0, 'previous': None, 'total': 3}}\n"
     ]
    }
   ],
   "source": [
    "y = json.loads(y)\n",
    "print(y)"
   ]
  },
  {
   "cell_type": "code",
   "execution_count": 1,
   "metadata": {},
   "outputs": [
    {
     "ename": "NameError",
     "evalue": "name 'a' is not defined",
     "output_type": "error",
     "traceback": [
      "\u001b[0;31m---------------------------------------------------------------------------\u001b[0m",
      "\u001b[0;31mNameError\u001b[0m                                 Traceback (most recent call last)",
      "\u001b[0;32m<ipython-input-1-ee73b14d847c>\u001b[0m in \u001b[0;36m<module>\u001b[0;34m\u001b[0m\n\u001b[0;32m----> 1\u001b[0;31m \u001b[0;32mfor\u001b[0m \u001b[0mk\u001b[0m\u001b[0;34m,\u001b[0m \u001b[0mv\u001b[0m \u001b[0;32min\u001b[0m \u001b[0ma\u001b[0m\u001b[0;34m.\u001b[0m\u001b[0mitems\u001b[0m\u001b[0;34m(\u001b[0m\u001b[0;34m)\u001b[0m\u001b[0;34m:\u001b[0m\u001b[0;34m\u001b[0m\u001b[0;34m\u001b[0m\u001b[0m\n\u001b[0m\u001b[1;32m      2\u001b[0m     \u001b[0mprint\u001b[0m\u001b[0;34m(\u001b[0m\u001b[0mk\u001b[0m\u001b[0;34m,\u001b[0m \u001b[0mv\u001b[0m\u001b[0;34m)\u001b[0m\u001b[0;34m\u001b[0m\u001b[0;34m\u001b[0m\u001b[0m\n",
      "\u001b[0;31mNameError\u001b[0m: name 'a' is not defined"
     ]
    }
   ],
   "source": [
    "for k, v in a.items():\n",
    "    print(k, v)"
   ]
  },
  {
   "cell_type": "code",
   "execution_count": null,
   "metadata": {},
   "outputs": [],
   "source": []
  }
 ],
 "metadata": {
  "kernelspec": {
   "display_name": "Python 3",
   "language": "python",
   "name": "python3"
  },
  "language_info": {
   "codemirror_mode": {
    "name": "ipython",
    "version": 3
   },
   "file_extension": ".py",
   "mimetype": "text/x-python",
   "name": "python",
   "nbconvert_exporter": "python",
   "pygments_lexer": "ipython3",
   "version": "3.7.4"
  }
 },
 "nbformat": 4,
 "nbformat_minor": 2
}
