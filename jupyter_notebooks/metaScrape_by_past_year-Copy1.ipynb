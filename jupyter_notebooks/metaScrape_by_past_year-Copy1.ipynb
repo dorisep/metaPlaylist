{
 "cells": [
  {
   "cell_type": "code",
   "execution_count": 1,
   "metadata": {},
   "outputs": [],
   "source": [
    "#Dependencies\n",
    "import json\n",
    "import requests\n",
    "from bs4 import BeautifulSoup\n",
    "import pandas as pd\n",
    "import os\n",
    "import csv\n",
    "import re"
   ]
  },
  {
   "cell_type": "code",
   "execution_count": null,
   "metadata": {},
   "outputs": [],
   "source": []
  },
  {
   "cell_type": "code",
   "execution_count": 2,
   "metadata": {},
   "outputs": [],
   "source": [
    "# def metaScorePages():\n",
    "#     # find number of pages for albums 2020\n",
    "#     url_pages = 'https://www.metacritic.com/browse/albums/score/metascore/year/filtered?year_selected=2020&distribution=&sort=desc&view=detailed&page=0'\n",
    "#     # set user agent for header\n",
    "#     user_agent = {'User-agent': 'Mozilla/5.0'}\n",
    "#     # send response\n",
    "#     response_pages = requests.get(url_pages, headers = user_agent)\n",
    "#     # scrape website into variable to parse\n",
    "#     soup_pages = BeautifulSoup(response_pages.text, 'html.parser')\n",
    "#     # print(soup_pages)\n",
    "#     # create temporary lists for user scores\n",
    "\n",
    "#     pages = int(soup_pages.find(\"li\", class_=\"page last_page\").next_element.text)\n",
    "\n",
    "#     for page in range(pages):\n",
    "#         metaScrape(page)"
   ]
  },
  {
   "cell_type": "code",
   "execution_count": null,
   "metadata": {},
   "outputs": [],
   "source": []
  },
  {
   "cell_type": "code",
   "execution_count": 3,
   "metadata": {},
   "outputs": [
    {
     "ename": "SyntaxError",
     "evalue": "keyword argument repeated (<ipython-input-3-02e9f6cf00db>, line 24)",
     "output_type": "error",
     "traceback": [
      "\u001b[0;36m  File \u001b[0;32m\"<ipython-input-3-02e9f6cf00db>\"\u001b[0;36m, line \u001b[0;32m24\u001b[0m\n\u001b[0;31m    print(int(artist.find('div', class_='metascore_w large release positive', class_ ='metascore_w large release mixed').text))\u001b[0m\n\u001b[0m                                                                             ^\u001b[0m\n\u001b[0;31mSyntaxError\u001b[0m\u001b[0;31m:\u001b[0m keyword argument repeated\n"
     ]
    }
   ],
   "source": [
    "def metaScrape(page_num, year):\n",
    "\n",
    "    # request variables\n",
    "    url_score = f'https://www.metacritic.com/browse/albums/score/metascore/year/filtered?year_selected={year}&distribution=&sort=desc&view=detailed&page={page_num}'\n",
    "    # bs4 variables\n",
    "    \n",
    "    # set user agent for header\n",
    "    user_agent = {'User-agent': 'Mozilla/5.0'}\n",
    "    # send response\n",
    "    response_score = requests.get(url_score, headers = user_agent)\n",
    "    # scrape website into variable to parse\n",
    "    soup_score = BeautifulSoup(response_score.text, 'html.parser')\n",
    "    # create temporary lists for user scores\n",
    "    userP = []\n",
    "    userM = []\n",
    "    userN = []\n",
    "    # create/initialize dictionary \n",
    "    albums_dict = {'artist':[], 'album':[], 'date':[], 'meta_score': [], 'user_score':[]}\n",
    "    # csv variables\n",
    "    output_path = os.path.join('..', 'data', 'rerun', f'albums_{year}.csv')\n",
    "    soup_score.find_all('td', class_='clamp-summary-wrap')\n",
    "    # create soup \n",
    "    for artist in soup_score.find_all('td', class_='clamp-summary-wrap'):\n",
    "\n",
    "        albums_dict['meta_score'].append(int(artist.find('div', class_= re.compile('metascore_w large release positive|metascore_w large release mixed')).text))  \n"
   ]
  },
  {
   "cell_type": "code",
   "execution_count": null,
   "metadata": {},
   "outputs": [],
   "source": [
    "def metaScorePages():\n",
    "    # find number of pages for albums 2020\n",
    "    url_pages = 'https://www.metacritic.com/browse/albums/score/metascore/year/filtered?year_selected=2020&distribution=&sort=desc&view=detailed&page=0'\n",
    "    # set user agent for header\n",
    "    user_agent = {'User-agent': 'Mozilla/5.0'}\n",
    "    # send response\n",
    "    response_pages = requests.get(url_pages, headers = user_agent)\n",
    "    # scrape website into variable to parse\n",
    "    soup_pages = BeautifulSoup(response_pages.text, 'html.parser')\n",
    "    # print(soup_pages)\n",
    "    # create temporary lists for user scores\n",
    "\n",
    "    pages = int(soup_pages.find(\"li\", class_=\"page last_page\").next_element.text)\n",
    "    for year in range(2000, 2021):\n",
    "        for page in range(pages):\n",
    "            metaScrape(page, year)"
   ]
  },
  {
   "cell_type": "code",
   "execution_count": null,
   "metadata": {},
   "outputs": [],
   "source": [
    "metaScorePages()"
   ]
  },
  {
   "cell_type": "code",
   "execution_count": null,
   "metadata": {},
   "outputs": [],
   "source": []
  }
 ],
 "metadata": {
  "kernelspec": {
   "display_name": "Python 3",
   "language": "python",
   "name": "python3"
  },
  "language_info": {
   "codemirror_mode": {
    "name": "ipython",
    "version": 3
   },
   "file_extension": ".py",
   "mimetype": "text/x-python",
   "name": "python",
   "nbconvert_exporter": "python",
   "pygments_lexer": "ipython3",
   "version": "3.7.4"
  }
 },
 "nbformat": 4,
 "nbformat_minor": 2
}
