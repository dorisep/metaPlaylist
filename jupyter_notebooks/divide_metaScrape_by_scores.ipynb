{
 "cells": [
  {
   "cell_type": "code",
   "execution_count": 1,
   "metadata": {},
   "outputs": [],
   "source": [
    "import os \n",
    "import csv\n"
   ]
  },
  {
   "cell_type": "code",
   "execution_count": 2,
   "metadata": {},
   "outputs": [],
   "source": [
    "client_id = \"6f2a7816998d4d7e992f1dba605ccd33\"\n",
    "client_secret = \"f1029bcc83634b4c9497ec0bcd701498\"\n",
    "csv_path = os.path.join('..', 'merged_files', 'meta_albums_20yr.csv')\n"
   ]
  },
  {
   "cell_type": "code",
   "execution_count": 14,
   "metadata": {},
   "outputs": [],
   "source": [
    "def metaScrape_by_scores(csv_path):\n",
    "    meta_scores = {\n",
    "        'meta_90_dict': {\n",
    "        'artist':[],\n",
    "        'album':[]\n",
    "        },\n",
    "        'meta_80_dict': {\n",
    "        'artist':[],\n",
    "        'album':[]\n",
    "        },\n",
    "        'meta_85_dict': {\n",
    "        'artist':[],\n",
    "        'album':[]\n",
    "        },\n",
    "        'meta_70_dict': {\n",
    "        'artist':[],\n",
    "        'album':[]\n",
    "        },\n",
    "        'meta_75_dict': {\n",
    "        'artist':[],\n",
    "        'album':[]\n",
    "        },\n",
    "        'meta_low_dict': {\n",
    "        'artist':[],\n",
    "        'album':[]  \n",
    "        }\n",
    "\n",
    "    }\n",
    "\n",
    "\n",
    "    with open(csv_path, newline='') as csvfile:\n",
    "        reader = csv.DictReader(csvfile)\n",
    "        for k in reader:\n",
    "            if int(k['meta_score']) > 89:\n",
    "                meta_scores['meta_90_dict']['artist'].append(k['\\ufeffartist'])\n",
    "                meta_scores['meta_90_dict']['album'].append(k['album'])\n",
    "            elif int(k['meta_score']) > 85 and int(k['meta_score']) < 90:\n",
    "                meta_scores['meta_85_dict']['artist'].append(k['\\ufeffartist'])\n",
    "                meta_scores['meta_85_dict']['album'].append(k['album'])\n",
    "            elif int(k['meta_score']) > 79 and int(k['meta_score']) < 86:\n",
    "                meta_scores['meta_80_dict']['artist'].append(k['\\ufeffartist'])\n",
    "                meta_scores['meta_80_dict']['album'].append(k['album'])\n",
    "            elif int(k['meta_score']) > 74 and int(k['meta_score']) < 80:\n",
    "                meta_scores['meta_70_dict']['artist'].append(k['\\ufeffartist'])\n",
    "                meta_scores['meta_70_dict']['album'].append(k['album'])\n",
    "            elif int(k['meta_score']) > 69 and int(k['meta_score']) < 75:\n",
    "                meta_scores['meta_75_dict']['artist'].append(k['\\ufeffartist'])\n",
    "                meta_scores['meta_75_dict']['album'].append(k['album'])\n",
    "            else:\n",
    "                meta_scores['meta_low_dict']['artist'].append(k['\\ufeffartist'])\n",
    "                meta_scores['meta_low_dict']['album'].append(k['album'])\n",
    "    m90 = print(len(meta_scores['meta_90_dict']['artist']))\n",
    "    m80 = print(len(meta_scores['meta_80_dict']['artist']))\n",
    "    m85 = print(len(meta_scores['meta_85_dict']['artist']))\n",
    "    m70 = print(len(meta_scores['meta_70_dict']['artist']))\n",
    "    m75 = print(len(meta_scores['meta_75_dict']['artist']))\n",
    "    mlow = print(len(meta_scores['meta_low_dict']['artist']))\n",
    "    return()"
   ]
  },
  {
   "cell_type": "code",
   "execution_count": 15,
   "metadata": {},
   "outputs": [
    {
     "name": "stdout",
     "output_type": "stream",
     "text": [
      "50\n",
      "1514\n",
      "275\n",
      "2301\n",
      "1457\n",
      "1104\n"
     ]
    },
    {
     "data": {
      "text/plain": [
       "(None, None, None, None, None, None)"
      ]
     },
     "execution_count": 15,
     "metadata": {},
     "output_type": "execute_result"
    }
   ],
   "source": [
    "metaScrape_by_scores(csv_path)"
   ]
  },
  {
   "cell_type": "code",
   "execution_count": null,
   "metadata": {},
   "outputs": [],
   "source": [
    "len(meta_scores['meta_85_dict']['album'])"
   ]
  },
  {
   "cell_type": "code",
   "execution_count": null,
   "metadata": {},
   "outputs": [],
   "source": [
    "    spotify = SpotifyAPI(client_id, client_secret)   \n",
    "    for al, ar in zip(albums, artist):\n",
    "        temp = spotify.search({\"album\":al, \"artist\":ar}, search_type=\"album\")\n",
    "        try:\n",
    "            parse_album_ids = (temp[\"albums\"][\"items\"][0][\"id\"])\n",
    "        except:\n",
    "            albums_not_found['artist'].append(ar)\n",
    "            albums_not_found['album'].append(al)\n",
    "        album_ids.add(parse_album_ids)\n",
    "    return album_ids, albums_not_found"
   ]
  },
  {
   "cell_type": "raw",
   "metadata": {},
   "source": []
  }
 ],
 "metadata": {
  "kernelspec": {
   "display_name": "Python 3",
   "language": "python",
   "name": "python3"
  },
  "language_info": {
   "codemirror_mode": {
    "name": "ipython",
    "version": 3
   },
   "file_extension": ".py",
   "mimetype": "text/x-python",
   "name": "python",
   "nbconvert_exporter": "python",
   "pygments_lexer": "ipython3",
   "version": "3.7.4"
  }
 },
 "nbformat": 4,
 "nbformat_minor": 2
}
