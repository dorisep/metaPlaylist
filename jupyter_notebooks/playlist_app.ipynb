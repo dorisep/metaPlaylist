{
 "cells": [
  {
   "cell_type": "code",
   "execution_count": 1,
   "metadata": {},
   "outputs": [],
   "source": [
    "import csv\n",
    "import os\n",
    "\n",
    "from spotify_client import *"
   ]
  },
  {
   "cell_type": "code",
   "execution_count": 2,
   "metadata": {},
   "outputs": [],
   "source": [
    "client_id = \"6f2a7816998d4d7e992f1dba605ccd33\"\n",
    "client_secret = \"f1029bcc83634b4c9497ec0bcd701498\"\n",
    "user_id = \"ed.doris\"\n",
    "endpoint = \"https://api.spotify.com/v1/users/{user_id}/playlists\"\n",
    "csv_path = os.path.join(\"..\", \"data\", \"albums_2020.csv\")\n",
    "albums=[]\n",
    "artist=[]\n",
    "temp = []\n",
    "parse_album_ids = []\n",
    "album_ids = set()\n",
    "albums_not_found = {'artist':[], 'album':[]}"
   ]
  },
  {
   "cell_type": "code",
   "execution_count": 3,
   "metadata": {},
   "outputs": [],
   "source": [
    "def search_for_albums(csv_path):\n",
    "    with open(csv_path, newline='') as csvfile:\n",
    "        reader = csv.DictReader(csvfile)\n",
    "        for row in reader:\n",
    "            artist.append(row['artist'])\n",
    "            albums.append(row['album'])\n",
    "    spotify = SpotifyAPI(client_id, client_secret)   \n",
    "    for al, ar in zip(albums, artist):\n",
    "        temp = spotify.search({\"album\":al, \"artist\":ar}, search_type=\"album\")\n",
    "        try:\n",
    "            parse_album_ids = (temp[\"albums\"][\"items\"][0][\"id\"])\n",
    "        except:\n",
    "            albums_not_found['artist'].append(ar)\n",
    "            albums_not_found['album'].append(al)\n",
    "        album_ids.add(parse_album_ids)\n"
   ]
  },
  {
   "cell_type": "code",
   "execution_count": 4,
   "metadata": {},
   "outputs": [],
   "source": [
    "SpotifyAlbumSearch(csv_path)"
   ]
  },
  {
   "cell_type": "code",
   "execution_count": 5,
   "metadata": {},
   "outputs": [
    {
     "name": "stdout",
     "output_type": "stream",
     "text": [
      "438\n"
     ]
    }
   ],
   "source": [
    "\n",
    "print(len(artist))"
   ]
  },
  {
   "cell_type": "code",
   "execution_count": null,
   "metadata": {},
   "outputs": [],
   "source": []
  },
  {
   "cell_type": "code",
   "execution_count": 6,
   "metadata": {},
   "outputs": [
    {
     "name": "stdout",
     "output_type": "stream",
     "text": [
      "426\n"
     ]
    }
   ],
   "source": [
    "print(len(album_ids))"
   ]
  },
  {
   "cell_type": "code",
   "execution_count": null,
   "metadata": {},
   "outputs": [],
   "source": [
    "for k, v in albums_not_found.items():\n",
    "    print(v)"
   ]
  },
  {
   "cell_type": "code",
   "execution_count": null,
   "metadata": {},
   "outputs": [],
   "source": [
    "print(spotify.access_token)\n"
   ]
  },
  {
   "cell_type": "code",
   "execution_count": null,
   "metadata": {},
   "outputs": [],
   "source": [
    "POST https://api.spotify.com/v1/users/ed.doris/playlists"
   ]
  },
  {
   "cell_type": "code",
   "execution_count": null,
   "metadata": {},
   "outputs": [],
   "source": [
    "    def get_resource_header(self):\n",
    "        access_token = self.get_access_token()\n",
    "        headers = {\n",
    "        \"Authorization\": f\"Bearer {access_token}\"\n",
    "        }\n",
    "        return headers"
   ]
  }
 ],
 "metadata": {
  "kernelspec": {
   "display_name": "Python 3",
   "language": "python",
   "name": "python3"
  },
  "language_info": {
   "codemirror_mode": {
    "name": "ipython",
    "version": 3
   },
   "file_extension": ".py",
   "mimetype": "text/x-python",
   "name": "python",
   "nbconvert_exporter": "python",
   "pygments_lexer": "ipython3",
   "version": "3.7.4"
  }
 },
 "nbformat": 4,
 "nbformat_minor": 2
}
