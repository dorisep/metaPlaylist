{
 "cells": [
  {
   "cell_type": "code",
   "execution_count": 18,
   "metadata": {},
   "outputs": [],
   "source": [
    "import csv\n",
    "import os\n",
    "from datetime import datetime, date\n",
    "from spotify_client import *\n",
    "from config import client_id, client_secret, spotify_user_id"
   ]
  },
  {
   "cell_type": "code",
   "execution_count": 19,
   "metadata": {},
   "outputs": [],
   "source": [
    "# def get_week_num():\n",
    "csv_path = os.path.join('..','..', 'data', 'test','test2.csv')\n",
    "#     my_date = datetime.date.today() \n",
    "#     year, week_num, day_of_week = my_date.isocalendar()    \n",
    "#     return week_num\n",
    "def get_week_num():\n",
    "    my_date = datetime.date.today() \n",
    "    year, week_num, day_of_week = my_date.isocalendar()\n",
    "    this_week = week_num\n",
    "    return this_week"
   ]
  },
  {
   "cell_type": "code",
   "execution_count": 20,
   "metadata": {},
   "outputs": [],
   "source": [
    "artists=[]\n",
    "albums=[]\n",
    "albums_not_found = {'artist': [], 'album': []}\n",
    "album_ids = set()\n",
    "def search_for_albums(csv_path):\n",
    "    with open(csv_path, newline='') as csvfile:\n",
    "        reader = csv.DictReader(csvfile)\n",
    "        for row in reader:\n",
    "            if int(row['week_num'])==get_week_num():\n",
    "                artists.append(row['artist'])\n",
    "                albums.append(row['album'])\n",
    "    spotify = SpotifyAPI(client_id, client_secret)   \n",
    "    for al, ar in zip(albums, artists):\n",
    "        temp = spotify.search({\"album\":al, \"artist\":ar}, search_type=\"album\")\n",
    "        try:\n",
    "            parse_album_ids = (temp[\"albums\"][\"items\"][0][\"id\"])\n",
    "        except:\n",
    "            albums_not_found['artist'].append(ar)\n",
    "            albums_not_found['album'].append(al)\n",
    "        album_ids.add(parse_album_ids)\n",
    "    return(album_ids, albums_not_found['artist'])"
   ]
  },
  {
   "cell_type": "code",
   "execution_count": 21,
   "metadata": {},
   "outputs": [
    {
     "data": {
      "text/plain": [
       "({'0kxIBVwMO6suZGKMOEriVG',\n",
       "  '16rbUsslYCC9NnKIwLQUnY',\n",
       "  '19KzfzLfugS5xEMPOVUQuv',\n",
       "  '1NzOdSkSNmBhhg72KlNcsE',\n",
       "  '2oF6uLmVpaCGNNF5VQHJke',\n",
       "  '3wW4dsaL7EVVdAfu9aIU1M',\n",
       "  '4GJnb2XwVlS2HrVsBa9fI4',\n",
       "  '5Hj9DO1au6m5BcdosyjODG',\n",
       "  '6WlRyrfOBZGYA5u5TmloKY'},\n",
       " [])"
      ]
     },
     "execution_count": 21,
     "metadata": {},
     "output_type": "execute_result"
    }
   ],
   "source": [
    "search_for_albums(csv_path)"
   ]
  },
  {
   "cell_type": "code",
   "execution_count": null,
   "metadata": {},
   "outputs": [],
   "source": []
  }
 ],
 "metadata": {
  "kernelspec": {
   "display_name": "Python 3",
   "language": "python",
   "name": "python3"
  },
  "language_info": {
   "codemirror_mode": {
    "name": "ipython",
    "version": 3
   },
   "file_extension": ".py",
   "mimetype": "text/x-python",
   "name": "python",
   "nbconvert_exporter": "python",
   "pygments_lexer": "ipython3",
   "version": "3.7.4"
  }
 },
 "nbformat": 4,
 "nbformat_minor": 2
}
