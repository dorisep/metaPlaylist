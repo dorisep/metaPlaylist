{
 "cells": [
  {
   "cell_type": "code",
   "execution_count": 99,
   "metadata": {},
   "outputs": [],
   "source": [
    "import csv\n",
    "import os\n",
    "from datetime import datetime, date\n",
    "from spotify_client import *\n",
    "from config import client_id, client_secret, spotify_user_id"
   ]
  },
  {
   "cell_type": "code",
   "execution_count": 100,
   "metadata": {},
   "outputs": [],
   "source": [
    "# def get_week_num():\n",
    "csv_path = os.path.join('..','..', 'data', 'test','test2.csv')\n",
    "#     my_date = datetime.date.today() \n",
    "#     year, week_num, day_of_week = my_date.isocalendar()    \n",
    "#     return week_num\n",
    "def get_week_num():\n",
    "    my_date = datetime.date.today() \n",
    "    year, week_num, day_of_week = my_date.isocalendar()\n",
    "    this_week = week_num\n",
    "    return this_week"
   ]
  },
  {
   "cell_type": "code",
   "execution_count": 114,
   "metadata": {},
   "outputs": [],
   "source": [
    "artist=[]\n",
    "albums=[]\n",
    "albums_not_found = {'artist': [], 'album': []}\n",
    "album_ids = set()\n",
    "def search_for_albums(csv_path):\n",
    "    with open(csv_path, newline='') as csvfile:\n",
    "        reader = csv.DictReader(csvfile)\n",
    "#     with open(csv_path, newline='') as csvfile:\n",
    "#         print(type(csvfile))\n",
    "#         reader = csv.DictReader(csvfile)\n",
    "        for row in reader: \n",
    "            artist.append(row['artist'])\n",
    "            albums.append(row['album'])\n",
    "    spotify = SpotifyAPI(client_id, client_secret)   \n",
    "    for al, ar in zip(albums, artist):\n",
    "        temp = spotify.search({\"album\":al, \"artist\":ar}, search_type=\"album\")\n",
    "        try:\n",
    "            parse_album_ids = (temp[\"albums\"][\"items\"][0][\"id\"])\n",
    "        except:\n",
    "            albums_not_found['artist'].append(ar)\n",
    "            albums_not_found['album'].append(al)\n",
    "        album_ids.add(parse_album_ids)\n",
    "    return(album_ids, albums_not_found['artist'])"
   ]
  },
  {
   "cell_type": "code",
   "execution_count": 115,
   "metadata": {},
   "outputs": [
    {
     "data": {
      "text/plain": [
       "({'02DqMqXTuEauf2EQsHZtmB',\n",
       "  '0EdtTRCl3J22AnWrNpH1w9',\n",
       "  '0bF0MmOAxVT4hBlareepVq',\n",
       "  '0dL9rGQxUeIqpiUndXaQLl',\n",
       "  '0kxIBVwMO6suZGKMOEriVG',\n",
       "  '1FyNZvJ6MHO01kl3ySMPdc',\n",
       "  '1S0ZLW9sEo7yb5wKxYSeYp',\n",
       "  '1w857brUeHQfcPpjCd3wHQ',\n",
       "  '28OiUhh3Dl2HtgPOF5BFPg',\n",
       "  '2PfgptDcfJTFtoZIS3AukX',\n",
       "  '2SCEZjr0rIXfh4EfDmkpqI',\n",
       "  '2XPFEnQ9PcyWPIrJJnAkrX',\n",
       "  '2ofh6hffQvD5vD3SqXENYI',\n",
       "  '2uxl5NA8f6kl3FrEPT0Gsu',\n",
       "  '2yuQqhSklmfWgn8lmJNk5t',\n",
       "  '3EkXv8MJyaKqRIWRL3hsW3',\n",
       "  '3HViIGlk6vd4K4HAbQ1XKg',\n",
       "  '3IFJ7ZGMjHErGmW9NAOdkp',\n",
       "  '3JSvIZCtxK4fUywBK41129',\n",
       "  '3KeR5BDM2giFr8zoSXBrgE',\n",
       "  '3bqEvlGHE4amqPGZtdMnep',\n",
       "  '3wW4dsaL7EVVdAfu9aIU1M',\n",
       "  '42joEEymK7EIHODfNB4yug',\n",
       "  '42tqnrA3ZlajJn29eE2Qqg',\n",
       "  '4qQas6wHjmGZsUBS9ziAhe',\n",
       "  '59vf7ECdQd6ZIbfc3zPwey',\n",
       "  '5FLKDb9bvbMu0yTahZtgHO',\n",
       "  '5Kba7KaiVxd5n7JIPFVfmY',\n",
       "  '5W1xfdrKU44SOOR7fKFmxn',\n",
       "  '5ftKZ7X2vjjJ1HFQYQn1UF',\n",
       "  '5g9YhHW8tE7Tcslgxsk5u9',\n",
       "  '66A7X1EqFQEEvuE5Nezqrl',\n",
       "  '6DcAHOjKGAzytkGp7DNrbE',\n",
       "  '6FmbRETfSYeBwF48whZnM9',\n",
       "  '6Kni5BJN0cqBMXqANtHGG8',\n",
       "  '6RQArjhEoHV6Pvoc2kAtrw',\n",
       "  '76hVw7WdMkDylaMlW0X8Ol',\n",
       "  '7Huw5Su2SFHiKqZHdrDlVl',\n",
       "  '7bBGtsRDuDXdr0glqgdIlx',\n",
       "  '7hl54HF6Nykh5IDrbqhiJX',\n",
       "  '7qE3WaOVAAIxgH8WtjbBBj',\n",
       "  '7yEA9KnVNoMC9yLZU89f1r'},\n",
       " ['The Body'])"
      ]
     },
     "execution_count": 115,
     "metadata": {},
     "output_type": "execute_result"
    }
   ],
   "source": [
    "search_for_albums(csv_path)"
   ]
  },
  {
   "cell_type": "code",
   "execution_count": null,
   "metadata": {},
   "outputs": [],
   "source": []
  }
 ],
 "metadata": {
  "kernelspec": {
   "display_name": "Python 3",
   "language": "python",
   "name": "python3"
  },
  "language_info": {
   "codemirror_mode": {
    "name": "ipython",
    "version": 3
   },
   "file_extension": ".py",
   "mimetype": "text/x-python",
   "name": "python",
   "nbconvert_exporter": "python",
   "pygments_lexer": "ipython3",
   "version": "3.7.4"
  }
 },
 "nbformat": 4,
 "nbformat_minor": 2
}
