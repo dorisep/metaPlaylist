{
 "cells": [
  {
   "cell_type": "code",
   "execution_count": 20,
   "metadata": {},
   "outputs": [],
   "source": [
    "import csv\n",
    "import os\n",
    "import requests\n",
    "from urllib.parse import urlencode\n",
    "from spotify_client import *\n",
    "import json\n",
    "import time\n",
    "from bs4 import BeautifulSoup\n",
    "from datetime import date, datetime"
   ]
  },
  {
   "cell_type": "code",
   "execution_count": 21,
   "metadata": {},
   "outputs": [],
   "source": [
    "playlist_id =\n",
    "client_id = \n",
    "client_secret = \n",
    "user_id = \"ed.doris\"\n",
    "endpoint = \"https://api.spotify.com/v1/users/{user_id}/playlists\"\n",
    "csv_path = os.path.join('..', '..', 'data', 'test', 'test.csv')\n",
    "OAuth_Token =\n",
    "name = \"meta_20ys_90+\"\n",
    "headers = {}\n",
    "albums=[]\n",
    "artist=[]\n",
    "temp = []\n",
    "parse_album_ids = []\n",
    "album_ids = set()\n",
    "albums_not_found = {'artist':[], 'album':[]}\n",
    "track_ids=[]\n"
   ]
  },
  {
   "cell_type": "code",
   "execution_count": 22,
   "metadata": {},
   "outputs": [],
   "source": [
    "artists = []\n",
    "albums = []\n",
    "\n",
    "with open(csv_path, newline='') as csvfile:\n",
    "    reader = csv.DictReader(csvfile)\n",
    "    for row in reader:\n",
    "        row['date']=(datetime.strptime(row['date'], '%B %d, %Y'))\n",
    "        row['week_num']=(row['date']).isocalendar()[1]\n",
    "        if row['week_num']==5:\n",
    "            artists.append(row['artist'])\n",
    "            albums.append(row['album'])\n"
   ]
  },
  {
   "cell_type": "code",
   "execution_count": 23,
   "metadata": {},
   "outputs": [],
   "source": [
    "def search_for_albums(csv_path):\n",
    "    with open(csv_path, newline='') as csvfile:\n",
    "        reader = csv.DictReader(csvfile)\n",
    "        for row in reader:\n",
    "            if int(row['meta_score']) >= 90:\n",
    "                artist.append(row['artist'])\n",
    "                albums.append(row['album'])\n",
    "    spotify = SpotifyAPI(client_id, client_secret)   \n",
    "    for al, ar in zip(albums, artist):\n",
    "        temp = spotify.search({\"album\":al, \"artist\":ar}, search_type=\"album\")\n",
    "        try:\n",
    "            parse_album_ids = (temp[\"albums\"][\"items\"][0][\"id\"])\n",
    "        except:\n",
    "            albums_not_found['artist'].append(ar)\n",
    "            albums_not_found['album'].append(al)\n",
    "        album_ids.add(parse_album_ids)\n",
    "    return album_ids, albums_not_found"
   ]
  },
  {
   "cell_type": "code",
   "execution_count": 24,
   "metadata": {},
   "outputs": [
    {
     "data": {
      "text/plain": [
       "(set(), {'artist': [], 'album': []})"
      ]
     },
     "execution_count": 24,
     "metadata": {},
     "output_type": "execute_result"
    }
   ],
   "source": [
    "search_for_albums(csv_path)"
   ]
  },
  {
   "cell_type": "code",
   "execution_count": 25,
   "metadata": {
    "scrolled": true
   },
   "outputs": [
    {
     "ename": "SyntaxError",
     "evalue": "'return' outside function (<ipython-input-25-a99352f96a98>, line 19)",
     "output_type": "error",
     "traceback": [
      "\u001b[0;36m  File \u001b[0;32m\"<ipython-input-25-a99352f96a98>\"\u001b[0;36m, line \u001b[0;32m19\u001b[0m\n\u001b[0;31m    return(response_json)\u001b[0m\n\u001b[0m                         ^\u001b[0m\n\u001b[0;31mSyntaxError\u001b[0m\u001b[0;31m:\u001b[0m 'return' outside function\n"
     ]
    }
   ],
   "source": [
    "def create_playlist():\n",
    "    request_body = json.dumps({\n",
    "        \"name\": name,\n",
    "        \"description\": \"metacritic rated albums\",\n",
    "        \"public\": True\n",
    "    })\n",
    "    url = f\"https://api.spotify.com/v1/users/{user_id}/playlists\"\n",
    "\n",
    "\n",
    "    response = requests.post(\n",
    "        url,\n",
    "        data = request_body,\n",
    "        headers = {\n",
    "            \"Content-Type\": \"application/json\",\n",
    "            \"Authorization\": \n",
    "            }\n",
    "    )\n",
    "    response_json = response.json()\n",
    "    return(response_json)\n",
    "\n"
   ]
  },
  {
   "cell_type": "code",
   "execution_count": 13,
   "metadata": {},
   "outputs": [],
   "source": [
    "def get_album_tracks():\n",
    "#     request_data = json.dumps(uris)\n",
    "    for album_id in album_ids:\n",
    "        query = f\"https://api.spotify.com/v1/albums/{album_id}/tracks\"\n",
    "        response = requests.get(\n",
    "            query,\n",
    "            headers = {\n",
    "                \"Content-Type\": \"application/json\",\n",
    "                \"Authorization\": \n",
    "            })\n",
    "        response_json = response.json()\n",
    "        tracks = response_json[\"items\"]\n",
    "        for track in tracks:\n",
    "            track_ids.append(track[\"uri\"])\n",
    "    return track_ids"
   ]
  },
  {
   "cell_type": "code",
   "execution_count": 26,
   "metadata": {},
   "outputs": [
    {
     "data": {
      "text/plain": [
       "[]"
      ]
     },
     "execution_count": 26,
     "metadata": {},
     "output_type": "execute_result"
    }
   ],
   "source": [
    "get_album_tracks()"
   ]
  },
  {
   "cell_type": "code",
   "execution_count": 1,
   "metadata": {},
   "outputs": [
    {
     "ename": "SyntaxError",
     "evalue": "invalid syntax (<ipython-input-1-115afc30e3f0>, line 17)",
     "output_type": "error",
     "traceback": [
      "\u001b[1;36m  File \u001b[1;32m\"<ipython-input-1-115afc30e3f0>\"\u001b[1;36m, line \u001b[1;32m17\u001b[0m\n\u001b[1;33m    })\u001b[0m\n\u001b[1;37m    ^\u001b[0m\n\u001b[1;31mSyntaxError\u001b[0m\u001b[1;31m:\u001b[0m invalid syntax\n"
     ]
    }
   ],
   "source": [
    "track_limit = 100 \n",
    "# using list comprehension \n",
    "batched_tracks = [track_ids[i * track_limit:(i + 1) * track_limit] for i in range((len(track_ids) + track_limit - 1) // track_limit)]  \n",
    "print (len(batched_tracks)) \n",
    "url = f\"https://api.spotify.com/v1/playlists/{playlist_id}/tracks\"\n",
    "\n",
    "for batch in batched_tracks:\n",
    "    \n",
    "    request_data = json.dumps(batch)\n",
    "\n",
    "    response = requests.post(\n",
    "        url,\n",
    "        data=request_data,\n",
    "        headers = {\n",
    "        \"Content-Type\": \"application/json\",\n",
    "        \"Authorization\": \n",
    "        })\n",
    "return(response.json())\n",
    "    "
   ]
  },
  {
   "cell_type": "code",
   "execution_count": 28,
   "metadata": {},
   "outputs": [
    {
     "ename": "NameError",
     "evalue": "name 'response' is not defined",
     "output_type": "error",
     "traceback": [
      "\u001b[0;31m---------------------------------------------------------------------------\u001b[0m",
      "\u001b[0;31mNameError\u001b[0m                                 Traceback (most recent call last)",
      "\u001b[0;32m<ipython-input-28-5225e3996d33>\u001b[0m in \u001b[0;36m<module>\u001b[0;34m\u001b[0m\n\u001b[0;32m----> 1\u001b[0;31m \u001b[0mprint\u001b[0m\u001b[0;34m(\u001b[0m\u001b[0mresponse\u001b[0m\u001b[0;34m.\u001b[0m\u001b[0mjson\u001b[0m\u001b[0;34m(\u001b[0m\u001b[0;34m)\u001b[0m\u001b[0;34m)\u001b[0m\u001b[0;34m\u001b[0m\u001b[0;34m\u001b[0m\u001b[0m\n\u001b[0m",
      "\u001b[0;31mNameError\u001b[0m: name 'response' is not defined"
     ]
    }
   ],
   "source": [
    "print(response.json())"
   ]
  },
  {
   "cell_type": "code",
   "execution_count": null,
   "metadata": {},
   "outputs": [],
   "source": [
    "print(response.json())"
   ]
  },
  {
   "cell_type": "code",
   "execution_count": null,
   "metadata": {},
   "outputs": [],
   "source": []
  }
 ],
 "metadata": {
  "kernelspec": {
   "display_name": "Python 3",
   "language": "python",
   "name": "python3"
  },
  "language_info": {
   "codemirror_mode": {
    "name": "ipython",
    "version": 3
   },
   "file_extension": ".py",
   "mimetype": "text/x-python",
   "name": "python",
   "nbconvert_exporter": "python",
   "pygments_lexer": "ipython3",
   "version": "3.8.5"
  }
 },
 "nbformat": 4,
 "nbformat_minor": 2
}
