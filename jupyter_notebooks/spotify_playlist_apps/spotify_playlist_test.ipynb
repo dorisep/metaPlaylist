{
 "cells": [
  {
   "cell_type": "code",
   "execution_count": null,
   "metadata": {},
   "outputs": [],
   "source": [
    "import csv\n",
    "import json\n",
    "from datetime import datetime, date\n",
    "from spotify_client import *\n",
    "from config import *"
   ]
  },
  {
   "cell_type": "code",
   "execution_count": null,
   "metadata": {},
   "outputs": [],
   "source": [
    "# def get_week_num():\n",
    "playlist_token = input('Enter playlist authorization token: ')\n",
    "csv_path = path\n",
    "def get_week_num():\n",
    "    my_date = datetime.date.today() \n",
    "    year, week_num, day_of_week = my_date.isocalendar()\n",
    "    this_week = week_num\n",
    "    return this_week"
   ]
  },
  {
   "cell_type": "code",
   "execution_count": null,
   "metadata": {},
   "outputs": [],
   "source": [
    "response.get(https://api.spotify.com/v1/audio-analysis/{id})"
   ]
  },
  {
   "cell_type": "code",
   "execution_count": 3,
   "metadata": {},
   "outputs": [],
   "source": [
    "def get_album_tracks(album_ids):\n",
    "    track_ids = []\n",
    "#     request_data = json.dumps(uris)\n",
    "    for album_id in album_ids:\n",
    "        query = f'https://api.spotify.com/v1/albums/{album_id}/tracks'\n",
    "        response = requests.get(\n",
    "            query,\n",
    "            headers = {\n",
    "                'Content-Type': 'application/json',\n",
    "                'Authorization': f'Bearer {playlist_token}'\n",
    "            })\n",
    "        response_json = response.json()\n",
    "#         print(response_json)\n",
    "        tracks = response_json['items']\n",
    "        for track in tracks:\n",
    "            track_ids.append(track['uri'])\n",
    "    return track_ids"
   ]
  },
  {
   "cell_type": "code",
   "execution_count": 4,
   "metadata": {},
   "outputs": [],
   "source": [
    "def search_for_albums(csv_path):\n",
    "    artists=[]\n",
    "    albums=[]\n",
    "    albums_not_found = {'artist': [], 'album': []}\n",
    "    album_ids = set()\n",
    "\n",
    "#     read in weekly metaScrape csv \n",
    "    with open(csv_path, newline='') as csvfile:\n",
    "        reader = csv.DictReader(csvfile)\n",
    "        for row in reader:\n",
    "#         filter for artists and albums from current week\n",
    "            if int(row['week_num'])==get_week_num():\n",
    "                artists.append(row['artist'])\n",
    "                albums.append(row['album'])\n",
    "#   initialize spotify client\n",
    "    spotify = SpotifyAPI(client_id, client_secret)\n",
    "    for al, ar in zip(albums, artists):\n",
    "#   search for album ids \n",
    "        temp = spotify.search({\"album\":al, \"artist\":ar}, search_type=\"album\")\n",
    "        try:\n",
    "            parse_album_ids = (temp[\"albums\"][\"items\"][0][\"id\"])\n",
    "#   create dicitonary for albums not found\n",
    "        except:\n",
    "            albums_not_found['artist'].append(ar)\n",
    "            albums_not_found['album'].append(al)\n",
    "        album_ids.add(parse_album_ids)\n",
    "    return(get_album_tracks(album_ids))"
   ]
  },
  {
   "cell_type": "code",
   "execution_count": 5,
   "metadata": {},
   "outputs": [],
   "source": [
    "def add_tracks_to_playlist(playlist_id):\n",
    "    track_ids = [track for track in search_for_albums(csv_path)]\n",
    "    track_limit = 100 \n",
    "    # using list comprehension \n",
    "    batched_tracks = [track_ids[i * track_limit:(i + 1) * track_limit] for i in range((len(track_ids) + track_limit - 1) // track_limit)]  \n",
    "    url = f'https://api.spotify.com/v1/playlists/{playlist_id}/tracks'\n",
    "\n",
    "    for batch in batched_tracks:\n",
    "\n",
    "        request_data = json.dumps(batch)\n",
    "\n",
    "        response = requests.post(\n",
    "            url,\n",
    "            data=request_data,\n",
    "            headers = {\n",
    "            'Content-Type': 'application/json',\n",
    "            'Authorization': f'Bearer {playlist_token}'\n",
    "            })\n",
    "    return(response.json())"
   ]
  },
  {
   "cell_type": "code",
   "execution_count": 6,
   "metadata": {},
   "outputs": [],
   "source": [
    "def create_playlist():\n",
    "    week_num = get_week_num()\n",
    "    request_body = json.dumps({\n",
    "        'name': f'2021-week {week_num} scrape',ss\n",
    "        'description': f'metacritic rated albums for the {week_num}th of the year',\n",
    "        'public': True\n",
    "    })\n",
    "    url = f'https://api.spotify.com/v1/users/{spotify_user_id}/playlists'\n",
    "\n",
    "\n",
    "    response = requests.post(\n",
    "        url,\n",
    "        data = request_body,\n",
    "        headers = {\n",
    "            'Content-Type': 'application/json',\n",
    "            'Authorization': f'Bearer {playlist_token}'\n",
    "\n",
    "    })\n",
    "    response_json = response.json()\n",
    "#     print(response_json)\n",
    "    playlist_id = (response_json['id'])\n",
    "\n",
    "    return add_tracks_to_playlist(playlist_id)"
   ]
  },
  {
   "cell_type": "code",
   "execution_count": 7,
   "metadata": {},
   "outputs": [
    {
     "name": "stdout",
     "output_type": "stream",
     "text": [
      "1\n"
     ]
    },
    {
     "data": {
      "text/plain": [
       "{'snapshot_id': 'Myw3M2M1ZGNmOTQ2ZDYzZDI4MjljODMwZTc4OWU4NDJhNTRjOTFlYmRm'}"
      ]
     },
     "execution_count": 7,
     "metadata": {},
     "output_type": "execute_result"
    }
   ],
   "source": [
    "create_playlist()"
   ]
  },
  {
   "cell_type": "code",
   "execution_count": null,
   "metadata": {},
   "outputs": [],
   "source": []
  }
 ],
 "metadata": {
  "kernelspec": {
   "display_name": "Python 3",
   "language": "python",
   "name": "python3"
  },
  "language_info": {
   "codemirror_mode": {
    "name": "ipython",
    "version": 3
   },
   "file_extension": ".py",
   "mimetype": "text/x-python",
   "name": "python",
   "nbconvert_exporter": "python",
   "pygments_lexer": "ipython3",
   "version": "3.7.4"
  }
 },
 "nbformat": 4,
 "nbformat_minor": 2
}
