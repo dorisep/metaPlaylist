{
 "cells": [
  {
   "cell_type": "code",
   "execution_count": 2,
   "metadata": {},
   "outputs": [],
   "source": [
    "import pandas as pd\n",
    "import os"
   ]
  },
  {
   "cell_type": "code",
   "execution_count": 3,
   "metadata": {},
   "outputs": [
    {
     "data": {
      "text/html": [
       "<div>\n",
       "<style scoped>\n",
       "    .dataframe tbody tr th:only-of-type {\n",
       "        vertical-align: middle;\n",
       "    }\n",
       "\n",
       "    .dataframe tbody tr th {\n",
       "        vertical-align: top;\n",
       "    }\n",
       "\n",
       "    .dataframe thead th {\n",
       "        text-align: right;\n",
       "    }\n",
       "</style>\n",
       "<table border=\"1\" class=\"dataframe\">\n",
       "  <thead>\n",
       "    <tr style=\"text-align: right;\">\n",
       "      <th></th>\n",
       "      <th>artist</th>\n",
       "      <th>album</th>\n",
       "      <th>date</th>\n",
       "      <th>meta_score</th>\n",
       "      <th>user_score</th>\n",
       "    </tr>\n",
       "  </thead>\n",
       "  <tbody>\n",
       "    <tr>\n",
       "      <td>0</td>\n",
       "      <td>The Weather Station</td>\n",
       "      <td>Ignorance</td>\n",
       "      <td>February 5, 2021</td>\n",
       "      <td>88</td>\n",
       "      <td>90</td>\n",
       "    </tr>\n",
       "    <tr>\n",
       "      <td>1</td>\n",
       "      <td>Sleaford Mods</td>\n",
       "      <td>Spare Ribs</td>\n",
       "      <td>January 15, 2021</td>\n",
       "      <td>83</td>\n",
       "      <td>82</td>\n",
       "    </tr>\n",
       "    <tr>\n",
       "      <td>2</td>\n",
       "      <td>Arlo Parks</td>\n",
       "      <td>Collapsed in Sunbeams</td>\n",
       "      <td>January 29, 2021</td>\n",
       "      <td>83</td>\n",
       "      <td>86</td>\n",
       "    </tr>\n",
       "    <tr>\n",
       "      <td>3</td>\n",
       "      <td>Jazmine Sullivan</td>\n",
       "      <td>Heaux Tales</td>\n",
       "      <td>January 8, 2021</td>\n",
       "      <td>83</td>\n",
       "      <td>87</td>\n",
       "    </tr>\n",
       "    <tr>\n",
       "      <td>4</td>\n",
       "      <td>Black Country, New Road</td>\n",
       "      <td>For the First Time</td>\n",
       "      <td>February 5, 2021</td>\n",
       "      <td>83</td>\n",
       "      <td>87</td>\n",
       "    </tr>\n",
       "  </tbody>\n",
       "</table>\n",
       "</div>"
      ],
      "text/plain": [
       "                    artist                  album              date  \\\n",
       "0      The Weather Station              Ignorance  February 5, 2021   \n",
       "1            Sleaford Mods             Spare Ribs  January 15, 2021   \n",
       "2               Arlo Parks  Collapsed in Sunbeams  January 29, 2021   \n",
       "3         Jazmine Sullivan            Heaux Tales   January 8, 2021   \n",
       "4  Black Country, New Road     For the First Time  February 5, 2021   \n",
       "\n",
       "   meta_score  user_score  \n",
       "0          88          90  \n",
       "1          83          82  \n",
       "2          83          86  \n",
       "3          83          87  \n",
       "4          83          87  "
      ]
     },
     "execution_count": 3,
     "metadata": {},
     "output_type": "execute_result"
    }
   ],
   "source": [
    "csv_path = os.path.join('..', '..', 'data', 'test', 'test.csv')\n",
    "# Read data from file 'filename.csv' \n",
    "# (in the same directory that your python process is based)\n",
    "# Control delimiters, rows, column names with read_csv (see later) \n",
    "data = pd.read_csv(csv_path) \n",
    "# Preview the first 5 lines of the loaded data \n",
    "data.head()"
   ]
  },
  {
   "cell_type": "code",
   "execution_count": 4,
   "metadata": {},
   "outputs": [
    {
     "data": {
      "text/plain": [
       "31"
      ]
     },
     "execution_count": 4,
     "metadata": {},
     "output_type": "execute_result"
    }
   ],
   "source": [
    "data['artist'].count()"
   ]
  },
  {
   "cell_type": "code",
   "execution_count": null,
   "metadata": {},
   "outputs": [],
   "source": [
    "index=pd.date_range(start='January 01, 202', end='2014-1-31',freq='D')\n",
    "df = pd.DataFrame({\"vals\":np.random.randint(-5,5,len(index))}, index=index)\n",
    "df[\"csum\"] = df.vals.cumsum()\n",
    "# Add a column for weeks to enable grouping\n",
    "df[\"weeks\"] = df.index.week\n",
    "\n",
    "# Group the data\n",
    "grps = df.groupby(\"weeks\")\n",
    "\n",
    "# split the group into separate dataframes\n",
    "df_dict = {}\n",
    "for gi in grps.groups:\n",
    "    df_dict[gi] = grps.get_group(gi)"
   ]
  }
 ],
 "metadata": {
  "kernelspec": {
   "display_name": "Python 3",
   "language": "python",
   "name": "python3"
  },
  "language_info": {
   "codemirror_mode": {
    "name": "ipython",
    "version": 3
   },
   "file_extension": ".py",
   "mimetype": "text/x-python",
   "name": "python",
   "nbconvert_exporter": "python",
   "pygments_lexer": "ipython3",
   "version": "3.7.4"
  }
 },
 "nbformat": 4,
 "nbformat_minor": 2
}
