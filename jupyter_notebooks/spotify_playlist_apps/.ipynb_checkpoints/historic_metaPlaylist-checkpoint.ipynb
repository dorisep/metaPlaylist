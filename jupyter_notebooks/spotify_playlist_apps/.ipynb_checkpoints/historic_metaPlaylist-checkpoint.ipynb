{
 "cells": [
  {
   "cell_type": "code",
   "execution_count": 45,
   "metadata": {},
   "outputs": [],
   "source": [
    "import csv\n",
    "import os\n",
    "import requests\n",
    "from urllib.parse import urlencode\n",
    "# from spotify_test_client import *\n",
    "import json\n",
    "import time\n",
    "from bs4 import BeautifulSoup\n"
   ]
  },
  {
   "cell_type": "code",
   "execution_count": 1,
   "metadata": {},
   "outputs": [
    {
     "ename": "SyntaxError",
     "evalue": "invalid syntax (<ipython-input-1-3a8401500997>, line 1)",
     "output_type": "error",
     "traceback": [
      "\u001b[1;36m  File \u001b[1;32m\"<ipython-input-1-3a8401500997>\"\u001b[1;36m, line \u001b[1;32m1\u001b[0m\n\u001b[1;33m    client_id =\u001b[0m\n\u001b[1;37m               ^\u001b[0m\n\u001b[1;31mSyntaxError\u001b[0m\u001b[1;31m:\u001b[0m invalid syntax\n"
     ]
    }
   ],
   "source": [
    "client_id =\n",
    "client_secret = \n",
    "user_id = \"ed.doris\"\n",
    "endpoint = \"https://api.spotify.com/v1/users/{user_id}/playlists\"\n",
    "# csv_path = os.path.join(\"..\", \"data\", \"albums_2020.csv\")\n",
    "OAuth_Token = token"
   ]
  },
  {
   "cell_type": "code",
   "execution_count": null,
   "metadata": {},
   "outputs": [],
   "source": []
  },
  {
   "cell_type": "code",
   "execution_count": 47,
   "metadata": {},
   "outputs": [],
   "source": [
    "def search_for_albums(csv_path):\n",
    "    print(csv_path)\n",
    "    with open(csv_path, newline='') as csvfile:\n",
    "        reader = csv.DictReader(csvfile)\n",
    "#     with open(csv_path, newline='') as csvfile:\n",
    "#         print(type(csvfile))\n",
    "#         reader = csv.DictReader(csvfile)\n",
    "        for row in reader:\n",
    "\n",
    "            artist.append(row['artist'])\n",
    "            albums.append(row['album'])\n",
    "    spotify = SpotifyAPI(client_id, client_secret)   \n",
    "    for al, ar in zip(albums, artist):\n",
    "        temp = spotify.search({\"album\":al, \"artist\":ar}, search_type=\"album\")\n",
    "        try:\n",
    "            parse_album_ids = (temp[\"albums\"][\"items\"][0][\"id\"])\n",
    "        except:\n",
    "            albums_not_found['artist'].append(ar)\n",
    "            albums_not_found['album'].append(al)\n",
    "        album_ids.add(parse_album_ids)\n",
    "    return album_ids, albums_not_found"
   ]
  },
  {
   "cell_type": "code",
   "execution_count": 48,
   "metadata": {},
   "outputs": [
    {
     "name": "stdout",
     "output_type": "stream",
     "text": [
      "../../data/albums_2000.csv\n",
      "../../data/albums_2000.csv\n"
     ]
    },
    {
     "ename": "NameError",
     "evalue": "name 'artist' is not defined",
     "output_type": "error",
     "traceback": [
      "\u001b[0;31m---------------------------------------------------------------------------\u001b[0m",
      "\u001b[0;31mNameError\u001b[0m                                 Traceback (most recent call last)",
      "\u001b[0;32m<ipython-input-48-0312029b5486>\u001b[0m in \u001b[0;36m<module>\u001b[0;34m\u001b[0m\n\u001b[1;32m      4\u001b[0m     \u001b[0mprint\u001b[0m\u001b[0;34m(\u001b[0m\u001b[0mcsv_path\u001b[0m\u001b[0;34m)\u001b[0m\u001b[0;34m\u001b[0m\u001b[0;34m\u001b[0m\u001b[0m\n\u001b[1;32m      5\u001b[0m \u001b[0;31m#     reader = csv.DictReader(csvfile, 'rb')\u001b[0m\u001b[0;34m\u001b[0m\u001b[0;34m\u001b[0m\u001b[0;34m\u001b[0m\u001b[0m\n\u001b[0;32m----> 6\u001b[0;31m     \u001b[0msearch_for_albums\u001b[0m\u001b[0;34m(\u001b[0m\u001b[0mcsv_path\u001b[0m\u001b[0;34m)\u001b[0m\u001b[0;34m\u001b[0m\u001b[0;34m\u001b[0m\u001b[0m\n\u001b[0m\u001b[1;32m      7\u001b[0m     \u001b[0;32mbreak\u001b[0m\u001b[0;34m\u001b[0m\u001b[0;34m\u001b[0m\u001b[0m\n",
      "\u001b[0;32m<ipython-input-47-4005fbad7447>\u001b[0m in \u001b[0;36msearch_for_albums\u001b[0;34m(csv_path)\u001b[0m\n\u001b[1;32m      8\u001b[0m         \u001b[0;32mfor\u001b[0m \u001b[0mrow\u001b[0m \u001b[0;32min\u001b[0m \u001b[0mreader\u001b[0m\u001b[0;34m:\u001b[0m\u001b[0;34m\u001b[0m\u001b[0;34m\u001b[0m\u001b[0m\n\u001b[1;32m      9\u001b[0m \u001b[0;34m\u001b[0m\u001b[0m\n\u001b[0;32m---> 10\u001b[0;31m             \u001b[0martist\u001b[0m\u001b[0;34m.\u001b[0m\u001b[0mappend\u001b[0m\u001b[0;34m(\u001b[0m\u001b[0mrow\u001b[0m\u001b[0;34m[\u001b[0m\u001b[0;34m'artist'\u001b[0m\u001b[0;34m]\u001b[0m\u001b[0;34m)\u001b[0m\u001b[0;34m\u001b[0m\u001b[0;34m\u001b[0m\u001b[0m\n\u001b[0m\u001b[1;32m     11\u001b[0m             \u001b[0malbums\u001b[0m\u001b[0;34m.\u001b[0m\u001b[0mappend\u001b[0m\u001b[0;34m(\u001b[0m\u001b[0mrow\u001b[0m\u001b[0;34m[\u001b[0m\u001b[0;34m'album'\u001b[0m\u001b[0;34m]\u001b[0m\u001b[0;34m)\u001b[0m\u001b[0;34m\u001b[0m\u001b[0;34m\u001b[0m\u001b[0m\n\u001b[1;32m     12\u001b[0m     \u001b[0mspotify\u001b[0m \u001b[0;34m=\u001b[0m \u001b[0mSpotifyAPI\u001b[0m\u001b[0;34m(\u001b[0m\u001b[0mclient_id\u001b[0m\u001b[0;34m,\u001b[0m \u001b[0mclient_secret\u001b[0m\u001b[0;34m)\u001b[0m\u001b[0;34m\u001b[0m\u001b[0;34m\u001b[0m\u001b[0m\n",
      "\u001b[0;31mNameError\u001b[0m: name 'artist' is not defined"
     ]
    }
   ],
   "source": [
    "csv_list = range(2000, 2021)\n",
    "for csv_file in csv_list:\n",
    "    csv_path = os.path.join('..', '..', 'data', f'albums_{csv_file}.csv')\n",
    "    print(csv_path)\n",
    "#     reader = csv.DictReader(csvfile, 'rb')\n",
    "    search_for_albums(csv_path)\n",
    "    break"
   ]
  },
  {
   "cell_type": "code",
   "execution_count": 23,
   "metadata": {},
   "outputs": [
    {
     "ename": "AttributeError",
     "evalue": "'int' object has no attribute 'DictReader'",
     "output_type": "error",
     "traceback": [
      "\u001b[0;31m---------------------------------------------------------------------------\u001b[0m",
      "\u001b[0;31mAttributeError\u001b[0m                            Traceback (most recent call last)",
      "\u001b[0;32m<ipython-input-23-5e2ebd8222a9>\u001b[0m in \u001b[0;36m<module>\u001b[0;34m\u001b[0m\n\u001b[1;32m      1\u001b[0m \u001b[0;32mwith\u001b[0m \u001b[0mopen\u001b[0m\u001b[0;34m(\u001b[0m\u001b[0;34m'../../data/albums_2000.csv'\u001b[0m\u001b[0;34m,\u001b[0m \u001b[0mnewline\u001b[0m\u001b[0;34m=\u001b[0m\u001b[0;34m''\u001b[0m\u001b[0;34m)\u001b[0m \u001b[0;32mas\u001b[0m \u001b[0mcsvfile\u001b[0m\u001b[0;34m:\u001b[0m\u001b[0;34m\u001b[0m\u001b[0;34m\u001b[0m\u001b[0m\n\u001b[0;32m----> 2\u001b[0;31m     \u001b[0mreader\u001b[0m \u001b[0;34m=\u001b[0m \u001b[0mcsv\u001b[0m\u001b[0;34m.\u001b[0m\u001b[0mDictReader\u001b[0m\u001b[0;34m(\u001b[0m\u001b[0mcsvfile\u001b[0m\u001b[0;34m)\u001b[0m\u001b[0;34m\u001b[0m\u001b[0;34m\u001b[0m\u001b[0m\n\u001b[0m\u001b[1;32m      3\u001b[0m     \u001b[0;32mfor\u001b[0m \u001b[0mrow\u001b[0m \u001b[0;32min\u001b[0m \u001b[0mreader\u001b[0m\u001b[0;34m:\u001b[0m\u001b[0;34m\u001b[0m\u001b[0;34m\u001b[0m\u001b[0m\n\u001b[1;32m      4\u001b[0m         \u001b[0mprint\u001b[0m\u001b[0;34m(\u001b[0m\u001b[0mrow\u001b[0m\u001b[0;34m[\u001b[0m\u001b[0;34m\"artist\"\u001b[0m\u001b[0;34m]\u001b[0m\u001b[0;34m)\u001b[0m\u001b[0;34m\u001b[0m\u001b[0;34m\u001b[0m\u001b[0m\n",
      "\u001b[0;31mAttributeError\u001b[0m: 'int' object has no attribute 'DictReader'"
     ]
    }
   ],
   "source": [
    "\n",
    "with open('../../data/albums_2000.csv', newline='') as csvfile:\n",
    "    reader = csv.DictReader(csvfile)\n",
    "    for row in reader:\n",
    "        print(row[\"artist\"])"
   ]
  },
  {
   "cell_type": "code",
   "execution_count": null,
   "metadata": {},
   "outputs": [],
   "source": [
    "\n",
    "# with open(csv_path, newline='') as csvfile:\n",
    "#     reader = csv.DictReader(csvfile)\n",
    "#     for row in reader:\n",
    "#         if row['date'] == 'Feb-20':\n",
    "#             artist.append(row['artist'])\n",
    "#             albums.append(row['album'])\n",
    "# spotify = SpotifyAPI(client_id, client_secret)   \n",
    "# for al, ar in zip(albums, artist):\n",
    "#     temp = spotify.search({\"album\":al, \"artist\":ar}, search_type=\"album\")\n",
    "#     print(len(temp[\"albums\"][\"items\"]))\n",
    "# #         try:\n",
    "# #             parse_album_ids = (temp[\"albums\"][\"items\"][0][\"id\"])\n",
    "# #         except:\n",
    "# #             albums_not_found['artist'].append(ar)\n",
    "# #             albums_not_found['album'].append(al)\n",
    "# #         album_ids.add(parse_album_ids)\n",
    "# #     return album_ids, albums_not_found"
   ]
  },
  {
   "cell_type": "code",
   "execution_count": null,
   "metadata": {
    "scrolled": true
   },
   "outputs": [],
   "source": [
    "search_for_albums(csv_path)"
   ]
  },
  {
   "cell_type": "code",
   "execution_count": null,
   "metadata": {},
   "outputs": [],
   "source": [
    "print(album_ids)"
   ]
  },
  {
   "cell_type": "code",
   "execution_count": null,
   "metadata": {},
   "outputs": [],
   "source": [
    "def create_playlist():\n",
    "    request_body = json.dumps({\n",
    "        \"name\": name,\n",
    "        \"description\": \"metacritic rated albums\",\n",
    "        \"public\": True\n",
    "    })\n",
    "    url = f\"https://api.spotify.com/v1/users/{user_id}/playlists\"\n",
    "\n",
    "\n",
    "    response = requests.post(\n",
    "        url,\n",
    "        data = request_body,\n",
    "        headers = {\n",
    "            \"Content-Type\": \"application/json\",\n",
    "            \"Authorization\": playlist_token\n",
    "            }\n",
    "    )\n",
    "    response_json = response.json()\n",
    "    return(response_json)\n",
    "\n"
   ]
  },
  {
   "cell_type": "code",
   "execution_count": null,
   "metadata": {},
   "outputs": [],
   "source": []
  },
  {
   "cell_type": "code",
   "execution_count": null,
   "metadata": {},
   "outputs": [],
   "source": [
    "create_playlist()"
   ]
  },
  {
   "cell_type": "code",
   "execution_count": null,
   "metadata": {},
   "outputs": [],
   "source": [
    "def get_album_tracks():\n",
    "#     request_data = json.dumps(uris)\n",
    "    for album_id in album_ids:\n",
    "        query = f\"https://api.spotify.com/v1/albums/{album_id}/tracks\"\n",
    "        response = requests.get(\n",
    "            query,\n",
    "            headers = {\n",
    "                \"Content-Type\": \"application/json\",\n",
    "                \"Authorization\": \"Bearer \n",
    "            })\n",
    "        response_json = response.json()\n",
    "        tracks = response_json[\"items\"]\n",
    "        for track in tracks:\n",
    "            track_ids.append(track[\"uri\"])\n",
    "    return track_ids"
   ]
  },
  {
   "cell_type": "code",
   "execution_count": null,
   "metadata": {},
   "outputs": [],
   "source": [
    "get_album_tracks()"
   ]
  },
  {
   "cell_type": "code",
   "execution_count": null,
   "metadata": {},
   "outputs": [],
   "source": [
    "print(track_ids)"
   ]
  },
  {
   "cell_type": "code",
   "execution_count": null,
   "metadata": {},
   "outputs": [],
   "source": [
    "track_limit = 100 \n",
    "# using list comprehension \n",
    "batched_tracks = [track_ids[i * track_limit:(i + 1) * track_limit] for i in range((len(track_ids) + track_limit - 1) // track_limit)]  \n",
    "print (len(batched_tracks)) \n",
    "url = f\"https://api.spotify.com/v1/playlists/{playlist_id}/tracks\"\n",
    "\n",
    "for batch in batched_tracks:\n",
    "    \n",
    "    request_data = json.dumps(batch)\n",
    "\n",
    "    response = requests.post(\n",
    "        url,\n",
    "        data=request_data,\n",
    "        headers = {\n",
    "        \"Content-Type\": \"application/json\",\n",
    "        \"Authorization\": token\n",
    "        })\n",
    "    print(response.json())\n",
    "    "
   ]
  },
  {
   "cell_type": "code",
   "execution_count": null,
   "metadata": {},
   "outputs": [],
   "source": [
    "print(response.json())"
   ]
  },
  {
   "cell_type": "code",
   "execution_count": null,
   "metadata": {},
   "outputs": [],
   "source": [
    "print(response.json())"
   ]
  },
  {
   "cell_type": "code",
   "execution_count": null,
   "metadata": {},
   "outputs": [],
   "source": []
  },
  {
   "cell_type": "code",
   "execution_count": null,
   "metadata": {},
   "outputs": [],
   "source": []
  }
 ],
 "metadata": {
  "kernelspec": {
   "display_name": "Python 3",
   "language": "python",
   "name": "python3"
  },
  "language_info": {
   "codemirror_mode": {
    "name": "ipython",
    "version": 3
   },
   "file_extension": ".py",
   "mimetype": "text/x-python",
   "name": "python",
   "nbconvert_exporter": "python",
   "pygments_lexer": "ipython3",
   "version": "3.8.5"
  }
 },
 "nbformat": 4,
 "nbformat_minor": 2
}
