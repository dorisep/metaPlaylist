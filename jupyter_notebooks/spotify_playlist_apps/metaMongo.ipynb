{
 "cells": [
  {
   "cell_type": "code",
   "execution_count": 1,
   "id": "a069f58f",
   "metadata": {},
   "outputs": [
    {
     "name": "stdout",
     "output_type": "stream",
     "text": [
      "\n",
      "ArgumentError: Invalid shells: \n",
      "  - zhs\n",
      "  - metaPlaylist\n",
      "\n",
      "Currently available shells are:\n",
      "  - bash\n",
      "  - fish\n",
      "  - powershell\n",
      "  - tcsh\n",
      "  - xonsh\n",
      "  - zsh\n",
      "\n",
      "\n",
      "Note: you may need to restart the kernel to use updated packages.\n"
     ]
    }
   ],
   "source": [
    "conda init zhs metaPlaylist\n"
   ]
  },
  {
   "cell_type": "code",
   "execution_count": null,
   "id": "6f6b3feb",
   "metadata": {},
   "outputs": [],
   "source": [
    "import pymongo"
   ]
  }
 ],
 "metadata": {
  "kernelspec": {
   "display_name": "Python 3",
   "language": "python",
   "name": "python3"
  },
  "language_info": {
   "codemirror_mode": {
    "name": "ipython",
    "version": 3
   },
   "file_extension": ".py",
   "mimetype": "text/x-python",
   "name": "python",
   "nbconvert_exporter": "python",
   "pygments_lexer": "ipython3",
   "version": "3.8.8"
  }
 },
 "nbformat": 4,
 "nbformat_minor": 5
}
