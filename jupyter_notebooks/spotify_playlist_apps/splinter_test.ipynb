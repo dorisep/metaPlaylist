{
 "cells": [
  {
   "cell_type": "code",
   "execution_count": 6,
   "metadata": {},
   "outputs": [],
   "source": [
    "from splinter import Browser\n",
    "from bs4 import BeautifulSoup"
   ]
  },
  {
   "cell_type": "code",
   "execution_count": 7,
   "metadata": {},
   "outputs": [],
   "source": [
    "executable_path = {'executable_path': '/usr/local/bin/chromedriver'}\n",
    "browser = Browser('chrome', **executable_path, headless=False)"
   ]
  },
  {
   "cell_type": "code",
   "execution_count": 8,
   "metadata": {},
   "outputs": [],
   "source": [
    "url = 'https://developer.spotify.com/console/post-playlists/'\n",
    "browser.visit(url)"
   ]
  },
  {
   "cell_type": "code",
   "execution_count": 9,
   "metadata": {},
   "outputs": [],
   "source": [
    "html = browser.html\n",
    "soup = BeautifulSoup(html, 'html.parser')"
   ]
  },
  {
   "cell_type": "code",
   "execution_count": 5,
   "metadata": {},
   "outputs": [],
   "source": [
    "form = soup.find_all('input', class_='form-control')"
   ]
  },
  {
   "cell_type": "code",
   "execution_count": 21,
   "metadata": {},
   "outputs": [
    {
     "name": "stdout",
     "output_type": "stream",
     "text": [
      "[<input autocomplete=\"off\" class=\"form-control\" id=\"search-box\" name=\"query\" placeholder=\"Type your search\" type=\"text\"/>, <input class=\"form-control\" id=\"path-param-user_id\" name=\"user_id\" placeholder=\"\" type=\"undefined\" value=\"\"/>, <input class=\"form-control\" id=\"oauth-input\" placeholder=\"OAuth Access Token\" value=\"\"/>]\n"
     ]
    }
   ],
   "source": [
    "print(form)"
   ]
  },
  {
   "cell_type": "code",
   "execution_count": 20,
   "metadata": {},
   "outputs": [
    {
     "ename": "SyntaxError",
     "evalue": "invalid syntax (<ipython-input-20-72ff21c88925>, line 2)",
     "output_type": "error",
     "traceback": [
      "\u001b[0;36m  File \u001b[0;32m\"<ipython-input-20-72ff21c88925>\"\u001b[0;36m, line \u001b[0;32m2\u001b[0m\n\u001b[0;31m    <input id=\"scope-user-read-playback-state\" name=\"scope\" type=\"checkbox\" value=\"user-read-playback-state\"/>\u001b[0m\n\u001b[0m    ^\u001b[0m\n\u001b[0;31mSyntaxError\u001b[0m\u001b[0;31m:\u001b[0m invalid syntax\n"
     ]
    }
   ],
   "source": [
    "\n",
    "\n",
    "\n",
    "\n",
    "#path-param-user_id\n",
    "<input id=\"scope-user-read-playback-state\" name=\"scope\" type=\"checkbox\" value=\"user-read-playback-state\"/>\n",
    "<input id=\"scope-user-modify-playback-state\" name=\"scope\" type=\"checkbox\" value=\"user-modify-playback-state\"/>\n",
    "<input id=\"scope-user-read-currently-playing\" name=\"scope\" type=\"checkbox\" value=\"user-read-currently-playing\"/>\n",
    "<input id=\"scope-user-read-recently-played\" name=\"scope\" type=\"checkbox\" value=\"user-read-recently-played\"/>\n",
    "<input class=\"btn btn-sm btn-primary\" id=\"oauthRequestToken\" type=\"submit\" value=\"Request Token\"/>\n",
    "<input class=\"form-control\" id=\"path-param-user_id\" name=\"user_id\" placeholder=\"\" type=\"undefined\" value=\"\"/>\n",
    "<input class=\"form-control\" id=\"oauth-input\" placeholder=\"OAuth Access Token\" value=\"\"/>]"
   ]
  },
  {
   "cell_type": "code",
   "execution_count": null,
   "metadata": {},
   "outputs": [],
   "source": []
  }
 ],
 "metadata": {
  "kernelspec": {
   "display_name": "Python 3",
   "language": "python",
   "name": "python3"
  },
  "language_info": {
   "codemirror_mode": {
    "name": "ipython",
    "version": 3
   },
   "file_extension": ".py",
   "mimetype": "text/x-python",
   "name": "python",
   "nbconvert_exporter": "python",
   "pygments_lexer": "ipython3",
   "version": "3.7.4"
  }
 },
 "nbformat": 4,
 "nbformat_minor": 2
}
