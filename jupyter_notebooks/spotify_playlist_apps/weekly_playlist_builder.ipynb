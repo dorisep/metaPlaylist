{
 "cells": [
  {
   "cell_type": "code",
   "execution_count": 23,
   "metadata": {},
   "outputs": [],
   "source": [
    "import pandas as pd\n",
    "import os\n",
    "import datetime\n",
    "import csv\n",
    "from spotify_test_client import *\n",
    "from config import client_id, client_secret, spotify_user_id"
   ]
  },
  {
   "cell_type": "code",
   "execution_count": 24,
   "metadata": {},
   "outputs": [],
   "source": [
    "def get_week_num():\n",
    "    my_date = datetime.date.today() \n",
    "    year, week_num, day_of_week = my_date.isocalendar()    \n",
    "    return week_num"
   ]
  },
  {
   "cell_type": "code",
   "execution_count": 25,
   "metadata": {},
   "outputs": [
    {
     "data": {
      "text/plain": [
       "7"
      ]
     },
     "execution_count": 25,
     "metadata": {},
     "output_type": "execute_result"
    }
   ],
   "source": [
    "get_week_num()"
   ]
  },
  {
   "cell_type": "code",
   "execution_count": 26,
   "metadata": {},
   "outputs": [],
   "source": [
    "# def get_weekly_meta_scrape"
   ]
  },
  {
   "cell_type": "code",
   "execution_count": 27,
   "metadata": {},
   "outputs": [],
   "source": [
    "# spotify = SpotifyAPI(client_id, client_secret)\n",
    "\n",
    "# for al, ar in zip(artists, albums):\n",
    "#     temp = spotify.search({\"album\":al, \"artist\":ar}, search_type=\"album\")\n",
    "#     try:\n",
    "#         parse_album_ids = (temp[\"albums\"][\"items\"][0][\"id\"])\n",
    "#     except:\n",
    "#         albums_not_found['artist'].append(ar)\n",
    "#         albums_not_found['album'].append(al)\n",
    "#     album_ids.add(parse_album_ids)\n",
    "# # return album_ids, albums_not_fou"
   ]
  },
  {
   "cell_type": "code",
   "execution_count": 33,
   "metadata": {},
   "outputs": [
    {
     "name": "stdout",
     "output_type": "stream",
     "text": [
      "9\n"
     ]
    }
   ],
   "source": [
    "artists = []\n",
    "albums = []\n",
    "csv_path = os.path.join('..','..', 'data', 'test','test2.csv')\n",
    "with open(csv_path, newline='') as csvfile:\n",
    "    reader = csv.DictReader(csvfile)\n",
    "    for row in reader:\n",
    "        row['date']= (datetime.datetime.strptime(row['date'], '%B %d, %Y'))\n",
    "        row['week_num'] = row['date'].isocalendar()[1]\n",
    "        if row['week_num']==5:\n",
    "            artists.append(row['artist'])\n",
    "            albums.append(row['album'])\n"
   ]
  },
  {
   "cell_type": "code",
   "execution_count": 35,
   "metadata": {},
   "outputs": [
    {
     "name": "stdout",
     "output_type": "stream",
     "text": [
      "{'albums': {'href': 'https://api.spotify.com/v1/search?query=album%3AThe+Weather+Station+artist%3AIgnorance&type=album&offset=0&limit=20', 'items': [], 'limit': 20, 'next': None, 'offset': 0, 'previous': None, 'total': 0}}\n",
      "{}\n",
      "{'albums': {'href': 'https://api.spotify.com/v1/search?query=album%3ABlack+Country%2C+New+Road+artist%3AFor+the+First+Time&type=album&offset=0&limit=20', 'items': [], 'limit': 20, 'next': None, 'offset': 0, 'previous': None, 'total': 0}}\n",
      "{}\n",
      "{'albums': {'href': 'https://api.spotify.com/v1/search?query=album%3AAaron+Lee+Tasjan+artist%3ATasjan%21+Tasjan%21+Tasjan%21&type=album&offset=0&limit=20', 'items': [], 'limit': 20, 'next': None, 'offset': 0, 'previous': None, 'total': 0}}\n",
      "{}\n",
      "{'albums': {'href': 'https://api.spotify.com/v1/search?query=album%3AThe+Staves+artist%3AGood+Woman&type=album&offset=0&limit=20', 'items': [], 'limit': 20, 'next': None, 'offset': 0, 'previous': None, 'total': 0}}\n",
      "{}\n",
      "{'albums': {'href': 'https://api.spotify.com/v1/search?query=album%3APsychedelic+Porn+Crumpets+artist%3AShyga%21+The+Sunlight+Mound&type=album&offset=0&limit=20', 'items': [], 'limit': 20, 'next': None, 'offset': 0, 'previous': None, 'total': 0}}\n",
      "{}\n",
      "{'albums': {'href': 'https://api.spotify.com/v1/search?query=album%3AHayley+Williams+artist%3AFlowers+for+Vases%2Fdescansos&type=album&offset=0&limit=20', 'items': [], 'limit': 20, 'next': None, 'offset': 0, 'previous': None, 'total': 0}}\n",
      "{}\n",
      "{'albums': {'href': 'https://api.spotify.com/v1/search?query=album%3AJohn+Carpenter+artist%3ALost+Themes+III%3A+Alive+After+Death&type=album&offset=0&limit=20', 'items': [], 'limit': 20, 'next': None, 'offset': 0, 'previous': None, 'total': 0}}\n",
      "{}\n",
      "{'albums': {'href': 'https://api.spotify.com/v1/search?query=album%3AFoo+Fighters+artist%3AMedicine+at+Midnight&type=album&offset=0&limit=20', 'items': [], 'limit': 20, 'next': None, 'offset': 0, 'previous': None, 'total': 0}}\n",
      "{}\n",
      "{'albums': {'href': 'https://api.spotify.com/v1/search?query=album%3ATV+Priest+artist%3AUppers&type=album&offset=0&limit=20', 'items': [], 'limit': 20, 'next': None, 'offset': 0, 'previous': None, 'total': 0}}\n",
      "{}\n"
     ]
    }
   ],
   "source": [
    "albums_not_found = {\n",
    "    'artist':[],\n",
    "    'album':[]\n",
    "}\n",
    "album_ids = set()\n",
    "parse_album_ids = {}\n",
    "spotify = SpotifyAPI(client_id, client_secret)   \n",
    "for al, ar in zip(artists, albums):\n",
    "    temp = spotify.search({\"album\":al, \"artist\":ar}, search_type=\"album\")\n",
    "    print(temp)\n",
    "    try:\n",
    "        parse_album_ids = (temp[\"albums\"][\"items\"][0][\"id\"])\n",
    "    except:\n",
    "        pass\n",
    "    print(parse_album_ids)\n",
    "#         albums_not_found['artist'].append(ar)\n",
    "#         albums_not_found['album'].append(al)\n",
    "#     album_ids.add(parse_album_ids)"
   ]
  },
  {
   "cell_type": "code",
   "execution_count": null,
   "metadata": {},
   "outputs": [],
   "source": [
    "csv_path = os.path.join('..', '..', 'data', 'test', 'test.csv')\n",
    " \n",
    "data = pd.read_csv(csv_path)"
   ]
  },
  {
   "cell_type": "code",
   "execution_count": null,
   "metadata": {},
   "outputs": [],
   "source": [
    "data['date'] = pd.to_datetime(data['date']) "
   ]
  },
  {
   "cell_type": "code",
   "execution_count": null,
   "metadata": {},
   "outputs": [],
   "source": [
    "data['weekNumber'] = data['date'].dt.week "
   ]
  },
  {
   "cell_type": "code",
   "execution_count": null,
   "metadata": {},
   "outputs": [],
   "source": [
    "data\n"
   ]
  },
  {
   "cell_type": "code",
   "execution_count": null,
   "metadata": {},
   "outputs": [],
   "source": [
    "data.groupby(['date'])\n",
    "data"
   ]
  },
  {
   "cell_type": "code",
   "execution_count": null,
   "metadata": {},
   "outputs": [],
   "source": [
    "d"
   ]
  }
 ],
 "metadata": {
  "kernelspec": {
   "display_name": "Python 3",
   "language": "python",
   "name": "python3"
  },
  "language_info": {
   "codemirror_mode": {
    "name": "ipython",
    "version": 3
   },
   "file_extension": ".py",
   "mimetype": "text/x-python",
   "name": "python",
   "nbconvert_exporter": "python",
   "pygments_lexer": "ipython3",
   "version": "3.7.4"
  }
 },
 "nbformat": 4,
 "nbformat_minor": 2
}
