{
 "cells": [
  {
   "cell_type": "code",
   "execution_count": 9,
   "metadata": {},
   "outputs": [],
   "source": [
    "import os\n",
    "import datetime\n",
    "import csv\n",
    "from spotify_client import *\n",
    "from config import client_id, client_secret, spotify_user_id"
   ]
  },
  {
   "cell_type": "code",
   "execution_count": 10,
   "metadata": {},
   "outputs": [],
   "source": [
    "def get_week_num():\n",
    "    my_date = datetime.date.today() \n",
    "    year, week_num, day_of_week = my_date.isocalendar()    \n",
    "    return week_num"
   ]
  },
  {
   "cell_type": "code",
   "execution_count": 11,
   "metadata": {},
   "outputs": [
    {
     "data": {
      "text/plain": [
       "7"
      ]
     },
     "execution_count": 11,
     "metadata": {},
     "output_type": "execute_result"
    }
   ],
   "source": [
    "get_week_num()"
   ]
  },
  {
   "cell_type": "code",
   "execution_count": 12,
   "metadata": {},
   "outputs": [],
   "source": [
    "# def get_weekly_meta_scrape"
   ]
  },
  {
   "cell_type": "code",
   "execution_count": 13,
   "metadata": {},
   "outputs": [],
   "source": [
    "# spotify = SpotifyAPI(client_id, client_secret)\n",
    "\n",
    "# for al, ar in zip(artists, albums):\n",
    "#     temp = spotify.search({\"album\":al, \"artist\":ar}, search_type=\"album\")\n",
    "#     try:\n",
    "#         parse_album_ids = (temp[\"albums\"][\"items\"][0][\"id\"])\n",
    "#     except:\n",
    "#         albums_not_found['artist'].append(ar)\n",
    "#         albums_not_found['album'].append(al)\n",
    "#     album_ids.add(parse_album_ids)\n",
    "# # return album_ids, albums_not_fou"
   ]
  },
  {
   "cell_type": "code",
   "execution_count": 15,
   "metadata": {},
   "outputs": [
    {
     "name": "stdout",
     "output_type": "stream",
     "text": [
      "The Hold Steady\n",
      "Mogwai\n",
      "Ghetts\n",
      "nothing,nowhere.\n",
      "Katy Kirby\n",
      "SG Lewis\n",
      "Wild Pink\n",
      "Cassandra Jenkins\n",
      "Tindersticks\n",
      "The Hold Steady\n",
      "Mogwai\n",
      "Ghetts\n",
      "nothing,nowhere.\n",
      "Katy Kirby\n",
      "SG Lewis\n",
      "Wild Pink\n",
      "Cassandra Jenkins\n",
      "Tindersticks\n"
     ]
    }
   ],
   "source": [
    "artists = []\n",
    "albums = []\n",
    "csv_path = os.path.join('..','..', 'data', 'test','test2.csv')\n",
    "week_num = get_week_num()\n",
    "with open(csv_path, newline='') as csvfile:\n",
    "    reader = csv.DictReader(csvfile)\n",
    "    for row in reader:\n",
    "        if int(row['week_num'])==week_num:\n",
    "            print(row['artist'])\n",
    "            print(row['album'])"
   ]
  },
  {
   "cell_type": "code",
   "execution_count": null,
   "metadata": {},
   "outputs": [],
   "source": [
    "albums_not_found = {\n",
    "    'artist':[],\n",
    "    'album':[]\n",
    "}\n",
    "album_ids = set()\n",
    "parse_album_ids = {}\n",
    "spotify = SpotifyAPI(client_id, client_secret)   \n",
    "for al, ar in zip(artists, albums):\n",
    "    temp = spotify.search({\"album\":al, \"artist\":ar}, search_type=\"album\")\n",
    "    print(temp)\n",
    "    try:\n",
    "        parse_album_ids = (temp[\"albums\"][\"items\"][0][\"id\"])\n",
    "    except:\n",
    "        pass\n",
    "    print(parse_album_ids)\n",
    "#         albums_not_found['artist'].append(ar)\n",
    "#         albums_not_found['album'].append(al)\n",
    "#     album_ids.add(parse_album_ids)"
   ]
  },
  {
   "cell_type": "code",
   "execution_count": null,
   "metadata": {},
   "outputs": [],
   "source": [
    "csv_path = os.path.join('..', '..', 'data', 'test', 'test.csv')\n",
    " \n",
    "data = pd.read_csv(csv_path)"
   ]
  },
  {
   "cell_type": "code",
   "execution_count": null,
   "metadata": {},
   "outputs": [],
   "source": [
    "data['date'] = pd.to_datetime(data['date']) "
   ]
  },
  {
   "cell_type": "code",
   "execution_count": null,
   "metadata": {},
   "outputs": [],
   "source": [
    "data['weekNumber'] = data['date'].dt.week "
   ]
  },
  {
   "cell_type": "code",
   "execution_count": null,
   "metadata": {},
   "outputs": [],
   "source": [
    "data\n"
   ]
  },
  {
   "cell_type": "code",
   "execution_count": null,
   "metadata": {},
   "outputs": [],
   "source": [
    "data.groupby(['date'])\n",
    "data"
   ]
  },
  {
   "cell_type": "code",
   "execution_count": null,
   "metadata": {},
   "outputs": [],
   "source": [
    "d"
   ]
  }
 ],
 "metadata": {
  "kernelspec": {
   "display_name": "Python 3",
   "language": "python",
   "name": "python3"
  },
  "language_info": {
   "codemirror_mode": {
    "name": "ipython",
    "version": 3
   },
   "file_extension": ".py",
   "mimetype": "text/x-python",
   "name": "python",
   "nbconvert_exporter": "python",
   "pygments_lexer": "ipython3",
   "version": "3.7.4"
  }
 },
 "nbformat": 4,
 "nbformat_minor": 2
}
