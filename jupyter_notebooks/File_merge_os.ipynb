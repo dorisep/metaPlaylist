{
 "cells": [
  {
   "cell_type": "code",
   "execution_count": 27,
   "metadata": {},
   "outputs": [
    {
     "name": "stdout",
     "output_type": "stream",
     "text": [
      "Verify consolidated CSV file : ../merged_files/merged_meta.csv\n"
     ]
    }
   ],
   "source": [
    "import os\n",
    "'''\n",
    "Finds files and merges. Adds header as last line. \n",
    "A file from 2021.csv might be the culprit. \n",
    "Need to debug\n",
    "'''\n",
    "csv_header = 'artist, album, date, meta_score, user_score'\n",
    "csv_out = 'meta2000_2020.csv'\n",
    "\n",
    "csv_dir = os.path.join('..', 'data')\n",
    "csv_out = os.path.join('..', 'merged_files', 'merged_meta.csv')\n",
    "dir_tree = os.walk(csv_dir)\n",
    "for dirpath, dirnames, filenames in dir_tree:\n",
    "    pass\n",
    "csv_list = []\n",
    "for file in filenames:\n",
    "    if file.endswith('.csv'):\n",
    "        csv_list.append(file)\n",
    "csv_merge = open(csv_out, 'w')\n",
    "# csv_merge.write(csv_header)\n",
    "# csv_merge.write('\\n')\n",
    "for file in csv_list:\n",
    "    csv_in = open(csv_dir+ \"/\" + file)\n",
    "    for line in csv_in:\n",
    "#         if line.startswith(csv_header):\n",
    "#             continue\n",
    "        csv_merge.write(line)\n",
    "csv_in.close()\n",
    "csv_merge.close()\n",
    "print('Verify consolidated CSV file : ' + csv_out)"
   ]
  },
  {
   "cell_type": "code",
   "execution_count": null,
   "metadata": {},
   "outputs": [],
   "source": []
  }
 ],
 "metadata": {
  "kernelspec": {
   "display_name": "Python 3",
   "language": "python",
   "name": "python3"
  },
  "language_info": {
   "codemirror_mode": {
    "name": "ipython",
    "version": 3
   },
   "file_extension": ".py",
   "mimetype": "text/x-python",
   "name": "python",
   "nbconvert_exporter": "python",
   "pygments_lexer": "ipython3",
   "version": "3.7.4"
  }
 },
 "nbformat": 4,
 "nbformat_minor": 2
}
