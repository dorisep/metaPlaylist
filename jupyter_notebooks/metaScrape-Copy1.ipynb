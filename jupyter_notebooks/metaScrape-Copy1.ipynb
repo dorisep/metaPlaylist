{
 "cells": [
  {
   "cell_type": "code",
   "execution_count": 1,
   "metadata": {},
   "outputs": [],
   "source": [
    "#Dependencies\n",
    "import json\n",
    "import requests\n",
    "from bs4 import BeautifulSoup\n",
    "import pandas as pd\n",
    "import os\n",
    "import csv"
   ]
  },
  {
   "cell_type": "code",
   "execution_count": 2,
   "metadata": {},
   "outputs": [],
   "source": [
    "page = 0"
   ]
  },
  {
   "cell_type": "code",
   "execution_count": 4,
   "metadata": {},
   "outputs": [],
   "source": [
    "def metaScorePages():    \n",
    "    # find number of pages for albums 2020\n",
    "    url_pages = 'https://www.metacritic.com/browse/albums/score/metascore/year/filtered?year_selected=2020&distribution=&sort=desc&view=detailed'\n",
    "    # set user agent for header\n",
    "    user_agent = {'User-agent': 'Mozilla/5.0'}\n",
    "    # send response\n",
    "    response_pages = requests.get(url_pages, headers = user_agent)\n",
    "    # scrape website into variable to parse\n",
    "    soup_pages = BeautifulSoup(response_pages.text, 'html.parser')\n",
    "    # print(soup_pages)\n",
    "    # create temporary lists for user scores\n",
    "\n",
    "    pages = [0,1,2,3,4]\n",
    "\n",
    "    for page in pages:\n",
    "        page_num = page - 1\n",
    "        metascrape(page_num)\n",
    "    "
   ]
  },
  {
   "cell_type": "code",
   "execution_count": null,
   "metadata": {},
   "outputs": [],
   "source": []
  },
  {
   "cell_type": "code",
   "execution_count": 3,
   "metadata": {},
   "outputs": [
    {
     "ename": "NameError",
     "evalue": "name 'metascrape' is not defined",
     "output_type": "error",
     "traceback": [
      "\u001b[0;31m---------------------------------------------------------------------------\u001b[0m",
      "\u001b[0;31mNameError\u001b[0m                                 Traceback (most recent call last)",
      "\u001b[0;32m<ipython-input-3-509a9989aee6>\u001b[0m in \u001b[0;36m<module>\u001b[0;34m\u001b[0m\n\u001b[0;32m----> 1\u001b[0;31m \u001b[0mmetaScorePages\u001b[0m\u001b[0;34m(\u001b[0m\u001b[0;34m)\u001b[0m\u001b[0;34m\u001b[0m\u001b[0;34m\u001b[0m\u001b[0m\n\u001b[0m",
      "\u001b[0;32m<ipython-input-2-b956c3666505>\u001b[0m in \u001b[0;36mmetaScorePages\u001b[0;34m()\u001b[0m\n\u001b[1;32m     15\u001b[0m     \u001b[0;32mfor\u001b[0m \u001b[0mpage\u001b[0m \u001b[0;32min\u001b[0m \u001b[0mpages\u001b[0m\u001b[0;34m:\u001b[0m\u001b[0;34m\u001b[0m\u001b[0;34m\u001b[0m\u001b[0m\n\u001b[1;32m     16\u001b[0m         \u001b[0mpage_num\u001b[0m \u001b[0;34m=\u001b[0m \u001b[0mpage\u001b[0m \u001b[0;34m-\u001b[0m \u001b[0;36m1\u001b[0m\u001b[0;34m\u001b[0m\u001b[0;34m\u001b[0m\u001b[0m\n\u001b[0;32m---> 17\u001b[0;31m         \u001b[0mmetascrape\u001b[0m\u001b[0;34m(\u001b[0m\u001b[0mpage_num\u001b[0m\u001b[0;34m)\u001b[0m\u001b[0;34m\u001b[0m\u001b[0;34m\u001b[0m\u001b[0m\n\u001b[0m\u001b[1;32m     18\u001b[0m \u001b[0;34m\u001b[0m\u001b[0m\n",
      "\u001b[0;31mNameError\u001b[0m: name 'metascrape' is not defined"
     ]
    }
   ],
   "source": [
    "metaScorePages()"
   ]
  },
  {
   "cell_type": "code",
   "execution_count": 5,
   "metadata": {},
   "outputs": [],
   "source": [
    "\n",
    "def metaScrape():\n",
    "\n",
    "    # request variables\n",
    "    url_score = f'https://www.metacritic.com/browse/albums/score/metascore/year/filtered?year_selected=2020&distribution=&sort=desc&view=detailed&page=4'\n",
    "    # bs4 variables\n",
    "    \n",
    "    # set user agent for header\n",
    "    user_agent = {'User-agent': 'Mozilla/5.0'}\n",
    "    # send response\n",
    "    response_score = requests.get(url_score, headers = user_agent)\n",
    "    # scrape website into variable to parse\n",
    "    soup_score = BeautifulSoup(response_score.text, 'html.parser')\n",
    "    # create temporary lists for user scores\n",
    "    userP = []\n",
    "    userM = []\n",
    "    userN = []\n",
    "    # create/initialize dictionary \n",
    "    albums_dict = {'artist':[], 'album':[], 'date':[], 'meta_score': [], 'user_score':[]}\n",
    "    # csv variables\n",
    "    output_path = os.path.join('..', 'data', 'albums_2021.csv')\n",
    "    soup_score.find_all('td', class_='clamp-summary-wrap')\n",
    "    # create soup \n",
    "    for artist in soup_score.find_all('td', class_='clamp-summary-wrap'):\n",
    "\n",
    "        # scrape album name\n",
    "        albums_dict['album'].append(artist.find('a', class_= 'title').text)\n",
    "        # scrape artist name and strip white space and extra characters\n",
    "\n",
    "    # write dictionary to csv\n",
    "    # create header\n",
    "    fields = ['artist', 'album', 'date', 'meta_score', 'user_score'] \n",
    "    # create variable for data to be written\n",
    "    data = zip(albums_dict['artist'], albums_dict['album'], albums_dict['date'], albums_dict['meta_score'], albums_dict['user_score'])\n",
    "    # create file and write csv\n",
    "    \n",
    "    with open(output_path, 'w') as csvfile:\n",
    "        writer = csv.writer(csvfile)\n",
    "        writer.writerow(fields)\n"
   ]
  },
  {
   "cell_type": "code",
   "execution_count": 6,
   "metadata": {},
   "outputs": [],
   "source": [
    "metaScrape()"
   ]
  },
  {
   "cell_type": "code",
   "execution_count": null,
   "metadata": {},
   "outputs": [],
   "source": [
    "for page in (pages):\n",
    "    metascrape(page)\n"
   ]
  },
  {
   "cell_type": "code",
   "execution_count": null,
   "metadata": {},
   "outputs": [],
   "source": [
    "\n",
    "import os"
   ]
  },
  {
   "cell_type": "code",
   "execution_count": null,
   "metadata": {},
   "outputs": [],
   "source": [
    "file_path = os.path.join('..', 'data', 'albums_2020.csv')"
   ]
  },
  {
   "cell_type": "code",
   "execution_count": null,
   "metadata": {},
   "outputs": [],
   "source": [
    "isFile= os.path.isfile(file_path)"
   ]
  },
  {
   "cell_type": "code",
   "execution_count": null,
   "metadata": {},
   "outputs": [],
   "source": [
    "print(isFile)"
   ]
  },
  {
   "cell_type": "code",
   "execution_count": null,
   "metadata": {},
   "outputs": [],
   "source": [
    "if isfile != true:\n",
    "    if page_num == 0:    \n",
    "        with open(file_path, 'w') as csvfile:\n",
    "            writer = csv.writer(csvfile)\n",
    "            writer.writerow(fields)\n",
    "            for d in data:\n",
    "                writer.writerow(d)\n",
    "    else:\n",
    "        with open(file_path, 'a') as csvfile:\n",
    "            writer = csv.writer(csvfile)\n",
    "            writer.writerow(fields)\n",
    "            for d in data:\n",
    "                writer.writerow(d)"
   ]
  },
  {
   "cell_type": "code",
   "execution_count": null,
   "metadata": {},
   "outputs": [],
   "source": [
    "list = [1,2,3,4,5]"
   ]
  },
  {
   "cell_type": "code",
   "execution_count": null,
   "metadata": {},
   "outputs": [],
   "source": [
    "for x in list:\n",
    "    print(x)"
   ]
  },
  {
   "cell_type": "code",
   "execution_count": null,
   "metadata": {},
   "outputs": [],
   "source": []
  }
 ],
 "metadata": {
  "kernelspec": {
   "display_name": "Python 3",
   "language": "python",
   "name": "python3"
  },
  "language_info": {
   "codemirror_mode": {
    "name": "ipython",
    "version": 3
   },
   "file_extension": ".py",
   "mimetype": "text/x-python",
   "name": "python",
   "nbconvert_exporter": "python",
   "pygments_lexer": "ipython3",
   "version": "3.7.4"
  }
 },
 "nbformat": 4,
 "nbformat_minor": 2
}
