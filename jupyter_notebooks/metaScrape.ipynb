{
 "cells": [
  {
   "cell_type": "code",
   "execution_count": 54,
   "metadata": {},
   "outputs": [],
   "source": [
    "#Dependencies\n",
    "import requests\n",
    "from bs4 import BeautifulSoup\n",
    "import pandas as pd\n",
    "import os\n",
    "import csv"
   ]
  },
  {
   "cell_type": "code",
   "execution_count": 58,
   "metadata": {},
   "outputs": [],
   "source": [
    "# find number of pages for albums 2020\n",
    "url_pages = 'https://www.metacritic.com/browse/albums/score/metascore/year/filtered'\n",
    "# set user agent for header\n",
    "user_agent = {'User-agent': 'Mozilla/5.0'}\n",
    "# send response\n",
    "response_pages = requests.get(url, headers = user_agent)\n",
    "# scrape website into variable to parse\n",
    "soup_pages = BeautifulSoup(response_pages.text, 'html.parser')\n",
    "# create temporary lists for user scores\n",
    "pages = int(soup_pages.find('li', class_='page last_page').text)\n",
    "\n",
    "# print(pages)\n",
    "for page_num in range(pages):\n",
    "    metaScrape(str(page_num))"
   ]
  },
  {
   "cell_type": "code",
   "execution_count": 57,
   "metadata": {},
   "outputs": [],
   "source": [
    "def metaScrape(page_num):\n",
    "\n",
    "    # request variables\n",
    "    url_score = f'https://www.metacritic.com/browse/albums/score/metascore/year/filtered?page={page_num}'\n",
    "    # bs4 variables\n",
    "    \n",
    "    # set user agent for header\n",
    "    user_agent = {'User-agent': 'Mozilla/5.0'}\n",
    "    # send response\n",
    "    response_score = requests.get(url_score, headers = user_agent)\n",
    "    # scrape website into variable to parse\n",
    "    soup_score = BeautifulSoup(response_score.text, 'html.parser')\n",
    "    # create temporary lists for user scores\n",
    "    userP = []\n",
    "    userM = []\n",
    "    userN = []\n",
    "    # create/initialize dictionary \n",
    "    albums_dict = {'artist':[], 'album':[], 'date':[], 'meta_score': [], 'user_score':[]}\n",
    "    # csv variables\n",
    "    output_path = os.path.join('..', 'data', 'albums_2020.csv')\n",
    "\n",
    "    # create soup \n",
    "    for artist in soup.find_all('td', class_='clamp-summary-wrap'):\n",
    "        # scrape album name\n",
    "        albums_dict['album'].append(artist.find('a', class_= 'title').text)\n",
    "        # scrape artist name and strip white space and extra characters\n",
    "        albums_dict['artist'].append(artist.find('div', class_='artist').text.strip().strip(\"by \"))\n",
    "        # scrape date\n",
    "        albums_dict['date'].append(artist.find('div', class_='clamp-details').find('span').text)\n",
    "        # scrape meta_score, handle for changes in class name, convert data type of score to int and append to dict\n",
    "        # except set to pass since all alubms have a score \n",
    "        try:\n",
    "            albums_dict['meta_score'].append(int(artist.find('div', class_='metascore_w large release positive').text))  \n",
    "        except:\n",
    "            pass\n",
    "        try:\n",
    "            albums_dict['meta_score'].append(int(artist.find('div', class_='metascore_w large release mixed').text))  \n",
    "        except:\n",
    "            pass \n",
    "        try:\n",
    "            albums_dict['meta_score'].append(int(artist.find('div', class_='metascore_w large release negative').text))  \n",
    "        except:\n",
    "            pass\n",
    "        # scrape user score, handle errors for tbd/class name and append to temp list\n",
    "        try:\n",
    "            userP.append(float(artist.find('div', class_='metascore_w user large release positive').text))  \n",
    "        except:\n",
    "            userP.append(\"tbd\")\n",
    "        try:\n",
    "            userM.append(float(artist.find('div', class_='metascore_w user large release mixed').text))  \n",
    "        except:\n",
    "            userM.append(\"tbd\")\n",
    "        try:\n",
    "            userN.append(float(artist.find('div', class_='metascore_w user large release negative').text))  \n",
    "        except:\n",
    "            userN.append(\"tbd\")\n",
    "    # merge user score by filtering scores from tbd using data type in temporary lists, convert data type of scores to int and append to dictionary        \n",
    "    for a, b, c in zip(userP, userM, userN):\n",
    "        if isinstance(a, float):\n",
    "            albums_dict['user_score'].append(int(a * 10))\n",
    "        elif isinstance(b, float):\n",
    "            albums_dict['user_score'].append(int(b * 10))\n",
    "        elif isinstance(c, float):\n",
    "            albums_dict['user_score'].append(int(c * 10))\n",
    "        else:\n",
    "            albums_dict['user_score'].append(c)\n",
    "\n",
    "    # write dictionary to csv\n",
    "    # create header\n",
    "    fields = ['artist', 'album', 'date', 'meta_score', 'user_score'] \n",
    "    # create variable for data to be written\n",
    "    data = zip(albums_dict['artist'], albums_dict['album'], albums_dict['date'], albums_dict['meta_score'], albums_dict['user_score'])\n",
    "    # create file and write csv\n",
    "    if page_num == 0:    \n",
    "        with open(output_path, 'w') as csvfile:\n",
    "            writer = csv.writer(csvfile)\n",
    "            writer.writerow(fields)\n",
    "            for d in data:\n",
    "                writer.writerow(d)\n",
    "    else:\n",
    "        with open(output_path, 'a') as csvfile:\n",
    "            writer = csv.writer(csvfile)\n",
    "            writer.writerow(fields)\n",
    "            for d in data:\n",
    "                writer.writerow(d)"
   ]
  },
  {
   "cell_type": "code",
   "execution_count": 38,
   "metadata": {},
   "outputs": [
    {
     "ename": "TypeError",
     "evalue": "metaScrape() takes 0 positional arguments but 1 was given",
     "output_type": "error",
     "traceback": [
      "\u001b[0;31m---------------------------------------------------------------------------\u001b[0m",
      "\u001b[0;31mTypeError\u001b[0m                                 Traceback (most recent call last)",
      "\u001b[0;32m<ipython-input-38-5924172dee52>\u001b[0m in \u001b[0;36m<module>\u001b[0;34m\u001b[0m\n\u001b[0;32m----> 1\u001b[0;31m \u001b[0mmetaScrape\u001b[0m\u001b[0;34m(\u001b[0m\u001b[0;34m)\u001b[0m\u001b[0;34m\u001b[0m\u001b[0;34m\u001b[0m\u001b[0m\n\u001b[0m",
      "\u001b[0;32m<ipython-input-37-efe03eec3158>\u001b[0m in \u001b[0;36mmetaScrape\u001b[0;34m()\u001b[0m\n\u001b[1;32m     11\u001b[0m     \u001b[0mpages\u001b[0m \u001b[0;34m=\u001b[0m \u001b[0mint\u001b[0m\u001b[0;34m(\u001b[0m\u001b[0msoup_pages\u001b[0m\u001b[0;34m.\u001b[0m\u001b[0mfind\u001b[0m\u001b[0;34m(\u001b[0m\u001b[0;34m'li'\u001b[0m\u001b[0;34m,\u001b[0m \u001b[0mclass_\u001b[0m\u001b[0;34m=\u001b[0m\u001b[0;34m'page last_page'\u001b[0m\u001b[0;34m)\u001b[0m\u001b[0;34m.\u001b[0m\u001b[0mtext\u001b[0m\u001b[0;34m)\u001b[0m\u001b[0;34m\u001b[0m\u001b[0;34m\u001b[0m\u001b[0m\n\u001b[1;32m     12\u001b[0m     \u001b[0;32mfor\u001b[0m \u001b[0mpage_num\u001b[0m \u001b[0;32min\u001b[0m \u001b[0mrange\u001b[0m\u001b[0;34m(\u001b[0m\u001b[0mpages\u001b[0m\u001b[0;34m)\u001b[0m\u001b[0;34m:\u001b[0m\u001b[0;34m\u001b[0m\u001b[0;34m\u001b[0m\u001b[0m\n\u001b[0;32m---> 13\u001b[0;31m         \u001b[0mmetaScrape\u001b[0m\u001b[0;34m(\u001b[0m\u001b[0mstr\u001b[0m\u001b[0;34m(\u001b[0m\u001b[0mpage_num\u001b[0m\u001b[0;34m)\u001b[0m\u001b[0;34m)\u001b[0m\u001b[0;34m\u001b[0m\u001b[0;34m\u001b[0m\u001b[0m\n\u001b[0m\u001b[1;32m     14\u001b[0m \u001b[0;34m\u001b[0m\u001b[0m\n\u001b[1;32m     15\u001b[0m     \u001b[0;31m# scrape scores\u001b[0m\u001b[0;34m\u001b[0m\u001b[0;34m\u001b[0m\u001b[0;34m\u001b[0m\u001b[0m\n",
      "\u001b[0;31mTypeError\u001b[0m: metaScrape() takes 0 positional arguments but 1 was given"
     ]
    }
   ],
   "source": [
    "metaScrape()"
   ]
  },
  {
   "cell_type": "code",
   "execution_count": null,
   "metadata": {},
   "outputs": [],
   "source": []
  }
 ],
 "metadata": {
  "kernelspec": {
   "display_name": "Python 3",
   "language": "python",
   "name": "python3"
  },
  "language_info": {
   "codemirror_mode": {
    "name": "ipython",
    "version": 3
   },
   "file_extension": ".py",
   "mimetype": "text/x-python",
   "name": "python",
   "nbconvert_exporter": "python",
   "pygments_lexer": "ipython3",
   "version": "3.7.4"
  }
 },
 "nbformat": 4,
 "nbformat_minor": 2
}
