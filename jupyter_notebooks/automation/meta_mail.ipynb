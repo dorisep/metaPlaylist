{
 "cells": [
  {
   "cell_type": "code",
   "execution_count": 13,
   "metadata": {},
   "outputs": [],
   "source": [
    "import email, smtplib, ssl\n",
    "from email import encoders\n",
    "from email.mime.base import MIMEBase\n",
    "from email.mime.multipart import MIMEMultipart\n",
    "from email.mime.text import MIMEText\n",
    "\n",
    "subject = 'New Albums This Week - email automation test-take 2'\n",
    "body = 'This is a test for the email informing you of the new albums released this week./n Meant to test automation and send this automatically in the morning.'\n",
    "sender_email = 'ed.doris@gmail.com'\n",
    "receiver_email = 'braedenlynn@gmail.com'\n",
    "password = 'dqmptmojjxazrixo'\n",
    "\n",
    "email = MIMEMultipart()\n",
    "email[\"From\"] = sender_email\n",
    "email[\"To\"] = receiver_email \n",
    "email[\"Subject\"] = subject\n",
    "\n",
    "email.attach(MIMEText(body, \"plain\"))\n",
    "# attach_file = open(file, \"rb\") # open the file\n",
    "# report = MIMEBase(\"application\", \"octate-stream\")\n",
    "# report.set_payload((attach_file).read())\n",
    "# encoders.encode_base64(report)\n",
    "# #add report header with the file name\n",
    "# report.add_header(\"Content-Decomposition\", \"attachment\", filename = file)\n",
    "# email.attach(report)\n",
    "\n",
    "session = smtplib.SMTP('smtp.gmail.com', 587) #use gmail with port\n",
    "session.starttls() #enable security\n",
    "session.login(sender_email, password) #login with mail_id and password\n",
    "text = email.as_string()\n",
    "session.sendmail(sender_email, receiver_email, text)\n",
    "session.quit()\n",
    "print('Mail Sent')"
   ]
  },
  {
   "cell_type": "code",
   "execution_count": null,
   "metadata": {},
   "outputs": [],
   "source": []
  }
 ],
 "metadata": {
  "kernelspec": {
   "display_name": "Python 3",
   "language": "python",
   "name": "python3"
  },
  "language_info": {
   "codemirror_mode": {
    "name": "ipython",
    "version": 3
   },
   "file_extension": ".py",
   "mimetype": "text/x-python",
   "name": "python",
   "nbconvert_exporter": "python",
   "pygments_lexer": "ipython3",
   "version": "3.7.4"
  }
 },
 "nbformat": 4,
 "nbformat_minor": 2
}
